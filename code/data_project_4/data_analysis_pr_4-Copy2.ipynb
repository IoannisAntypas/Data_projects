{
 "cells": [
  {
   "cell_type": "code",
   "execution_count": 1,
   "metadata": {
    "collapsed": true
   },
   "outputs": [],
   "source": [
    "import pandas as pd\n",
    "import glob\n",
    "from sklearn.feature_extraction.text import TfidfVectorizer\n",
    "from textblob import TextBlob\n",
    "from sklearn.feature_extraction import stop_words\n",
    "%matplotlib inline\n",
    "import matplotlib.pyplot as plt\n",
    "import seaborn as sns\n",
    "import datetime\n",
    "from datetime import datetime\n",
    "import time\n",
    "import numpy as np\n",
    "from datetime import datetime, timedelta\n"
   ]
  },
  {
   "cell_type": "code",
   "execution_count": 114,
   "metadata": {
    "collapsed": true
   },
   "outputs": [],
   "source": [
    "from textblob import TextBlob\n",
    "\n",
    "def textblob_tokenizer(str_input):\n",
    "    blob = TextBlob(str_input.lower())\n",
    "    tokens = blob.words\n",
    "    words = [token.stem() for token in tokens]\n",
    "    return words\n",
    "\n"
   ]
  },
  {
   "cell_type": "code",
   "execution_count": 3,
   "metadata": {
    "collapsed": true
   },
   "outputs": [],
   "source": [
    "import requests\n",
    "import bs4\n",
    "import os\n",
    "\n",
    "base_url = \"http://www.presidency.ucsb.edu/\"\n",
    "speech_list = \"http://www.presidency.ucsb.edu/2016_election_speeches.php?candidate=45&campaign=2016TRUMP&doctype=5000\"\n",
    "if not os.path.isdir('data'):\n",
    "   os.mkdir('data')\n",
    "\n",
    "\n",
    "\n",
    "# Grab page\n",
    "res = requests.get(speech_list)\n",
    "scrape = bs4.BeautifulSoup(res.text, 'lxml')\n",
    "elements1 = scrape.select('td.listdate')\n",
    "links1 = []\n",
    "for i in elements1:\n",
    "  links1.append(i.text)\n",
    "links2 =[]\n",
    "links2.append(links1[1::3])\n",
    "elems = scrape.select('td.listdate a')\n",
    "links = []\n",
    "\n",
    "for e in elems:\n",
    "    links.append((e.text, e.attrs['href']))\n",
    "speeches = []\n",
    "for idx, link in enumerate(links):\n",
    "#     print(\"Grabbing speech: \", idx + 1)\n",
    "    url = base_url + link[1][3:]\n",
    "    res = requests.get(url)\n",
    "    scrape = bs4.BeautifulSoup(res.text, 'lxml')\n",
    "    speech = scrape.select('span.displaytext')[0].text.encode('utf-8')\n",
    "    speeches.append(speech)\n",
    "\n",
    "d = {'title' : pd.Series([l for l in links]),\n",
    "     'dates' : pd.Series(links2[0]),\n",
    "     'link' : pd.Series([base_url + l[1][3:] for l in links]),\n",
    "     'speech': pd.Series(speeches)}\n",
    "df = pd.DataFrame(d)\n",
    "df = df.drop(['link', 'title'], 1)\n",
    "\n",
    "\n"
   ]
  },
  {
   "cell_type": "code",
   "execution_count": 4,
   "metadata": {},
   "outputs": [
    {
     "data": {
      "text/html": [
       "<div>\n",
       "<style>\n",
       "    .dataframe thead tr:only-child th {\n",
       "        text-align: right;\n",
       "    }\n",
       "\n",
       "    .dataframe thead th {\n",
       "        text-align: left;\n",
       "    }\n",
       "\n",
       "    .dataframe tbody tr th {\n",
       "        vertical-align: top;\n",
       "    }\n",
       "</style>\n",
       "<table border=\"1\" class=\"dataframe\">\n",
       "  <thead>\n",
       "    <tr style=\"text-align: right;\">\n",
       "      <th></th>\n",
       "      <th>dates</th>\n",
       "      <th>speech</th>\n",
       "    </tr>\n",
       "  </thead>\n",
       "  <tbody>\n",
       "    <tr>\n",
       "      <th>0</th>\n",
       "      <td>June 16, 2015</td>\n",
       "      <td>b'Trump: Wow. Whoa. That is some group of peop...</td>\n",
       "    </tr>\n",
       "    <tr>\n",
       "      <th>1</th>\n",
       "      <td>March 21, 2016</td>\n",
       "      <td>b' Good evening. Thank you very much. I speak ...</td>\n",
       "    </tr>\n",
       "    <tr>\n",
       "      <th>2</th>\n",
       "      <td>April 27, 2016</td>\n",
       "      <td>b'Thank you for the opportunity to speak to yo...</td>\n",
       "    </tr>\n",
       "    <tr>\n",
       "      <th>3</th>\n",
       "      <td>June 13, 2016</td>\n",
       "      <td>b'Thank you for joining me today.This was goin...</td>\n",
       "    </tr>\n",
       "    <tr>\n",
       "      <th>4</th>\n",
       "      <td>June 22, 2016</td>\n",
       "      <td>b'Today I\\'d like to share my thoughts about t...</td>\n",
       "    </tr>\n",
       "  </tbody>\n",
       "</table>\n",
       "</div>"
      ],
      "text/plain": [
       "            dates                                             speech\n",
       "0   June 16, 2015  b'Trump: Wow. Whoa. That is some group of peop...\n",
       "1  March 21, 2016  b' Good evening. Thank you very much. I speak ...\n",
       "2  April 27, 2016  b'Thank you for the opportunity to speak to yo...\n",
       "3   June 13, 2016  b'Thank you for joining me today.This was goin...\n",
       "4   June 22, 2016  b'Today I\\'d like to share my thoughts about t..."
      ]
     },
     "execution_count": 4,
     "metadata": {},
     "output_type": "execute_result"
    }
   ],
   "source": [
    "trump_df = df\n",
    "trump_df.head()"
   ]
  },
  {
   "cell_type": "code",
   "execution_count": 115,
   "metadata": {
    "collapsed": true
   },
   "outputs": [],
   "source": [
    "dijsselbloem_df = pd.read_csv(\"Dijsselbloem.csv\")\n",
    "\n"
   ]
  },
  {
   "cell_type": "code",
   "execution_count": 116,
   "metadata": {},
   "outputs": [
    {
     "data": {
      "text/html": [
       "<div>\n",
       "<style>\n",
       "    .dataframe thead tr:only-child th {\n",
       "        text-align: right;\n",
       "    }\n",
       "\n",
       "    .dataframe thead th {\n",
       "        text-align: left;\n",
       "    }\n",
       "\n",
       "    .dataframe tbody tr th {\n",
       "        vertical-align: top;\n",
       "    }\n",
       "</style>\n",
       "<table border=\"1\" class=\"dataframe\">\n",
       "  <thead>\n",
       "    <tr style=\"text-align: right;\">\n",
       "      <th></th>\n",
       "      <th>Speaker</th>\n",
       "      <th>date</th>\n",
       "      <th>speech</th>\n",
       "      <th>Link</th>\n",
       "    </tr>\n",
       "  </thead>\n",
       "  <tbody>\n",
       "    <tr>\n",
       "      <th>37</th>\n",
       "      <td>Common</td>\n",
       "      <td>05.22.2017</td>\n",
       "      <td>The Eurogroup welcomed the preliminary agreeme...</td>\n",
       "      <td>http://www.consilium.europa.eu/en/meetings/eur...</td>\n",
       "    </tr>\n",
       "    <tr>\n",
       "      <th>38</th>\n",
       "      <td>Common</td>\n",
       "      <td>06.15.2017</td>\n",
       "      <td>The Eurogroup finalised its discussion on the ...</td>\n",
       "      <td>http://www.consilium.europa.eu/en/meetings/eur...</td>\n",
       "    </tr>\n",
       "  </tbody>\n",
       "</table>\n",
       "</div>"
      ],
      "text/plain": [
       "    Speaker        date                                             speech  \\\n",
       "37  Common   05.22.2017  The Eurogroup welcomed the preliminary agreeme...   \n",
       "38  Common   06.15.2017  The Eurogroup finalised its discussion on the ...   \n",
       "\n",
       "                                                 Link  \n",
       "37  http://www.consilium.europa.eu/en/meetings/eur...  \n",
       "38  http://www.consilium.europa.eu/en/meetings/eur...  "
      ]
     },
     "execution_count": 116,
     "metadata": {},
     "output_type": "execute_result"
    }
   ],
   "source": [
    "statement_df = pd.read_csv(\"statement.csv\")\n",
    "statement_df.tail(2)"
   ]
  },
  {
   "cell_type": "code",
   "execution_count": 117,
   "metadata": {
    "collapsed": true
   },
   "outputs": [],
   "source": [
    "regling_df = pd.read_csv(\"regling.csv\")\n",
    "regling_df = regling_df.drop(regling_df.index[-9:])\n"
   ]
  },
  {
   "cell_type": "code",
   "execution_count": 118,
   "metadata": {
    "collapsed": true
   },
   "outputs": [],
   "source": [
    "moscovici_df = pd.read_csv(\"Moscovici_English.csv\")"
   ]
  },
  {
   "cell_type": "code",
   "execution_count": 119,
   "metadata": {
    "collapsed": true
   },
   "outputs": [],
   "source": [
    "mosco_fr = pd.read_csv(\"Moscovici_french.csv\")\n",
    "\n"
   ]
  },
  {
   "cell_type": "code",
   "execution_count": 120,
   "metadata": {
    "collapsed": true
   },
   "outputs": [],
   "source": [
    "moscovici_df = pd.concat([mosco_fr, moscovici_df], ignore_index=True)\n",
    "\n"
   ]
  },
  {
   "cell_type": "code",
   "execution_count": 121,
   "metadata": {},
   "outputs": [
    {
     "data": {
      "text/html": [
       "<div>\n",
       "<style>\n",
       "    .dataframe thead tr:only-child th {\n",
       "        text-align: right;\n",
       "    }\n",
       "\n",
       "    .dataframe thead th {\n",
       "        text-align: left;\n",
       "    }\n",
       "\n",
       "    .dataframe tbody tr th {\n",
       "        vertical-align: top;\n",
       "    }\n",
       "</style>\n",
       "<table border=\"1\" class=\"dataframe\">\n",
       "  <thead>\n",
       "    <tr style=\"text-align: right;\">\n",
       "      <th></th>\n",
       "      <th>Speaker</th>\n",
       "      <th>date</th>\n",
       "      <th>speech</th>\n",
       "    </tr>\n",
       "  </thead>\n",
       "  <tbody>\n",
       "    <tr>\n",
       "      <th>35</th>\n",
       "      <td>Jeroen Dijsselbloem</td>\n",
       "      <td>02.20.2017</td>\n",
       "      <td>Let me come quickly to the topic that probably...</td>\n",
       "    </tr>\n",
       "    <tr>\n",
       "      <th>36</th>\n",
       "      <td>Jeroen Dijsselbloem</td>\n",
       "      <td>03.20.2017</td>\n",
       "      <td>Let me start with our discussion on Greece. We...</td>\n",
       "    </tr>\n",
       "    <tr>\n",
       "      <th>37</th>\n",
       "      <td>Jeroen Dijsselbloem</td>\n",
       "      <td>04.07.2017</td>\n",
       "      <td>Let me start with Greece. We have achieved sig...</td>\n",
       "    </tr>\n",
       "    <tr>\n",
       "      <th>38</th>\n",
       "      <td>Jeroen Dijsselbloem</td>\n",
       "      <td>06.22.2017</td>\n",
       "      <td>I will only speak about Greece, because I thin...</td>\n",
       "    </tr>\n",
       "    <tr>\n",
       "      <th>39</th>\n",
       "      <td>Jeroen Dijsselbloem</td>\n",
       "      <td>06.15.2017</td>\n",
       "      <td>Our meeting revolved mainly around Greece, and...</td>\n",
       "    </tr>\n",
       "  </tbody>\n",
       "</table>\n",
       "</div>"
      ],
      "text/plain": [
       "                Speaker        date  \\\n",
       "35  Jeroen Dijsselbloem  02.20.2017   \n",
       "36  Jeroen Dijsselbloem  03.20.2017   \n",
       "37  Jeroen Dijsselbloem  04.07.2017   \n",
       "38  Jeroen Dijsselbloem  06.22.2017   \n",
       "39  Jeroen Dijsselbloem  06.15.2017   \n",
       "\n",
       "                                               speech  \n",
       "35  Let me come quickly to the topic that probably...  \n",
       "36  Let me start with our discussion on Greece. We...  \n",
       "37  Let me start with Greece. We have achieved sig...  \n",
       "38  I will only speak about Greece, because I thin...  \n",
       "39  Our meeting revolved mainly around Greece, and...  "
      ]
     },
     "execution_count": 121,
     "metadata": {},
     "output_type": "execute_result"
    }
   ],
   "source": [
    "dijsselbloem_df.tail()"
   ]
  },
  {
   "cell_type": "code",
   "execution_count": 10,
   "metadata": {},
   "outputs": [
    {
     "data": {
      "text/html": [
       "<div>\n",
       "<style>\n",
       "    .dataframe thead tr:only-child th {\n",
       "        text-align: right;\n",
       "    }\n",
       "\n",
       "    .dataframe thead th {\n",
       "        text-align: left;\n",
       "    }\n",
       "\n",
       "    .dataframe tbody tr th {\n",
       "        vertical-align: top;\n",
       "    }\n",
       "</style>\n",
       "<table border=\"1\" class=\"dataframe\">\n",
       "  <thead>\n",
       "    <tr style=\"text-align: right;\">\n",
       "      <th></th>\n",
       "      <th>Speaker</th>\n",
       "      <th>date</th>\n",
       "      <th>speech</th>\n",
       "      <th>Link</th>\n",
       "    </tr>\n",
       "  </thead>\n",
       "  <tbody>\n",
       "    <tr>\n",
       "      <th>18</th>\n",
       "      <td>Pierre Moscovici</td>\n",
       "      <td>11.17.2015</td>\n",
       "      <td>The Greek authorities and the institutions hav...</td>\n",
       "      <td>http://europa.eu/rapid/press-release_STATEMENT...</td>\n",
       "    </tr>\n",
       "    <tr>\n",
       "      <th>19</th>\n",
       "      <td>Pierre Moscovici</td>\n",
       "      <td>02.11.2016</td>\n",
       "      <td>Now a word on Greece.\\nOur winter forecast las...</td>\n",
       "      <td>http://europa.eu/rapid/press-release_SPEECH-16...</td>\n",
       "    </tr>\n",
       "    <tr>\n",
       "      <th>20</th>\n",
       "      <td>Pierre Moscovici</td>\n",
       "      <td>10.10.2016</td>\n",
       "      <td>Thank you Jeroen. Bonsoir à toutes et à tous. ...</td>\n",
       "      <td>http://europa.eu/rapid/press-release_SPEECH-16...</td>\n",
       "    </tr>\n",
       "    <tr>\n",
       "      <th>21</th>\n",
       "      <td>Pierre Moscovici</td>\n",
       "      <td>02.20.2017</td>\n",
       "      <td>The further fiscal measures to be pre-legislat...</td>\n",
       "      <td>http://europa.eu/rapid/press-release_SPEECH-17...</td>\n",
       "    </tr>\n",
       "    <tr>\n",
       "      <th>22</th>\n",
       "      <td>Pierre Moscovici</td>\n",
       "      <td>05.02.2017</td>\n",
       "      <td>\"The agreement reached overnight in Athens on ...</td>\n",
       "      <td>http://europa.eu/rapid/press-release_STATEMENT...</td>\n",
       "    </tr>\n",
       "  </tbody>\n",
       "</table>\n",
       "</div>"
      ],
      "text/plain": [
       "             Speaker        date  \\\n",
       "18  Pierre Moscovici  11.17.2015   \n",
       "19  Pierre Moscovici  02.11.2016   \n",
       "20  Pierre Moscovici  10.10.2016   \n",
       "21  Pierre Moscovici  02.20.2017   \n",
       "22  Pierre Moscovici  05.02.2017   \n",
       "\n",
       "                                               speech  \\\n",
       "18  The Greek authorities and the institutions hav...   \n",
       "19  Now a word on Greece.\\nOur winter forecast las...   \n",
       "20  Thank you Jeroen. Bonsoir à toutes et à tous. ...   \n",
       "21  The further fiscal measures to be pre-legislat...   \n",
       "22  \"The agreement reached overnight in Athens on ...   \n",
       "\n",
       "                                                 Link  \n",
       "18  http://europa.eu/rapid/press-release_STATEMENT...  \n",
       "19  http://europa.eu/rapid/press-release_SPEECH-16...  \n",
       "20  http://europa.eu/rapid/press-release_SPEECH-16...  \n",
       "21  http://europa.eu/rapid/press-release_SPEECH-17...  \n",
       "22  http://europa.eu/rapid/press-release_STATEMENT...  "
      ]
     },
     "execution_count": 10,
     "metadata": {},
     "output_type": "execute_result"
    }
   ],
   "source": [
    "moscovici_df.tail()"
   ]
  },
  {
   "cell_type": "code",
   "execution_count": 11,
   "metadata": {},
   "outputs": [
    {
     "data": {
      "text/html": [
       "<div>\n",
       "<style>\n",
       "    .dataframe thead tr:only-child th {\n",
       "        text-align: right;\n",
       "    }\n",
       "\n",
       "    .dataframe thead th {\n",
       "        text-align: left;\n",
       "    }\n",
       "\n",
       "    .dataframe tbody tr th {\n",
       "        vertical-align: top;\n",
       "    }\n",
       "</style>\n",
       "<table border=\"1\" class=\"dataframe\">\n",
       "  <thead>\n",
       "    <tr style=\"text-align: right;\">\n",
       "      <th></th>\n",
       "      <th>Speaker</th>\n",
       "      <th>date</th>\n",
       "      <th>speech</th>\n",
       "      <th>Link</th>\n",
       "    </tr>\n",
       "  </thead>\n",
       "  <tbody>\n",
       "    <tr>\n",
       "      <th>7</th>\n",
       "      <td>Klaus Regling</td>\n",
       "      <td>03.20.2017</td>\n",
       "      <td>Just a few words on Greece from the ESM perspe...</td>\n",
       "      <td>https://www.esm.europa.eu/press-releases/klaus...</td>\n",
       "    </tr>\n",
       "    <tr>\n",
       "      <th>8</th>\n",
       "      <td>Klaus Regling</td>\n",
       "      <td>04.07.2017</td>\n",
       "      <td>But of course, Greece was important and I shar...</td>\n",
       "      <td>https://www.esm.europa.eu/press-releases/klaus...</td>\n",
       "    </tr>\n",
       "    <tr>\n",
       "      <th>9</th>\n",
       "      <td>Klaus Regling</td>\n",
       "      <td>05.23.2017</td>\n",
       "      <td>There was progress, and I think it’s really go...</td>\n",
       "      <td>https://www.esm.europa.eu/press-releases/klaus...</td>\n",
       "    </tr>\n",
       "    <tr>\n",
       "      <th>10</th>\n",
       "      <td>Klaus Regling</td>\n",
       "      <td>06.12.2017</td>\n",
       "      <td>A few words on Greece from the ESM perspective...</td>\n",
       "      <td>https://www.esm.europa.eu/press-releases/klaus...</td>\n",
       "    </tr>\n",
       "    <tr>\n",
       "      <th>11</th>\n",
       "      <td>Klaus Regling</td>\n",
       "      <td>07.10.2017</td>\n",
       "      <td>Let me start with Greece, which was not on the...</td>\n",
       "      <td>https://www.esm.europa.eu/press-releases/klaus...</td>\n",
       "    </tr>\n",
       "  </tbody>\n",
       "</table>\n",
       "</div>"
      ],
      "text/plain": [
       "          Speaker        date  \\\n",
       "7   Klaus Regling  03.20.2017   \n",
       "8   Klaus Regling  04.07.2017   \n",
       "9   Klaus Regling  05.23.2017   \n",
       "10  Klaus Regling  06.12.2017   \n",
       "11  Klaus Regling  07.10.2017   \n",
       "\n",
       "                                               speech  \\\n",
       "7   Just a few words on Greece from the ESM perspe...   \n",
       "8   But of course, Greece was important and I shar...   \n",
       "9   There was progress, and I think it’s really go...   \n",
       "10  A few words on Greece from the ESM perspective...   \n",
       "11  Let me start with Greece, which was not on the...   \n",
       "\n",
       "                                                 Link  \n",
       "7   https://www.esm.europa.eu/press-releases/klaus...  \n",
       "8   https://www.esm.europa.eu/press-releases/klaus...  \n",
       "9   https://www.esm.europa.eu/press-releases/klaus...  \n",
       "10  https://www.esm.europa.eu/press-releases/klaus...  \n",
       "11  https://www.esm.europa.eu/press-releases/klaus...  "
      ]
     },
     "execution_count": 11,
     "metadata": {},
     "output_type": "execute_result"
    }
   ],
   "source": [
    "regling_df.tail()"
   ]
  },
  {
   "cell_type": "code",
   "execution_count": 122,
   "metadata": {},
   "outputs": [
    {
     "data": {
      "text/html": [
       "<div>\n",
       "<style>\n",
       "    .dataframe thead tr:only-child th {\n",
       "        text-align: right;\n",
       "    }\n",
       "\n",
       "    .dataframe thead th {\n",
       "        text-align: left;\n",
       "    }\n",
       "\n",
       "    .dataframe tbody tr th {\n",
       "        vertical-align: top;\n",
       "    }\n",
       "</style>\n",
       "<table border=\"1\" class=\"dataframe\">\n",
       "  <thead>\n",
       "    <tr style=\"text-align: right;\">\n",
       "      <th>emotion</th>\n",
       "      <th>word</th>\n",
       "      <th>anger</th>\n",
       "      <th>anticipation</th>\n",
       "      <th>disgust</th>\n",
       "      <th>fear</th>\n",
       "      <th>joy</th>\n",
       "      <th>negative</th>\n",
       "      <th>positive</th>\n",
       "      <th>sadness</th>\n",
       "      <th>surprise</th>\n",
       "      <th>trust</th>\n",
       "      <th>stemmed</th>\n",
       "    </tr>\n",
       "  </thead>\n",
       "  <tbody>\n",
       "    <tr>\n",
       "      <th>0</th>\n",
       "      <td>aback</td>\n",
       "      <td>0</td>\n",
       "      <td>0</td>\n",
       "      <td>0</td>\n",
       "      <td>0</td>\n",
       "      <td>0</td>\n",
       "      <td>0</td>\n",
       "      <td>0</td>\n",
       "      <td>0</td>\n",
       "      <td>0</td>\n",
       "      <td>0</td>\n",
       "      <td>aback</td>\n",
       "    </tr>\n",
       "    <tr>\n",
       "      <th>1</th>\n",
       "      <td>abacus</td>\n",
       "      <td>0</td>\n",
       "      <td>0</td>\n",
       "      <td>0</td>\n",
       "      <td>0</td>\n",
       "      <td>0</td>\n",
       "      <td>0</td>\n",
       "      <td>0</td>\n",
       "      <td>0</td>\n",
       "      <td>0</td>\n",
       "      <td>1</td>\n",
       "      <td>abacu</td>\n",
       "    </tr>\n",
       "    <tr>\n",
       "      <th>2</th>\n",
       "      <td>abandon</td>\n",
       "      <td>0</td>\n",
       "      <td>0</td>\n",
       "      <td>0</td>\n",
       "      <td>1</td>\n",
       "      <td>0</td>\n",
       "      <td>1</td>\n",
       "      <td>0</td>\n",
       "      <td>1</td>\n",
       "      <td>0</td>\n",
       "      <td>0</td>\n",
       "      <td>abandon</td>\n",
       "    </tr>\n",
       "    <tr>\n",
       "      <th>5</th>\n",
       "      <td>abate</td>\n",
       "      <td>0</td>\n",
       "      <td>0</td>\n",
       "      <td>0</td>\n",
       "      <td>0</td>\n",
       "      <td>0</td>\n",
       "      <td>0</td>\n",
       "      <td>0</td>\n",
       "      <td>0</td>\n",
       "      <td>0</td>\n",
       "      <td>0</td>\n",
       "      <td>abat</td>\n",
       "    </tr>\n",
       "    <tr>\n",
       "      <th>7</th>\n",
       "      <td>abba</td>\n",
       "      <td>0</td>\n",
       "      <td>0</td>\n",
       "      <td>0</td>\n",
       "      <td>0</td>\n",
       "      <td>0</td>\n",
       "      <td>0</td>\n",
       "      <td>1</td>\n",
       "      <td>0</td>\n",
       "      <td>0</td>\n",
       "      <td>0</td>\n",
       "      <td>abba</td>\n",
       "    </tr>\n",
       "  </tbody>\n",
       "</table>\n",
       "</div>"
      ],
      "text/plain": [
       "emotion     word  anger  anticipation  disgust  fear  joy  negative  positive  \\\n",
       "0          aback      0             0        0     0    0         0         0   \n",
       "1         abacus      0             0        0     0    0         0         0   \n",
       "2        abandon      0             0        0     1    0         1         0   \n",
       "5          abate      0             0        0     0    0         0         0   \n",
       "7           abba      0             0        0     0    0         0         1   \n",
       "\n",
       "emotion  sadness  surprise  trust  stemmed  \n",
       "0              0         0      0    aback  \n",
       "1              0         0      1    abacu  \n",
       "2              1         0      0  abandon  \n",
       "5              0         0      0     abat  \n",
       "7              0         0      0     abba  "
      ]
     },
     "execution_count": 122,
     "metadata": {},
     "output_type": "execute_result"
    }
   ],
   "source": [
    "filepath = \"NRC-emotion-lexicon-wordlevel-alphabetized-v0.92.txt\"\n",
    "emolex_df = pd.read_csv(filepath,  names=[\"word\", \"emotion\", \"association\"], skiprows=45, sep='\\t')\n",
    "emolex_df = emolex_df.pivot(index='word', columns='emotion', values='association').reset_index()\n",
    "emolex_df['stemmed'] = emolex_df.word.apply(lambda word: TextBlob(word).tokens[0].stem())\n",
    "emolex_stemmed_df = emolex_df.drop_duplicates(subset=['stemmed'])\n",
    "emolex_stemmed_df\n",
    "emolex_stemmed_df.head()"
   ]
  },
  {
   "cell_type": "code",
   "execution_count": 13,
   "metadata": {},
   "outputs": [
    {
     "data": {
      "text/html": [
       "<div>\n",
       "<style>\n",
       "    .dataframe thead tr:only-child th {\n",
       "        text-align: right;\n",
       "    }\n",
       "\n",
       "    .dataframe thead th {\n",
       "        text-align: left;\n",
       "    }\n",
       "\n",
       "    .dataframe tbody tr th {\n",
       "        vertical-align: top;\n",
       "    }\n",
       "</style>\n",
       "<table border=\"1\" class=\"dataframe\">\n",
       "  <thead>\n",
       "    <tr style=\"text-align: right;\">\n",
       "      <th></th>\n",
       "      <th>Speaker</th>\n",
       "      <th>date</th>\n",
       "      <th>speech</th>\n",
       "      <th>Link</th>\n",
       "    </tr>\n",
       "  </thead>\n",
       "  <tbody>\n",
       "    <tr>\n",
       "      <th>7</th>\n",
       "      <td>Klaus Regling</td>\n",
       "      <td>03.20.2017</td>\n",
       "      <td>Just a few words on Greece from the ESM perspe...</td>\n",
       "      <td>https://www.esm.europa.eu/press-releases/klaus...</td>\n",
       "    </tr>\n",
       "    <tr>\n",
       "      <th>8</th>\n",
       "      <td>Klaus Regling</td>\n",
       "      <td>04.07.2017</td>\n",
       "      <td>But of course, Greece was important and I shar...</td>\n",
       "      <td>https://www.esm.europa.eu/press-releases/klaus...</td>\n",
       "    </tr>\n",
       "    <tr>\n",
       "      <th>9</th>\n",
       "      <td>Klaus Regling</td>\n",
       "      <td>05.23.2017</td>\n",
       "      <td>There was progress, and I think it’s really go...</td>\n",
       "      <td>https://www.esm.europa.eu/press-releases/klaus...</td>\n",
       "    </tr>\n",
       "    <tr>\n",
       "      <th>10</th>\n",
       "      <td>Klaus Regling</td>\n",
       "      <td>06.12.2017</td>\n",
       "      <td>A few words on Greece from the ESM perspective...</td>\n",
       "      <td>https://www.esm.europa.eu/press-releases/klaus...</td>\n",
       "    </tr>\n",
       "    <tr>\n",
       "      <th>11</th>\n",
       "      <td>Klaus Regling</td>\n",
       "      <td>07.10.2017</td>\n",
       "      <td>Let me start with Greece, which was not on the...</td>\n",
       "      <td>https://www.esm.europa.eu/press-releases/klaus...</td>\n",
       "    </tr>\n",
       "  </tbody>\n",
       "</table>\n",
       "</div>"
      ],
      "text/plain": [
       "          Speaker        date  \\\n",
       "7   Klaus Regling  03.20.2017   \n",
       "8   Klaus Regling  04.07.2017   \n",
       "9   Klaus Regling  05.23.2017   \n",
       "10  Klaus Regling  06.12.2017   \n",
       "11  Klaus Regling  07.10.2017   \n",
       "\n",
       "                                               speech  \\\n",
       "7   Just a few words on Greece from the ESM perspe...   \n",
       "8   But of course, Greece was important and I shar...   \n",
       "9   There was progress, and I think it’s really go...   \n",
       "10  A few words on Greece from the ESM perspective...   \n",
       "11  Let me start with Greece, which was not on the...   \n",
       "\n",
       "                                                 Link  \n",
       "7   https://www.esm.europa.eu/press-releases/klaus...  \n",
       "8   https://www.esm.europa.eu/press-releases/klaus...  \n",
       "9   https://www.esm.europa.eu/press-releases/klaus...  \n",
       "10  https://www.esm.europa.eu/press-releases/klaus...  \n",
       "11  https://www.esm.europa.eu/press-releases/klaus...  "
      ]
     },
     "execution_count": 13,
     "metadata": {},
     "output_type": "execute_result"
    }
   ],
   "source": [
    "regling_df.tail()\n"
   ]
  },
  {
   "cell_type": "code",
   "execution_count": 123,
   "metadata": {},
   "outputs": [
    {
     "data": {
      "text/html": [
       "<div>\n",
       "<style>\n",
       "    .dataframe thead tr:only-child th {\n",
       "        text-align: right;\n",
       "    }\n",
       "\n",
       "    .dataframe thead th {\n",
       "        text-align: left;\n",
       "    }\n",
       "\n",
       "    .dataframe tbody tr th {\n",
       "        vertical-align: top;\n",
       "    }\n",
       "</style>\n",
       "<table border=\"1\" class=\"dataframe\">\n",
       "  <thead>\n",
       "    <tr style=\"text-align: right;\">\n",
       "      <th></th>\n",
       "      <th>aback</th>\n",
       "      <th>abacu</th>\n",
       "      <th>abandon</th>\n",
       "      <th>abat</th>\n",
       "      <th>abba</th>\n",
       "      <th>abbot</th>\n",
       "      <th>abbrevi</th>\n",
       "      <th>abdomen</th>\n",
       "      <th>abdomin</th>\n",
       "      <th>abduct</th>\n",
       "      <th>...</th>\n",
       "      <th>zenith</th>\n",
       "      <th>zephyr</th>\n",
       "      <th>zeppelin</th>\n",
       "      <th>zest</th>\n",
       "      <th>zip</th>\n",
       "      <th>zodiac</th>\n",
       "      <th>zone</th>\n",
       "      <th>zoo</th>\n",
       "      <th>zoolog</th>\n",
       "      <th>zoom</th>\n",
       "    </tr>\n",
       "  </thead>\n",
       "  <tbody>\n",
       "    <tr>\n",
       "      <th>0</th>\n",
       "      <td>0.0</td>\n",
       "      <td>0.0</td>\n",
       "      <td>0.0</td>\n",
       "      <td>0.0</td>\n",
       "      <td>0.0</td>\n",
       "      <td>0.0</td>\n",
       "      <td>0.0</td>\n",
       "      <td>0.0</td>\n",
       "      <td>0.0</td>\n",
       "      <td>0.0</td>\n",
       "      <td>...</td>\n",
       "      <td>0.0</td>\n",
       "      <td>0.0</td>\n",
       "      <td>0.0</td>\n",
       "      <td>0.0</td>\n",
       "      <td>0.0</td>\n",
       "      <td>0.0</td>\n",
       "      <td>0.0</td>\n",
       "      <td>0.0</td>\n",
       "      <td>0.0</td>\n",
       "      <td>0.0</td>\n",
       "    </tr>\n",
       "    <tr>\n",
       "      <th>1</th>\n",
       "      <td>0.0</td>\n",
       "      <td>0.0</td>\n",
       "      <td>0.0</td>\n",
       "      <td>0.0</td>\n",
       "      <td>0.0</td>\n",
       "      <td>0.0</td>\n",
       "      <td>0.0</td>\n",
       "      <td>0.0</td>\n",
       "      <td>0.0</td>\n",
       "      <td>0.0</td>\n",
       "      <td>...</td>\n",
       "      <td>0.0</td>\n",
       "      <td>0.0</td>\n",
       "      <td>0.0</td>\n",
       "      <td>0.0</td>\n",
       "      <td>0.0</td>\n",
       "      <td>0.0</td>\n",
       "      <td>0.0</td>\n",
       "      <td>0.0</td>\n",
       "      <td>0.0</td>\n",
       "      <td>0.0</td>\n",
       "    </tr>\n",
       "    <tr>\n",
       "      <th>2</th>\n",
       "      <td>0.0</td>\n",
       "      <td>0.0</td>\n",
       "      <td>0.0</td>\n",
       "      <td>0.0</td>\n",
       "      <td>0.0</td>\n",
       "      <td>0.0</td>\n",
       "      <td>0.0</td>\n",
       "      <td>0.0</td>\n",
       "      <td>0.0</td>\n",
       "      <td>0.0</td>\n",
       "      <td>...</td>\n",
       "      <td>0.0</td>\n",
       "      <td>0.0</td>\n",
       "      <td>0.0</td>\n",
       "      <td>0.0</td>\n",
       "      <td>0.0</td>\n",
       "      <td>0.0</td>\n",
       "      <td>0.0</td>\n",
       "      <td>0.0</td>\n",
       "      <td>0.0</td>\n",
       "      <td>0.0</td>\n",
       "    </tr>\n",
       "    <tr>\n",
       "      <th>3</th>\n",
       "      <td>0.0</td>\n",
       "      <td>0.0</td>\n",
       "      <td>0.0</td>\n",
       "      <td>0.0</td>\n",
       "      <td>0.0</td>\n",
       "      <td>0.0</td>\n",
       "      <td>0.0</td>\n",
       "      <td>0.0</td>\n",
       "      <td>0.0</td>\n",
       "      <td>0.0</td>\n",
       "      <td>...</td>\n",
       "      <td>0.0</td>\n",
       "      <td>0.0</td>\n",
       "      <td>0.0</td>\n",
       "      <td>0.0</td>\n",
       "      <td>0.0</td>\n",
       "      <td>0.0</td>\n",
       "      <td>0.0</td>\n",
       "      <td>0.0</td>\n",
       "      <td>0.0</td>\n",
       "      <td>0.0</td>\n",
       "    </tr>\n",
       "    <tr>\n",
       "      <th>4</th>\n",
       "      <td>0.0</td>\n",
       "      <td>0.0</td>\n",
       "      <td>0.0</td>\n",
       "      <td>0.0</td>\n",
       "      <td>0.0</td>\n",
       "      <td>0.0</td>\n",
       "      <td>0.0</td>\n",
       "      <td>0.0</td>\n",
       "      <td>0.0</td>\n",
       "      <td>0.0</td>\n",
       "      <td>...</td>\n",
       "      <td>0.0</td>\n",
       "      <td>0.0</td>\n",
       "      <td>0.0</td>\n",
       "      <td>0.0</td>\n",
       "      <td>0.0</td>\n",
       "      <td>0.0</td>\n",
       "      <td>0.0</td>\n",
       "      <td>0.0</td>\n",
       "      <td>0.0</td>\n",
       "      <td>0.0</td>\n",
       "    </tr>\n",
       "  </tbody>\n",
       "</table>\n",
       "<p>5 rows × 11029 columns</p>\n",
       "</div>"
      ],
      "text/plain": [
       "   aback  abacu  abandon  abat  abba  abbot  abbrevi  abdomen  abdomin  \\\n",
       "0    0.0    0.0      0.0   0.0   0.0    0.0      0.0      0.0      0.0   \n",
       "1    0.0    0.0      0.0   0.0   0.0    0.0      0.0      0.0      0.0   \n",
       "2    0.0    0.0      0.0   0.0   0.0    0.0      0.0      0.0      0.0   \n",
       "3    0.0    0.0      0.0   0.0   0.0    0.0      0.0      0.0      0.0   \n",
       "4    0.0    0.0      0.0   0.0   0.0    0.0      0.0      0.0      0.0   \n",
       "\n",
       "   abduct  ...   zenith  zephyr  zeppelin  zest  zip  zodiac  zone  zoo  \\\n",
       "0     0.0  ...      0.0     0.0       0.0   0.0  0.0     0.0   0.0  0.0   \n",
       "1     0.0  ...      0.0     0.0       0.0   0.0  0.0     0.0   0.0  0.0   \n",
       "2     0.0  ...      0.0     0.0       0.0   0.0  0.0     0.0   0.0  0.0   \n",
       "3     0.0  ...      0.0     0.0       0.0   0.0  0.0     0.0   0.0  0.0   \n",
       "4     0.0  ...      0.0     0.0       0.0   0.0  0.0     0.0   0.0  0.0   \n",
       "\n",
       "   zoolog  zoom  \n",
       "0     0.0   0.0  \n",
       "1     0.0   0.0  \n",
       "2     0.0   0.0  \n",
       "3     0.0   0.0  \n",
       "4     0.0   0.0  \n",
       "\n",
       "[5 rows x 11029 columns]"
      ]
     },
     "execution_count": 123,
     "metadata": {},
     "output_type": "execute_result"
    }
   ],
   "source": [
    "vec = TfidfVectorizer(vocabulary=emolex_stemmed_df.stemmed,\n",
    "                      use_idf=False,\n",
    "                      stop_words='english',\n",
    "                      tokenizer=textblob_tokenizer,\n",
    "                      norm='l1') # ELL - ONE\n",
    "matrix = vec.fit_transform(dijsselbloem_df['speech'])\n",
    "vocab = vec.get_feature_names()\n",
    "wordcount_df1 = pd.DataFrame(matrix.toarray(), columns=vocab)\n",
    "wordcount_df1.head()"
   ]
  },
  {
   "cell_type": "code",
   "execution_count": 124,
   "metadata": {},
   "outputs": [
    {
     "ename": "NameError",
     "evalue": "name 'trump_df' is not defined",
     "output_type": "error",
     "traceback": [
      "\u001b[0;31m---------------------------------------------------------------------------\u001b[0m",
      "\u001b[0;31mNameError\u001b[0m                                 Traceback (most recent call last)",
      "\u001b[0;32m<ipython-input-124-01c46434706c>\u001b[0m in \u001b[0;36m<module>\u001b[0;34m()\u001b[0m\n\u001b[1;32m      4\u001b[0m                       \u001b[0mtokenizer\u001b[0m\u001b[0;34m=\u001b[0m\u001b[0mtextblob_tokenizer\u001b[0m\u001b[0;34m,\u001b[0m\u001b[0;34m\u001b[0m\u001b[0m\n\u001b[1;32m      5\u001b[0m                       norm='l1') # ELL - ONE\n\u001b[0;32m----> 6\u001b[0;31m \u001b[0mmatrix\u001b[0m \u001b[0;34m=\u001b[0m \u001b[0mvec\u001b[0m\u001b[0;34m.\u001b[0m\u001b[0mfit_transform\u001b[0m\u001b[0;34m(\u001b[0m\u001b[0mtrump_df\u001b[0m\u001b[0;34m[\u001b[0m\u001b[0;34m'speech'\u001b[0m\u001b[0;34m]\u001b[0m\u001b[0;34m)\u001b[0m\u001b[0;34m\u001b[0m\u001b[0m\n\u001b[0m\u001b[1;32m      7\u001b[0m \u001b[0mvocab\u001b[0m \u001b[0;34m=\u001b[0m \u001b[0mvec\u001b[0m\u001b[0;34m.\u001b[0m\u001b[0mget_feature_names\u001b[0m\u001b[0;34m(\u001b[0m\u001b[0;34m)\u001b[0m\u001b[0;34m\u001b[0m\u001b[0m\n\u001b[1;32m      8\u001b[0m \u001b[0mwordcount_df4\u001b[0m \u001b[0;34m=\u001b[0m \u001b[0mpd\u001b[0m\u001b[0;34m.\u001b[0m\u001b[0mDataFrame\u001b[0m\u001b[0;34m(\u001b[0m\u001b[0mmatrix\u001b[0m\u001b[0;34m.\u001b[0m\u001b[0mtoarray\u001b[0m\u001b[0;34m(\u001b[0m\u001b[0;34m)\u001b[0m\u001b[0;34m,\u001b[0m \u001b[0mcolumns\u001b[0m\u001b[0;34m=\u001b[0m\u001b[0mvocab\u001b[0m\u001b[0;34m)\u001b[0m\u001b[0;34m\u001b[0m\u001b[0m\n",
      "\u001b[0;31mNameError\u001b[0m: name 'trump_df' is not defined"
     ]
    }
   ],
   "source": [
    "vec = TfidfVectorizer(vocabulary=emolex_stemmed_df.stemmed,\n",
    "                      use_idf=False,\n",
    "                      stop_words='english',\n",
    "                      tokenizer=textblob_tokenizer,\n",
    "                      norm='l1') # ELL - ONE\n",
    "matrix = vec.fit_transform(trump_df['speech'])\n",
    "vocab = vec.get_feature_names()\n",
    "wordcount_df4 = pd.DataFrame(matrix.toarray(), columns=vocab)\n",
    "wordcount_df4.head()\n",
    "\n"
   ]
  },
  {
   "cell_type": "code",
   "execution_count": 125,
   "metadata": {},
   "outputs": [
    {
     "data": {
      "text/html": [
       "<div>\n",
       "<style>\n",
       "    .dataframe thead tr:only-child th {\n",
       "        text-align: right;\n",
       "    }\n",
       "\n",
       "    .dataframe thead th {\n",
       "        text-align: left;\n",
       "    }\n",
       "\n",
       "    .dataframe tbody tr th {\n",
       "        vertical-align: top;\n",
       "    }\n",
       "</style>\n",
       "<table border=\"1\" class=\"dataframe\">\n",
       "  <thead>\n",
       "    <tr style=\"text-align: right;\">\n",
       "      <th></th>\n",
       "      <th>aback</th>\n",
       "      <th>abacu</th>\n",
       "      <th>abandon</th>\n",
       "      <th>abat</th>\n",
       "      <th>abba</th>\n",
       "      <th>abbot</th>\n",
       "      <th>abbrevi</th>\n",
       "      <th>abdomen</th>\n",
       "      <th>abdomin</th>\n",
       "      <th>abduct</th>\n",
       "      <th>...</th>\n",
       "      <th>zenith</th>\n",
       "      <th>zephyr</th>\n",
       "      <th>zeppelin</th>\n",
       "      <th>zest</th>\n",
       "      <th>zip</th>\n",
       "      <th>zodiac</th>\n",
       "      <th>zone</th>\n",
       "      <th>zoo</th>\n",
       "      <th>zoolog</th>\n",
       "      <th>zoom</th>\n",
       "    </tr>\n",
       "  </thead>\n",
       "  <tbody>\n",
       "    <tr>\n",
       "      <th>0</th>\n",
       "      <td>0.0</td>\n",
       "      <td>0.0</td>\n",
       "      <td>0.0</td>\n",
       "      <td>0.0</td>\n",
       "      <td>0.0</td>\n",
       "      <td>0.0</td>\n",
       "      <td>0.0</td>\n",
       "      <td>0.0</td>\n",
       "      <td>0.0</td>\n",
       "      <td>0.0</td>\n",
       "      <td>...</td>\n",
       "      <td>0.0</td>\n",
       "      <td>0.0</td>\n",
       "      <td>0.0</td>\n",
       "      <td>0.0</td>\n",
       "      <td>0.0</td>\n",
       "      <td>0.0</td>\n",
       "      <td>0.0</td>\n",
       "      <td>0.0</td>\n",
       "      <td>0.0</td>\n",
       "      <td>0.0</td>\n",
       "    </tr>\n",
       "    <tr>\n",
       "      <th>1</th>\n",
       "      <td>0.0</td>\n",
       "      <td>0.0</td>\n",
       "      <td>0.0</td>\n",
       "      <td>0.0</td>\n",
       "      <td>0.0</td>\n",
       "      <td>0.0</td>\n",
       "      <td>0.0</td>\n",
       "      <td>0.0</td>\n",
       "      <td>0.0</td>\n",
       "      <td>0.0</td>\n",
       "      <td>...</td>\n",
       "      <td>0.0</td>\n",
       "      <td>0.0</td>\n",
       "      <td>0.0</td>\n",
       "      <td>0.0</td>\n",
       "      <td>0.0</td>\n",
       "      <td>0.0</td>\n",
       "      <td>0.0</td>\n",
       "      <td>0.0</td>\n",
       "      <td>0.0</td>\n",
       "      <td>0.0</td>\n",
       "    </tr>\n",
       "    <tr>\n",
       "      <th>2</th>\n",
       "      <td>0.0</td>\n",
       "      <td>0.0</td>\n",
       "      <td>0.0</td>\n",
       "      <td>0.0</td>\n",
       "      <td>0.0</td>\n",
       "      <td>0.0</td>\n",
       "      <td>0.0</td>\n",
       "      <td>0.0</td>\n",
       "      <td>0.0</td>\n",
       "      <td>0.0</td>\n",
       "      <td>...</td>\n",
       "      <td>0.0</td>\n",
       "      <td>0.0</td>\n",
       "      <td>0.0</td>\n",
       "      <td>0.0</td>\n",
       "      <td>0.0</td>\n",
       "      <td>0.0</td>\n",
       "      <td>0.0</td>\n",
       "      <td>0.0</td>\n",
       "      <td>0.0</td>\n",
       "      <td>0.0</td>\n",
       "    </tr>\n",
       "    <tr>\n",
       "      <th>3</th>\n",
       "      <td>0.0</td>\n",
       "      <td>0.0</td>\n",
       "      <td>0.0</td>\n",
       "      <td>0.0</td>\n",
       "      <td>0.0</td>\n",
       "      <td>0.0</td>\n",
       "      <td>0.0</td>\n",
       "      <td>0.0</td>\n",
       "      <td>0.0</td>\n",
       "      <td>0.0</td>\n",
       "      <td>...</td>\n",
       "      <td>0.0</td>\n",
       "      <td>0.0</td>\n",
       "      <td>0.0</td>\n",
       "      <td>0.0</td>\n",
       "      <td>0.0</td>\n",
       "      <td>0.0</td>\n",
       "      <td>0.0</td>\n",
       "      <td>0.0</td>\n",
       "      <td>0.0</td>\n",
       "      <td>0.0</td>\n",
       "    </tr>\n",
       "    <tr>\n",
       "      <th>4</th>\n",
       "      <td>0.0</td>\n",
       "      <td>0.0</td>\n",
       "      <td>0.0</td>\n",
       "      <td>0.0</td>\n",
       "      <td>0.0</td>\n",
       "      <td>0.0</td>\n",
       "      <td>0.0</td>\n",
       "      <td>0.0</td>\n",
       "      <td>0.0</td>\n",
       "      <td>0.0</td>\n",
       "      <td>...</td>\n",
       "      <td>0.0</td>\n",
       "      <td>0.0</td>\n",
       "      <td>0.0</td>\n",
       "      <td>0.0</td>\n",
       "      <td>0.0</td>\n",
       "      <td>0.0</td>\n",
       "      <td>0.0</td>\n",
       "      <td>0.0</td>\n",
       "      <td>0.0</td>\n",
       "      <td>0.0</td>\n",
       "    </tr>\n",
       "  </tbody>\n",
       "</table>\n",
       "<p>5 rows × 11029 columns</p>\n",
       "</div>"
      ],
      "text/plain": [
       "   aback  abacu  abandon  abat  abba  abbot  abbrevi  abdomen  abdomin  \\\n",
       "0    0.0    0.0      0.0   0.0   0.0    0.0      0.0      0.0      0.0   \n",
       "1    0.0    0.0      0.0   0.0   0.0    0.0      0.0      0.0      0.0   \n",
       "2    0.0    0.0      0.0   0.0   0.0    0.0      0.0      0.0      0.0   \n",
       "3    0.0    0.0      0.0   0.0   0.0    0.0      0.0      0.0      0.0   \n",
       "4    0.0    0.0      0.0   0.0   0.0    0.0      0.0      0.0      0.0   \n",
       "\n",
       "   abduct  ...   zenith  zephyr  zeppelin  zest  zip  zodiac  zone  zoo  \\\n",
       "0     0.0  ...      0.0     0.0       0.0   0.0  0.0     0.0   0.0  0.0   \n",
       "1     0.0  ...      0.0     0.0       0.0   0.0  0.0     0.0   0.0  0.0   \n",
       "2     0.0  ...      0.0     0.0       0.0   0.0  0.0     0.0   0.0  0.0   \n",
       "3     0.0  ...      0.0     0.0       0.0   0.0  0.0     0.0   0.0  0.0   \n",
       "4     0.0  ...      0.0     0.0       0.0   0.0  0.0     0.0   0.0  0.0   \n",
       "\n",
       "   zoolog  zoom  \n",
       "0     0.0   0.0  \n",
       "1     0.0   0.0  \n",
       "2     0.0   0.0  \n",
       "3     0.0   0.0  \n",
       "4     0.0   0.0  \n",
       "\n",
       "[5 rows x 11029 columns]"
      ]
     },
     "execution_count": 125,
     "metadata": {},
     "output_type": "execute_result"
    }
   ],
   "source": [
    "vec = TfidfVectorizer(vocabulary=emolex_stemmed_df.stemmed,\n",
    "                      use_idf=False,\n",
    "                      stop_words='english',\n",
    "                      tokenizer=textblob_tokenizer,\n",
    "                      norm='l1') # ELL - ONE\n",
    "matrix = vec.fit_transform(statement_df['speech'])\n",
    "vocab = vec.get_feature_names()\n",
    "wordcount_df3 = pd.DataFrame(matrix.toarray(), columns=vocab)\n",
    "wordcount_df3.head()"
   ]
  },
  {
   "cell_type": "code",
   "execution_count": 126,
   "metadata": {},
   "outputs": [
    {
     "data": {
      "text/html": [
       "<div>\n",
       "<style>\n",
       "    .dataframe thead tr:only-child th {\n",
       "        text-align: right;\n",
       "    }\n",
       "\n",
       "    .dataframe thead th {\n",
       "        text-align: left;\n",
       "    }\n",
       "\n",
       "    .dataframe tbody tr th {\n",
       "        vertical-align: top;\n",
       "    }\n",
       "</style>\n",
       "<table border=\"1\" class=\"dataframe\">\n",
       "  <thead>\n",
       "    <tr style=\"text-align: right;\">\n",
       "      <th></th>\n",
       "      <th>aback</th>\n",
       "      <th>abacu</th>\n",
       "      <th>abandon</th>\n",
       "      <th>abat</th>\n",
       "      <th>abba</th>\n",
       "      <th>abbot</th>\n",
       "      <th>abbrevi</th>\n",
       "      <th>abdomen</th>\n",
       "      <th>abdomin</th>\n",
       "      <th>abduct</th>\n",
       "      <th>...</th>\n",
       "      <th>zenith</th>\n",
       "      <th>zephyr</th>\n",
       "      <th>zeppelin</th>\n",
       "      <th>zest</th>\n",
       "      <th>zip</th>\n",
       "      <th>zodiac</th>\n",
       "      <th>zone</th>\n",
       "      <th>zoo</th>\n",
       "      <th>zoolog</th>\n",
       "      <th>zoom</th>\n",
       "    </tr>\n",
       "  </thead>\n",
       "  <tbody>\n",
       "    <tr>\n",
       "      <th>0</th>\n",
       "      <td>0.0</td>\n",
       "      <td>0.0</td>\n",
       "      <td>0.0</td>\n",
       "      <td>0.0</td>\n",
       "      <td>0.0</td>\n",
       "      <td>0.0</td>\n",
       "      <td>0.0</td>\n",
       "      <td>0.0</td>\n",
       "      <td>0.0</td>\n",
       "      <td>0.0</td>\n",
       "      <td>...</td>\n",
       "      <td>0.0</td>\n",
       "      <td>0.0</td>\n",
       "      <td>0.0</td>\n",
       "      <td>0.0</td>\n",
       "      <td>0.0</td>\n",
       "      <td>0.0</td>\n",
       "      <td>0.000000</td>\n",
       "      <td>0.0</td>\n",
       "      <td>0.0</td>\n",
       "      <td>0.0</td>\n",
       "    </tr>\n",
       "    <tr>\n",
       "      <th>1</th>\n",
       "      <td>0.0</td>\n",
       "      <td>0.0</td>\n",
       "      <td>0.0</td>\n",
       "      <td>0.0</td>\n",
       "      <td>0.0</td>\n",
       "      <td>0.0</td>\n",
       "      <td>0.0</td>\n",
       "      <td>0.0</td>\n",
       "      <td>0.0</td>\n",
       "      <td>0.0</td>\n",
       "      <td>...</td>\n",
       "      <td>0.0</td>\n",
       "      <td>0.0</td>\n",
       "      <td>0.0</td>\n",
       "      <td>0.0</td>\n",
       "      <td>0.0</td>\n",
       "      <td>0.0</td>\n",
       "      <td>0.024096</td>\n",
       "      <td>0.0</td>\n",
       "      <td>0.0</td>\n",
       "      <td>0.0</td>\n",
       "    </tr>\n",
       "    <tr>\n",
       "      <th>2</th>\n",
       "      <td>0.0</td>\n",
       "      <td>0.0</td>\n",
       "      <td>0.0</td>\n",
       "      <td>0.0</td>\n",
       "      <td>0.0</td>\n",
       "      <td>0.0</td>\n",
       "      <td>0.0</td>\n",
       "      <td>0.0</td>\n",
       "      <td>0.0</td>\n",
       "      <td>0.0</td>\n",
       "      <td>...</td>\n",
       "      <td>0.0</td>\n",
       "      <td>0.0</td>\n",
       "      <td>0.0</td>\n",
       "      <td>0.0</td>\n",
       "      <td>0.0</td>\n",
       "      <td>0.0</td>\n",
       "      <td>0.000000</td>\n",
       "      <td>0.0</td>\n",
       "      <td>0.0</td>\n",
       "      <td>0.0</td>\n",
       "    </tr>\n",
       "    <tr>\n",
       "      <th>3</th>\n",
       "      <td>0.0</td>\n",
       "      <td>0.0</td>\n",
       "      <td>0.0</td>\n",
       "      <td>0.0</td>\n",
       "      <td>0.0</td>\n",
       "      <td>0.0</td>\n",
       "      <td>0.0</td>\n",
       "      <td>0.0</td>\n",
       "      <td>0.0</td>\n",
       "      <td>0.0</td>\n",
       "      <td>...</td>\n",
       "      <td>0.0</td>\n",
       "      <td>0.0</td>\n",
       "      <td>0.0</td>\n",
       "      <td>0.0</td>\n",
       "      <td>0.0</td>\n",
       "      <td>0.0</td>\n",
       "      <td>0.000000</td>\n",
       "      <td>0.0</td>\n",
       "      <td>0.0</td>\n",
       "      <td>0.0</td>\n",
       "    </tr>\n",
       "    <tr>\n",
       "      <th>4</th>\n",
       "      <td>0.0</td>\n",
       "      <td>0.0</td>\n",
       "      <td>0.0</td>\n",
       "      <td>0.0</td>\n",
       "      <td>0.0</td>\n",
       "      <td>0.0</td>\n",
       "      <td>0.0</td>\n",
       "      <td>0.0</td>\n",
       "      <td>0.0</td>\n",
       "      <td>0.0</td>\n",
       "      <td>...</td>\n",
       "      <td>0.0</td>\n",
       "      <td>0.0</td>\n",
       "      <td>0.0</td>\n",
       "      <td>0.0</td>\n",
       "      <td>0.0</td>\n",
       "      <td>0.0</td>\n",
       "      <td>0.000000</td>\n",
       "      <td>0.0</td>\n",
       "      <td>0.0</td>\n",
       "      <td>0.0</td>\n",
       "    </tr>\n",
       "  </tbody>\n",
       "</table>\n",
       "<p>5 rows × 11029 columns</p>\n",
       "</div>"
      ],
      "text/plain": [
       "   aback  abacu  abandon  abat  abba  abbot  abbrevi  abdomen  abdomin  \\\n",
       "0    0.0    0.0      0.0   0.0   0.0    0.0      0.0      0.0      0.0   \n",
       "1    0.0    0.0      0.0   0.0   0.0    0.0      0.0      0.0      0.0   \n",
       "2    0.0    0.0      0.0   0.0   0.0    0.0      0.0      0.0      0.0   \n",
       "3    0.0    0.0      0.0   0.0   0.0    0.0      0.0      0.0      0.0   \n",
       "4    0.0    0.0      0.0   0.0   0.0    0.0      0.0      0.0      0.0   \n",
       "\n",
       "   abduct  ...   zenith  zephyr  zeppelin  zest  zip  zodiac      zone  zoo  \\\n",
       "0     0.0  ...      0.0     0.0       0.0   0.0  0.0     0.0  0.000000  0.0   \n",
       "1     0.0  ...      0.0     0.0       0.0   0.0  0.0     0.0  0.024096  0.0   \n",
       "2     0.0  ...      0.0     0.0       0.0   0.0  0.0     0.0  0.000000  0.0   \n",
       "3     0.0  ...      0.0     0.0       0.0   0.0  0.0     0.0  0.000000  0.0   \n",
       "4     0.0  ...      0.0     0.0       0.0   0.0  0.0     0.0  0.000000  0.0   \n",
       "\n",
       "   zoolog  zoom  \n",
       "0     0.0   0.0  \n",
       "1     0.0   0.0  \n",
       "2     0.0   0.0  \n",
       "3     0.0   0.0  \n",
       "4     0.0   0.0  \n",
       "\n",
       "[5 rows x 11029 columns]"
      ]
     },
     "execution_count": 126,
     "metadata": {},
     "output_type": "execute_result"
    }
   ],
   "source": [
    "vec = TfidfVectorizer(vocabulary=emolex_stemmed_df.stemmed,\n",
    "                      use_idf=False, \n",
    "                      tokenizer=textblob_tokenizer,\n",
    "                      stop_words='english',\n",
    "\n",
    "                      norm='l1') # ELL - ONE\n",
    "matrix = vec.fit_transform(moscovici_df['speech'])\n",
    "vocab = vec.get_feature_names()\n",
    "wordcount_df = pd.DataFrame(matrix.toarray(), columns=vocab)\n",
    "wordcount_df.head()"
   ]
  },
  {
   "cell_type": "code",
   "execution_count": 127,
   "metadata": {},
   "outputs": [
    {
     "data": {
      "text/html": [
       "<div>\n",
       "<style>\n",
       "    .dataframe thead tr:only-child th {\n",
       "        text-align: right;\n",
       "    }\n",
       "\n",
       "    .dataframe thead th {\n",
       "        text-align: left;\n",
       "    }\n",
       "\n",
       "    .dataframe tbody tr th {\n",
       "        vertical-align: top;\n",
       "    }\n",
       "</style>\n",
       "<table border=\"1\" class=\"dataframe\">\n",
       "  <thead>\n",
       "    <tr style=\"text-align: right;\">\n",
       "      <th></th>\n",
       "      <th>aback</th>\n",
       "      <th>abacu</th>\n",
       "      <th>abandon</th>\n",
       "      <th>abat</th>\n",
       "      <th>abba</th>\n",
       "      <th>abbot</th>\n",
       "      <th>abbrevi</th>\n",
       "      <th>abdomen</th>\n",
       "      <th>abdomin</th>\n",
       "      <th>abduct</th>\n",
       "      <th>...</th>\n",
       "      <th>zenith</th>\n",
       "      <th>zephyr</th>\n",
       "      <th>zeppelin</th>\n",
       "      <th>zest</th>\n",
       "      <th>zip</th>\n",
       "      <th>zodiac</th>\n",
       "      <th>zone</th>\n",
       "      <th>zoo</th>\n",
       "      <th>zoolog</th>\n",
       "      <th>zoom</th>\n",
       "    </tr>\n",
       "  </thead>\n",
       "  <tbody>\n",
       "    <tr>\n",
       "      <th>0</th>\n",
       "      <td>0.0</td>\n",
       "      <td>0.0</td>\n",
       "      <td>0.0</td>\n",
       "      <td>0.0</td>\n",
       "      <td>0.0</td>\n",
       "      <td>0.0</td>\n",
       "      <td>0.0</td>\n",
       "      <td>0.0</td>\n",
       "      <td>0.0</td>\n",
       "      <td>0.0</td>\n",
       "      <td>...</td>\n",
       "      <td>0.0</td>\n",
       "      <td>0.0</td>\n",
       "      <td>0.0</td>\n",
       "      <td>0.0</td>\n",
       "      <td>0.0</td>\n",
       "      <td>0.0</td>\n",
       "      <td>0.0</td>\n",
       "      <td>0.0</td>\n",
       "      <td>0.0</td>\n",
       "      <td>0.0</td>\n",
       "    </tr>\n",
       "    <tr>\n",
       "      <th>1</th>\n",
       "      <td>0.0</td>\n",
       "      <td>0.0</td>\n",
       "      <td>0.0</td>\n",
       "      <td>0.0</td>\n",
       "      <td>0.0</td>\n",
       "      <td>0.0</td>\n",
       "      <td>0.0</td>\n",
       "      <td>0.0</td>\n",
       "      <td>0.0</td>\n",
       "      <td>0.0</td>\n",
       "      <td>...</td>\n",
       "      <td>0.0</td>\n",
       "      <td>0.0</td>\n",
       "      <td>0.0</td>\n",
       "      <td>0.0</td>\n",
       "      <td>0.0</td>\n",
       "      <td>0.0</td>\n",
       "      <td>0.0</td>\n",
       "      <td>0.0</td>\n",
       "      <td>0.0</td>\n",
       "      <td>0.0</td>\n",
       "    </tr>\n",
       "    <tr>\n",
       "      <th>2</th>\n",
       "      <td>0.0</td>\n",
       "      <td>0.0</td>\n",
       "      <td>0.0</td>\n",
       "      <td>0.0</td>\n",
       "      <td>0.0</td>\n",
       "      <td>0.0</td>\n",
       "      <td>0.0</td>\n",
       "      <td>0.0</td>\n",
       "      <td>0.0</td>\n",
       "      <td>0.0</td>\n",
       "      <td>...</td>\n",
       "      <td>0.0</td>\n",
       "      <td>0.0</td>\n",
       "      <td>0.0</td>\n",
       "      <td>0.0</td>\n",
       "      <td>0.0</td>\n",
       "      <td>0.0</td>\n",
       "      <td>0.0</td>\n",
       "      <td>0.0</td>\n",
       "      <td>0.0</td>\n",
       "      <td>0.0</td>\n",
       "    </tr>\n",
       "    <tr>\n",
       "      <th>3</th>\n",
       "      <td>0.0</td>\n",
       "      <td>0.0</td>\n",
       "      <td>0.0</td>\n",
       "      <td>0.0</td>\n",
       "      <td>0.0</td>\n",
       "      <td>0.0</td>\n",
       "      <td>0.0</td>\n",
       "      <td>0.0</td>\n",
       "      <td>0.0</td>\n",
       "      <td>0.0</td>\n",
       "      <td>...</td>\n",
       "      <td>0.0</td>\n",
       "      <td>0.0</td>\n",
       "      <td>0.0</td>\n",
       "      <td>0.0</td>\n",
       "      <td>0.0</td>\n",
       "      <td>0.0</td>\n",
       "      <td>0.0</td>\n",
       "      <td>0.0</td>\n",
       "      <td>0.0</td>\n",
       "      <td>0.0</td>\n",
       "    </tr>\n",
       "    <tr>\n",
       "      <th>4</th>\n",
       "      <td>0.0</td>\n",
       "      <td>0.0</td>\n",
       "      <td>0.0</td>\n",
       "      <td>0.0</td>\n",
       "      <td>0.0</td>\n",
       "      <td>0.0</td>\n",
       "      <td>0.0</td>\n",
       "      <td>0.0</td>\n",
       "      <td>0.0</td>\n",
       "      <td>0.0</td>\n",
       "      <td>...</td>\n",
       "      <td>0.0</td>\n",
       "      <td>0.0</td>\n",
       "      <td>0.0</td>\n",
       "      <td>0.0</td>\n",
       "      <td>0.0</td>\n",
       "      <td>0.0</td>\n",
       "      <td>0.0</td>\n",
       "      <td>0.0</td>\n",
       "      <td>0.0</td>\n",
       "      <td>0.0</td>\n",
       "    </tr>\n",
       "  </tbody>\n",
       "</table>\n",
       "<p>5 rows × 11029 columns</p>\n",
       "</div>"
      ],
      "text/plain": [
       "   aback  abacu  abandon  abat  abba  abbot  abbrevi  abdomen  abdomin  \\\n",
       "0    0.0    0.0      0.0   0.0   0.0    0.0      0.0      0.0      0.0   \n",
       "1    0.0    0.0      0.0   0.0   0.0    0.0      0.0      0.0      0.0   \n",
       "2    0.0    0.0      0.0   0.0   0.0    0.0      0.0      0.0      0.0   \n",
       "3    0.0    0.0      0.0   0.0   0.0    0.0      0.0      0.0      0.0   \n",
       "4    0.0    0.0      0.0   0.0   0.0    0.0      0.0      0.0      0.0   \n",
       "\n",
       "   abduct  ...   zenith  zephyr  zeppelin  zest  zip  zodiac  zone  zoo  \\\n",
       "0     0.0  ...      0.0     0.0       0.0   0.0  0.0     0.0   0.0  0.0   \n",
       "1     0.0  ...      0.0     0.0       0.0   0.0  0.0     0.0   0.0  0.0   \n",
       "2     0.0  ...      0.0     0.0       0.0   0.0  0.0     0.0   0.0  0.0   \n",
       "3     0.0  ...      0.0     0.0       0.0   0.0  0.0     0.0   0.0  0.0   \n",
       "4     0.0  ...      0.0     0.0       0.0   0.0  0.0     0.0   0.0  0.0   \n",
       "\n",
       "   zoolog  zoom  \n",
       "0     0.0   0.0  \n",
       "1     0.0   0.0  \n",
       "2     0.0   0.0  \n",
       "3     0.0   0.0  \n",
       "4     0.0   0.0  \n",
       "\n",
       "[5 rows x 11029 columns]"
      ]
     },
     "execution_count": 127,
     "metadata": {},
     "output_type": "execute_result"
    }
   ],
   "source": [
    "vec = TfidfVectorizer(vocabulary=emolex_stemmed_df.stemmed,\n",
    "                      tokenizer=textblob_tokenizer,\n",
    "                      use_idf=False,\n",
    "                      stop_words='english',\n",
    "                      norm='l1') # ELL - ONE\n",
    "matrix = vec.fit_transform(regling_df['speech'])\n",
    "vocab = vec.get_feature_names()\n",
    "wordcount_df2 = pd.DataFrame(matrix.toarray(), columns=vocab)\n",
    "wordcount_df2.head()"
   ]
  },
  {
   "cell_type": "code",
   "execution_count": 128,
   "metadata": {
    "collapsed": true
   },
   "outputs": [],
   "source": [
    "positive_words = emolex_stemmed_df[emolex_stemmed_df.positive == 1].stemmed\n",
    "dijsselbloem_df['positivity'] = wordcount_df1[positive_words].sum(axis=1)\n",
    "\n",
    "negative_words = emolex_stemmed_df[emolex_stemmed_df.negative == 1].stemmed\n",
    "dijsselbloem_df['negativity'] = wordcount_df1[negative_words].sum(axis=1)\n",
    "\n",
    "trust_words = emolex_stemmed_df[emolex_stemmed_df.trust == 1].stemmed\n",
    "dijsselbloem_df['trust'] = wordcount_df1[trust_words].sum(axis=1)\n",
    "\n",
    "surprise_words = emolex_stemmed_df[emolex_stemmed_df.surprise == 1].stemmed\n",
    "dijsselbloem_df['surprise'] = wordcount_df1[surprise_words].sum(axis=1)\n",
    "\n",
    "\n",
    "angry_words = emolex_stemmed_df[emolex_stemmed_df.anger == 1].stemmed\n",
    "dijsselbloem_df['anger'] = wordcount_df1[angry_words].sum(axis=1)\n",
    "\n",
    "anticipating_words = emolex_stemmed_df[emolex_stemmed_df.anticipation == 1].stemmed\n",
    "dijsselbloem_df['anticipation'] = wordcount_df1[anticipating_words].sum(axis=1)\n",
    "\n",
    "disgusting_words = emolex_stemmed_df[emolex_stemmed_df.disgust == 1].stemmed\n",
    "dijsselbloem_df['disgust'] = wordcount_df1[disgusting_words].sum(axis=1)\n",
    "\n",
    "fear_words = emolex_stemmed_df[emolex_stemmed_df.fear == 1].stemmed\n",
    "dijsselbloem_df['fear'] = wordcount_df1[fear_words].sum(axis=1)\n",
    "\n",
    "joy = emolex_stemmed_df[emolex_stemmed_df.joy == 1].stemmed\n",
    "dijsselbloem_df['joy'] = wordcount_df1[joy].sum(axis=1)\n",
    "\n",
    "\n",
    "\n",
    "\n"
   ]
  },
  {
   "cell_type": "code",
   "execution_count": 129,
   "metadata": {},
   "outputs": [
    {
     "data": {
      "text/html": [
       "<div>\n",
       "<style>\n",
       "    .dataframe thead tr:only-child th {\n",
       "        text-align: right;\n",
       "    }\n",
       "\n",
       "    .dataframe thead th {\n",
       "        text-align: left;\n",
       "    }\n",
       "\n",
       "    .dataframe tbody tr th {\n",
       "        vertical-align: top;\n",
       "    }\n",
       "</style>\n",
       "<table border=\"1\" class=\"dataframe\">\n",
       "  <thead>\n",
       "    <tr style=\"text-align: right;\">\n",
       "      <th></th>\n",
       "      <th>index</th>\n",
       "      <th>Speaker</th>\n",
       "      <th>speech</th>\n",
       "      <th>positivity</th>\n",
       "      <th>negativity</th>\n",
       "      <th>trust</th>\n",
       "      <th>surprise</th>\n",
       "      <th>anger</th>\n",
       "      <th>anticipation</th>\n",
       "      <th>disgust</th>\n",
       "      <th>fear</th>\n",
       "      <th>joy</th>\n",
       "    </tr>\n",
       "    <tr>\n",
       "      <th>date</th>\n",
       "      <th></th>\n",
       "      <th></th>\n",
       "      <th></th>\n",
       "      <th></th>\n",
       "      <th></th>\n",
       "      <th></th>\n",
       "      <th></th>\n",
       "      <th></th>\n",
       "      <th></th>\n",
       "      <th></th>\n",
       "      <th></th>\n",
       "      <th></th>\n",
       "    </tr>\n",
       "  </thead>\n",
       "  <tbody>\n",
       "    <tr>\n",
       "      <th>2017-02-20</th>\n",
       "      <td>35</td>\n",
       "      <td>Jeroen Dijsselbloem</td>\n",
       "      <td>Let me come quickly to the topic that probably...</td>\n",
       "      <td>0.266667</td>\n",
       "      <td>0.058333</td>\n",
       "      <td>0.216667</td>\n",
       "      <td>0.033333</td>\n",
       "      <td>0.008333</td>\n",
       "      <td>0.116667</td>\n",
       "      <td>0.000000</td>\n",
       "      <td>0.041667</td>\n",
       "      <td>0.050000</td>\n",
       "    </tr>\n",
       "    <tr>\n",
       "      <th>2017-03-20</th>\n",
       "      <td>36</td>\n",
       "      <td>Jeroen Dijsselbloem</td>\n",
       "      <td>Let me start with our discussion on Greece. We...</td>\n",
       "      <td>0.222222</td>\n",
       "      <td>0.022222</td>\n",
       "      <td>0.155556</td>\n",
       "      <td>0.022222</td>\n",
       "      <td>0.000000</td>\n",
       "      <td>0.155556</td>\n",
       "      <td>0.000000</td>\n",
       "      <td>0.000000</td>\n",
       "      <td>0.066667</td>\n",
       "    </tr>\n",
       "    <tr>\n",
       "      <th>2017-04-07</th>\n",
       "      <td>37</td>\n",
       "      <td>Jeroen Dijsselbloem</td>\n",
       "      <td>Let me start with Greece. We have achieved sig...</td>\n",
       "      <td>0.264463</td>\n",
       "      <td>0.024793</td>\n",
       "      <td>0.173554</td>\n",
       "      <td>0.008264</td>\n",
       "      <td>0.000000</td>\n",
       "      <td>0.099174</td>\n",
       "      <td>0.000000</td>\n",
       "      <td>0.016529</td>\n",
       "      <td>0.049587</td>\n",
       "    </tr>\n",
       "    <tr>\n",
       "      <th>2017-06-22</th>\n",
       "      <td>38</td>\n",
       "      <td>Jeroen Dijsselbloem</td>\n",
       "      <td>I will only speak about Greece, because I thin...</td>\n",
       "      <td>0.190789</td>\n",
       "      <td>0.118421</td>\n",
       "      <td>0.098684</td>\n",
       "      <td>0.019737</td>\n",
       "      <td>0.013158</td>\n",
       "      <td>0.125000</td>\n",
       "      <td>0.000000</td>\n",
       "      <td>0.006579</td>\n",
       "      <td>0.046053</td>\n",
       "    </tr>\n",
       "    <tr>\n",
       "      <th>2017-06-15</th>\n",
       "      <td>39</td>\n",
       "      <td>Jeroen Dijsselbloem</td>\n",
       "      <td>Our meeting revolved mainly around Greece, and...</td>\n",
       "      <td>0.273438</td>\n",
       "      <td>0.058594</td>\n",
       "      <td>0.183594</td>\n",
       "      <td>0.023438</td>\n",
       "      <td>0.015625</td>\n",
       "      <td>0.078125</td>\n",
       "      <td>0.015625</td>\n",
       "      <td>0.039062</td>\n",
       "      <td>0.050781</td>\n",
       "    </tr>\n",
       "  </tbody>\n",
       "</table>\n",
       "</div>"
      ],
      "text/plain": [
       "            index              Speaker  \\\n",
       "date                                     \n",
       "2017-02-20     35  Jeroen Dijsselbloem   \n",
       "2017-03-20     36  Jeroen Dijsselbloem   \n",
       "2017-04-07     37  Jeroen Dijsselbloem   \n",
       "2017-06-22     38  Jeroen Dijsselbloem   \n",
       "2017-06-15     39  Jeroen Dijsselbloem   \n",
       "\n",
       "                                                       speech  positivity  \\\n",
       "date                                                                        \n",
       "2017-02-20  Let me come quickly to the topic that probably...    0.266667   \n",
       "2017-03-20  Let me start with our discussion on Greece. We...    0.222222   \n",
       "2017-04-07  Let me start with Greece. We have achieved sig...    0.264463   \n",
       "2017-06-22  I will only speak about Greece, because I thin...    0.190789   \n",
       "2017-06-15  Our meeting revolved mainly around Greece, and...    0.273438   \n",
       "\n",
       "            negativity     trust  surprise     anger  anticipation   disgust  \\\n",
       "date                                                                           \n",
       "2017-02-20    0.058333  0.216667  0.033333  0.008333      0.116667  0.000000   \n",
       "2017-03-20    0.022222  0.155556  0.022222  0.000000      0.155556  0.000000   \n",
       "2017-04-07    0.024793  0.173554  0.008264  0.000000      0.099174  0.000000   \n",
       "2017-06-22    0.118421  0.098684  0.019737  0.013158      0.125000  0.000000   \n",
       "2017-06-15    0.058594  0.183594  0.023438  0.015625      0.078125  0.015625   \n",
       "\n",
       "                fear       joy  \n",
       "date                            \n",
       "2017-02-20  0.041667  0.050000  \n",
       "2017-03-20  0.000000  0.066667  \n",
       "2017-04-07  0.016529  0.049587  \n",
       "2017-06-22  0.006579  0.046053  \n",
       "2017-06-15  0.039062  0.050781  "
      ]
     },
     "execution_count": 129,
     "metadata": {},
     "output_type": "execute_result"
    }
   ],
   "source": [
    "dijsselbloem_df.reset_index(inplace=True)\n",
    "dijsselbloem_df['date'] = pd.to_datetime(dijsselbloem_df['date'], format=\"%m.%d.%Y\")\n",
    "dijsselbloem_df.set_index('date', inplace=True)\n",
    "dijsselbloem_df.tail()"
   ]
  },
  {
   "cell_type": "code",
   "execution_count": 131,
   "metadata": {
    "collapsed": true
   },
   "outputs": [],
   "source": [
    "positive_words = emolex_stemmed_df[emolex_stemmed_df.positive == 1].stemmed\n",
    "moscovici_df['positivity'] = wordcount_df[positive_words].sum(axis=1)\n",
    "\n",
    "negative_words = emolex_stemmed_df[emolex_stemmed_df.negative == 1].stemmed\n",
    "moscovici_df['negativity'] = wordcount_df[negative_words].sum(axis=1)\n",
    "\n",
    "trust_words = emolex_stemmed_df[emolex_stemmed_df.trust == 1].stemmed\n",
    "moscovici_df['trust'] = wordcount_df[trust_words].sum(axis=1)\n",
    "\n",
    "surprise_words = emolex_stemmed_df[emolex_stemmed_df.surprise == 1].stemmed\n",
    "moscovici_df['surprise'] = wordcount_df[surprise_words].sum(axis=1)\n",
    "\n",
    "\n",
    "\n",
    "angry_words = emolex_stemmed_df[emolex_stemmed_df.anger == 1].stemmed\n",
    "moscovici_df['anger'] = wordcount_df[angry_words].sum(axis=1)\n",
    "\n",
    "anticipating_words = emolex_stemmed_df[emolex_stemmed_df.anticipation == 1].stemmed\n",
    "moscovici_df['anticipation'] = wordcount_df[anticipating_words].sum(axis=1)\n",
    "\n",
    "disgusting_words = emolex_stemmed_df[emolex_stemmed_df.disgust == 1].stemmed\n",
    "moscovici_df['disgust'] = wordcount_df[disgusting_words].sum(axis=1)\n",
    "\n",
    "fear_words = emolex_stemmed_df[emolex_stemmed_df.fear == 1].stemmed\n",
    "moscovici_df['fear'] = wordcount_df[fear_words].sum(axis=1)\n",
    "\n",
    "joy = emolex_stemmed_df[emolex_stemmed_df.joy == 1].stemmed\n",
    "moscovici_df['joy'] = wordcount_df[joy].sum(axis=1)\n",
    "\n",
    "\n",
    "\n",
    "\n",
    "\n"
   ]
  },
  {
   "cell_type": "code",
   "execution_count": 132,
   "metadata": {},
   "outputs": [
    {
     "data": {
      "text/html": [
       "<div>\n",
       "<style>\n",
       "    .dataframe thead tr:only-child th {\n",
       "        text-align: right;\n",
       "    }\n",
       "\n",
       "    .dataframe thead th {\n",
       "        text-align: left;\n",
       "    }\n",
       "\n",
       "    .dataframe tbody tr th {\n",
       "        vertical-align: top;\n",
       "    }\n",
       "</style>\n",
       "<table border=\"1\" class=\"dataframe\">\n",
       "  <thead>\n",
       "    <tr style=\"text-align: right;\">\n",
       "      <th></th>\n",
       "      <th>index</th>\n",
       "      <th>Speaker</th>\n",
       "      <th>speech</th>\n",
       "      <th>Link</th>\n",
       "      <th>positivity</th>\n",
       "      <th>negativity</th>\n",
       "      <th>trust</th>\n",
       "      <th>surprise</th>\n",
       "      <th>anger</th>\n",
       "      <th>anticipation</th>\n",
       "      <th>disgust</th>\n",
       "      <th>fear</th>\n",
       "      <th>joy</th>\n",
       "    </tr>\n",
       "    <tr>\n",
       "      <th>date</th>\n",
       "      <th></th>\n",
       "      <th></th>\n",
       "      <th></th>\n",
       "      <th></th>\n",
       "      <th></th>\n",
       "      <th></th>\n",
       "      <th></th>\n",
       "      <th></th>\n",
       "      <th></th>\n",
       "      <th></th>\n",
       "      <th></th>\n",
       "      <th></th>\n",
       "      <th></th>\n",
       "    </tr>\n",
       "  </thead>\n",
       "  <tbody>\n",
       "    <tr>\n",
       "      <th>2015-09-12</th>\n",
       "      <td>0</td>\n",
       "      <td>Pierre Moscovici</td>\n",
       "      <td>Je commence par un mot sur la Grèce et sur Chy...</td>\n",
       "      <td>http://europa.eu/rapid/press-release_SPEECH-15...</td>\n",
       "      <td>0.092105</td>\n",
       "      <td>0.065789</td>\n",
       "      <td>0.065789</td>\n",
       "      <td>0.013158</td>\n",
       "      <td>0.013158</td>\n",
       "      <td>0.026316</td>\n",
       "      <td>0.000000</td>\n",
       "      <td>0.000000</td>\n",
       "      <td>0.000000</td>\n",
       "    </tr>\n",
       "    <tr>\n",
       "      <th>2015-11-09</th>\n",
       "      <td>1</td>\n",
       "      <td>Pierre Moscovici</td>\n",
       "      <td>Merci Jeroen. \\nJ’ai effectivement informé l’E...</td>\n",
       "      <td>http://europa.eu/rapid/press-release_SPEECH-15...</td>\n",
       "      <td>0.337349</td>\n",
       "      <td>0.072289</td>\n",
       "      <td>0.072289</td>\n",
       "      <td>0.024096</td>\n",
       "      <td>0.024096</td>\n",
       "      <td>0.036145</td>\n",
       "      <td>0.048193</td>\n",
       "      <td>0.036145</td>\n",
       "      <td>0.036145</td>\n",
       "    </tr>\n",
       "    <tr>\n",
       "      <th>2015-11-23</th>\n",
       "      <td>2</td>\n",
       "      <td>Pierre Moscovici</td>\n",
       "      <td>Je vais être très bref car Jeroen a dit l'esse...</td>\n",
       "      <td>http://europa.eu/rapid/press-release_STATEMENT...</td>\n",
       "      <td>0.318182</td>\n",
       "      <td>0.068182</td>\n",
       "      <td>0.090909</td>\n",
       "      <td>0.022727</td>\n",
       "      <td>0.000000</td>\n",
       "      <td>0.136364</td>\n",
       "      <td>0.045455</td>\n",
       "      <td>0.022727</td>\n",
       "      <td>0.022727</td>\n",
       "    </tr>\n",
       "    <tr>\n",
       "      <th>2015-12-07</th>\n",
       "      <td>3</td>\n",
       "      <td>Pierre Moscovici</td>\n",
       "      <td>Je vais commencer par quelques mots sur la Grè...</td>\n",
       "      <td>http://europa.eu/rapid/press-release_SPEECH-15...</td>\n",
       "      <td>0.206897</td>\n",
       "      <td>0.034483</td>\n",
       "      <td>0.172414</td>\n",
       "      <td>0.034483</td>\n",
       "      <td>0.017241</td>\n",
       "      <td>0.068966</td>\n",
       "      <td>0.017241</td>\n",
       "      <td>0.034483</td>\n",
       "      <td>0.068966</td>\n",
       "    </tr>\n",
       "    <tr>\n",
       "      <th>2016-01-14</th>\n",
       "      <td>4</td>\n",
       "      <td>Pierre Moscovici</td>\n",
       "      <td>Tout d’abord, mes meilleurs vœux à chacune et ...</td>\n",
       "      <td>http://europa.eu/rapid/press-release_SPEECH-16...</td>\n",
       "      <td>0.253333</td>\n",
       "      <td>0.053333</td>\n",
       "      <td>0.120000</td>\n",
       "      <td>0.066667</td>\n",
       "      <td>0.013333</td>\n",
       "      <td>0.026667</td>\n",
       "      <td>0.000000</td>\n",
       "      <td>0.013333</td>\n",
       "      <td>0.013333</td>\n",
       "    </tr>\n",
       "  </tbody>\n",
       "</table>\n",
       "</div>"
      ],
      "text/plain": [
       "            index           Speaker  \\\n",
       "date                                  \n",
       "2015-09-12      0  Pierre Moscovici   \n",
       "2015-11-09      1  Pierre Moscovici   \n",
       "2015-11-23      2  Pierre Moscovici   \n",
       "2015-12-07      3  Pierre Moscovici   \n",
       "2016-01-14      4  Pierre Moscovici   \n",
       "\n",
       "                                                       speech  \\\n",
       "date                                                            \n",
       "2015-09-12  Je commence par un mot sur la Grèce et sur Chy...   \n",
       "2015-11-09  Merci Jeroen. \\nJ’ai effectivement informé l’E...   \n",
       "2015-11-23  Je vais être très bref car Jeroen a dit l'esse...   \n",
       "2015-12-07  Je vais commencer par quelques mots sur la Grè...   \n",
       "2016-01-14  Tout d’abord, mes meilleurs vœux à chacune et ...   \n",
       "\n",
       "                                                         Link  positivity  \\\n",
       "date                                                                        \n",
       "2015-09-12  http://europa.eu/rapid/press-release_SPEECH-15...    0.092105   \n",
       "2015-11-09  http://europa.eu/rapid/press-release_SPEECH-15...    0.337349   \n",
       "2015-11-23  http://europa.eu/rapid/press-release_STATEMENT...    0.318182   \n",
       "2015-12-07  http://europa.eu/rapid/press-release_SPEECH-15...    0.206897   \n",
       "2016-01-14  http://europa.eu/rapid/press-release_SPEECH-16...    0.253333   \n",
       "\n",
       "            negativity     trust  surprise     anger  anticipation   disgust  \\\n",
       "date                                                                           \n",
       "2015-09-12    0.065789  0.065789  0.013158  0.013158      0.026316  0.000000   \n",
       "2015-11-09    0.072289  0.072289  0.024096  0.024096      0.036145  0.048193   \n",
       "2015-11-23    0.068182  0.090909  0.022727  0.000000      0.136364  0.045455   \n",
       "2015-12-07    0.034483  0.172414  0.034483  0.017241      0.068966  0.017241   \n",
       "2016-01-14    0.053333  0.120000  0.066667  0.013333      0.026667  0.000000   \n",
       "\n",
       "                fear       joy  \n",
       "date                            \n",
       "2015-09-12  0.000000  0.000000  \n",
       "2015-11-09  0.036145  0.036145  \n",
       "2015-11-23  0.022727  0.022727  \n",
       "2015-12-07  0.034483  0.068966  \n",
       "2016-01-14  0.013333  0.013333  "
      ]
     },
     "execution_count": 132,
     "metadata": {},
     "output_type": "execute_result"
    }
   ],
   "source": [
    "moscovici_df.reset_index(inplace=True)\n",
    "moscovici_df['date'] = pd.to_datetime(moscovici_df['date'], format=\"%m.%d.%Y\")\n",
    "\n",
    "moscovici_df.set_index('date', inplace=True)\n",
    "moscovici_df.head()"
   ]
  },
  {
   "cell_type": "code",
   "execution_count": 133,
   "metadata": {
    "collapsed": true
   },
   "outputs": [],
   "source": [
    "positive_words = emolex_stemmed_df[emolex_stemmed_df.positive == 1].stemmed\n",
    "regling_df['positivity'] = wordcount_df2[positive_words].sum(axis=1)\n",
    "\n",
    "negative_words = emolex_stemmed_df[emolex_stemmed_df.negative == 1].stemmed\n",
    "regling_df['negativity'] = wordcount_df2[negative_words].sum(axis=1)\n",
    "\n",
    "trust_words = emolex_stemmed_df[emolex_stemmed_df.trust == 1].stemmed\n",
    "regling_df['trust'] = wordcount_df2[trust_words].sum(axis=1)\n",
    "\n",
    "surprise_words = emolex_stemmed_df[emolex_stemmed_df.surprise == 1].stemmed\n",
    "regling_df['surprise'] = wordcount_df2[surprise_words].sum(axis=1)\n",
    "\n",
    "\n",
    "\n",
    "angry_words = emolex_stemmed_df[emolex_stemmed_df.anger == 1].stemmed\n",
    "regling_df['anger'] = wordcount_df2[angry_words].sum(axis=1)\n",
    "\n",
    "anticipating_words = emolex_stemmed_df[emolex_stemmed_df.anticipation == 1].stemmed\n",
    "regling_df['anticipation'] = wordcount_df2[anticipating_words].sum(axis=1)\n",
    "\n",
    "disgusting_words = emolex_stemmed_df[emolex_stemmed_df.disgust == 1].stemmed\n",
    "regling_df['disgust'] = wordcount_df2[disgusting_words].sum(axis=1)\n",
    "\n",
    "fear_words = emolex_stemmed_df[emolex_stemmed_df.fear == 1].stemmed\n",
    "regling_df['fear'] = wordcount_df2[fear_words].sum(axis=1)\n",
    "\n",
    "joy = emolex_stemmed_df[emolex_stemmed_df.joy == 1].stemmed\n",
    "regling_df['joy'] = wordcount_df2[joy].sum(axis=1)\n",
    "\n",
    "\n",
    "\n",
    "\n",
    "\n",
    "\n"
   ]
  },
  {
   "cell_type": "code",
   "execution_count": 134,
   "metadata": {},
   "outputs": [
    {
     "data": {
      "text/html": [
       "<div>\n",
       "<style>\n",
       "    .dataframe thead tr:only-child th {\n",
       "        text-align: right;\n",
       "    }\n",
       "\n",
       "    .dataframe thead th {\n",
       "        text-align: left;\n",
       "    }\n",
       "\n",
       "    .dataframe tbody tr th {\n",
       "        vertical-align: top;\n",
       "    }\n",
       "</style>\n",
       "<table border=\"1\" class=\"dataframe\">\n",
       "  <thead>\n",
       "    <tr style=\"text-align: right;\">\n",
       "      <th></th>\n",
       "      <th>index</th>\n",
       "      <th>Speaker</th>\n",
       "      <th>speech</th>\n",
       "      <th>Link</th>\n",
       "      <th>positivity</th>\n",
       "      <th>negativity</th>\n",
       "      <th>trust</th>\n",
       "      <th>surprise</th>\n",
       "      <th>anger</th>\n",
       "      <th>anticipation</th>\n",
       "      <th>disgust</th>\n",
       "      <th>fear</th>\n",
       "      <th>joy</th>\n",
       "    </tr>\n",
       "    <tr>\n",
       "      <th>date</th>\n",
       "      <th></th>\n",
       "      <th></th>\n",
       "      <th></th>\n",
       "      <th></th>\n",
       "      <th></th>\n",
       "      <th></th>\n",
       "      <th></th>\n",
       "      <th></th>\n",
       "      <th></th>\n",
       "      <th></th>\n",
       "      <th></th>\n",
       "      <th></th>\n",
       "      <th></th>\n",
       "    </tr>\n",
       "  </thead>\n",
       "  <tbody>\n",
       "    <tr>\n",
       "      <th>2016-04-22</th>\n",
       "      <td>0</td>\n",
       "      <td>Klaus Regling</td>\n",
       "      <td>A few words on Greece from the ESM perspective...</td>\n",
       "      <td>https://www.esm.europa.eu/press-releases/trans...</td>\n",
       "      <td>0.287037</td>\n",
       "      <td>0.092593</td>\n",
       "      <td>0.222222</td>\n",
       "      <td>0.083333</td>\n",
       "      <td>0.009259</td>\n",
       "      <td>0.148148</td>\n",
       "      <td>0.018519</td>\n",
       "      <td>0.027778</td>\n",
       "      <td>0.101852</td>\n",
       "    </tr>\n",
       "    <tr>\n",
       "      <th>2016-05-25</th>\n",
       "      <td>1</td>\n",
       "      <td>Klaus Regling</td>\n",
       "      <td>The Eurogroup welcomes that a full staff-level...</td>\n",
       "      <td>https://www.esm.europa.eu/press-releases/eurog...</td>\n",
       "      <td>0.204819</td>\n",
       "      <td>0.117040</td>\n",
       "      <td>0.151463</td>\n",
       "      <td>0.010327</td>\n",
       "      <td>0.017212</td>\n",
       "      <td>0.077453</td>\n",
       "      <td>0.017212</td>\n",
       "      <td>0.015491</td>\n",
       "      <td>0.036145</td>\n",
       "    </tr>\n",
       "    <tr>\n",
       "      <th>2016-10-10</th>\n",
       "      <td>2</td>\n",
       "      <td>Klaus Regling</td>\n",
       "      <td>Let me give you a few more details on the disb...</td>\n",
       "      <td>https://www.esm.europa.eu/press-releases/trans...</td>\n",
       "      <td>0.228571</td>\n",
       "      <td>0.107143</td>\n",
       "      <td>0.235714</td>\n",
       "      <td>0.021429</td>\n",
       "      <td>0.007143</td>\n",
       "      <td>0.121429</td>\n",
       "      <td>0.000000</td>\n",
       "      <td>0.000000</td>\n",
       "      <td>0.057143</td>\n",
       "    </tr>\n",
       "    <tr>\n",
       "      <th>2016-11-07</th>\n",
       "      <td>3</td>\n",
       "      <td>Klaus Regling</td>\n",
       "      <td>On Greece, you’ve heard about the progress the...</td>\n",
       "      <td>https://www.esm.europa.eu/press-releases/trans...</td>\n",
       "      <td>0.182609</td>\n",
       "      <td>0.047826</td>\n",
       "      <td>0.126087</td>\n",
       "      <td>0.026087</td>\n",
       "      <td>0.030435</td>\n",
       "      <td>0.126087</td>\n",
       "      <td>0.000000</td>\n",
       "      <td>0.017391</td>\n",
       "      <td>0.086957</td>\n",
       "    </tr>\n",
       "    <tr>\n",
       "      <th>2016-12-05</th>\n",
       "      <td>4</td>\n",
       "      <td>Klaus Regling</td>\n",
       "      <td>Good evening, let me say a few words about the...</td>\n",
       "      <td>https://www.esm.europa.eu/press-releases/trans...</td>\n",
       "      <td>0.166163</td>\n",
       "      <td>0.099698</td>\n",
       "      <td>0.102719</td>\n",
       "      <td>0.030211</td>\n",
       "      <td>0.021148</td>\n",
       "      <td>0.108761</td>\n",
       "      <td>0.009063</td>\n",
       "      <td>0.039275</td>\n",
       "      <td>0.066465</td>\n",
       "    </tr>\n",
       "  </tbody>\n",
       "</table>\n",
       "</div>"
      ],
      "text/plain": [
       "            index        Speaker  \\\n",
       "date                               \n",
       "2016-04-22      0  Klaus Regling   \n",
       "2016-05-25      1  Klaus Regling   \n",
       "2016-10-10      2  Klaus Regling   \n",
       "2016-11-07      3  Klaus Regling   \n",
       "2016-12-05      4  Klaus Regling   \n",
       "\n",
       "                                                       speech  \\\n",
       "date                                                            \n",
       "2016-04-22  A few words on Greece from the ESM perspective...   \n",
       "2016-05-25  The Eurogroup welcomes that a full staff-level...   \n",
       "2016-10-10  Let me give you a few more details on the disb...   \n",
       "2016-11-07  On Greece, you’ve heard about the progress the...   \n",
       "2016-12-05  Good evening, let me say a few words about the...   \n",
       "\n",
       "                                                         Link  positivity  \\\n",
       "date                                                                        \n",
       "2016-04-22  https://www.esm.europa.eu/press-releases/trans...    0.287037   \n",
       "2016-05-25  https://www.esm.europa.eu/press-releases/eurog...    0.204819   \n",
       "2016-10-10  https://www.esm.europa.eu/press-releases/trans...    0.228571   \n",
       "2016-11-07  https://www.esm.europa.eu/press-releases/trans...    0.182609   \n",
       "2016-12-05  https://www.esm.europa.eu/press-releases/trans...    0.166163   \n",
       "\n",
       "            negativity     trust  surprise     anger  anticipation   disgust  \\\n",
       "date                                                                           \n",
       "2016-04-22    0.092593  0.222222  0.083333  0.009259      0.148148  0.018519   \n",
       "2016-05-25    0.117040  0.151463  0.010327  0.017212      0.077453  0.017212   \n",
       "2016-10-10    0.107143  0.235714  0.021429  0.007143      0.121429  0.000000   \n",
       "2016-11-07    0.047826  0.126087  0.026087  0.030435      0.126087  0.000000   \n",
       "2016-12-05    0.099698  0.102719  0.030211  0.021148      0.108761  0.009063   \n",
       "\n",
       "                fear       joy  \n",
       "date                            \n",
       "2016-04-22  0.027778  0.101852  \n",
       "2016-05-25  0.015491  0.036145  \n",
       "2016-10-10  0.000000  0.057143  \n",
       "2016-11-07  0.017391  0.086957  \n",
       "2016-12-05  0.039275  0.066465  "
      ]
     },
     "execution_count": 134,
     "metadata": {},
     "output_type": "execute_result"
    }
   ],
   "source": [
    "regling_df.reset_index(inplace=True)\n",
    "regling_df['date'] = pd.to_datetime(regling_df['date'], format=\"%m.%d.%Y\")\n",
    "regling_df.set_index('date', inplace=True)\n",
    "regling_df.head()"
   ]
  },
  {
   "cell_type": "code",
   "execution_count": 135,
   "metadata": {
    "collapsed": true
   },
   "outputs": [],
   "source": [
    "dijsselbloem_df = dijsselbloem_df.replace(np.NaN, 0)"
   ]
  },
  {
   "cell_type": "code",
   "execution_count": 136,
   "metadata": {
    "collapsed": true
   },
   "outputs": [],
   "source": [
    "moscovici_df = moscovici_df.replace(np.NaN, 0)"
   ]
  },
  {
   "cell_type": "code",
   "execution_count": 137,
   "metadata": {
    "collapsed": true
   },
   "outputs": [],
   "source": [
    "regling_df = regling_df.replace(np.NaN, 0)"
   ]
  },
  {
   "cell_type": "code",
   "execution_count": 139,
   "metadata": {
    "collapsed": true
   },
   "outputs": [],
   "source": [
    "positive_words = emolex_stemmed_df[emolex_stemmed_df.positive == 1].stemmed\n",
    "statement_df['positivity'] = wordcount_df3[positive_words].sum(axis=1)\n",
    "\n",
    "negative_words = emolex_stemmed_df[emolex_stemmed_df.negative == 1].stemmed\n",
    "statement_df['negativity'] = wordcount_df3[positive_words].sum(axis=1)\n",
    "\n",
    "trust_words = emolex_stemmed_df[emolex_stemmed_df.trust == 1].stemmed\n",
    "statement_df['trust'] = wordcount_df3[positive_words].sum(axis=1)\n",
    "\n",
    "surprise_words = emolex_stemmed_df[emolex_stemmed_df.surprise == 1].stemmed\n",
    "statement_df['surprise'] = wordcount_df3[positive_words].sum(axis=1)\n",
    "\n",
    "\n",
    "\n",
    "angry_words = emolex_stemmed_df[emolex_stemmed_df.anger == 1].stemmed\n",
    "statement_df['anger'] = wordcount_df3[angry_words].sum(axis=1)\n",
    "\n",
    "anticipating_words = emolex_stemmed_df[emolex_stemmed_df.anticipation == 1].stemmed\n",
    "statement_df['anticipation'] = wordcount_df3[anticipating_words].sum(axis=1)\n",
    "\n",
    "disgusting_words = emolex_stemmed_df[emolex_stemmed_df.disgust == 1].stemmed\n",
    "statement_df['disgust'] = wordcount_df3[disgusting_words].sum(axis=1)\n",
    "\n",
    "fear_words = emolex_stemmed_df[emolex_stemmed_df.fear == 1].stemmed\n",
    "statement_df['fear'] = wordcount_df3[fear_words].sum(axis=1)\n",
    "\n",
    "joy = emolex_stemmed_df[emolex_stemmed_df.joy == 1].stemmed\n",
    "statement_df['joy'] = wordcount_df3[joy].sum(axis=1)\n",
    "\n",
    "\n",
    "\n",
    "\n",
    "\n",
    "\n"
   ]
  },
  {
   "cell_type": "code",
   "execution_count": 140,
   "metadata": {
    "collapsed": true
   },
   "outputs": [],
   "source": [
    "statement_df.reset_index(inplace=True)\n",
    "statement_df['date'] = pd.to_datetime(statement_df['date'], format=\"%m.%d.%Y\")\n",
    "statement_df.set_index('date', inplace=True)\n",
    "statement_df = statement_df.replace(np.NaN, 0)\n",
    "statement_df.tail()"
   ]
  },
  {
   "cell_type": "code",
   "execution_count": 39,
   "metadata": {
    "collapsed": true
   },
   "outputs": [],
   "source": [
    "positive_words = emolex_stemmed_df[emolex_stemmed_df.positive == 1].stemmed\n",
    "trump_df['positivity'] = wordcount_df4[positive_words].sum(axis=1)\n",
    "\n",
    "\n",
    "angry_words = emolex_stemmed_df[emolex_stemmed_df.anger == 1].stemmed\n",
    "trump_df['anger'] = wordcount_df4[angry_words].sum(axis=1)\n",
    "\n",
    "anticipating_words = emolex_stemmed_df[emolex_stemmed_df.anticipation == 1].stemmed\n",
    "trump_df['anticipation'] = wordcount_df4[anticipating_words].sum(axis=1)\n",
    "\n",
    "disgusting_words = emolex_stemmed_df[emolex_stemmed_df.disgust == 1].stemmed\n",
    "trump_df['disgust'] = wordcount_df4[disgusting_words].sum(axis=1)\n",
    "\n",
    "fear_words = emolex_stemmed_df[emolex_stemmed_df.fear == 1].stemmed\n",
    "trump_df['fear'] = wordcount_df4[fear_words].sum(axis=1)\n",
    "\n",
    "joy = emolex_stemmed_df[emolex_stemmed_df.joy == 1].stemmed\n",
    "trump_df['joy'] = wordcount_df4[joy].sum(axis=1)\n",
    "\n",
    "\n",
    "\n",
    "\n",
    "\n"
   ]
  },
  {
   "cell_type": "code",
   "execution_count": 40,
   "metadata": {},
   "outputs": [
    {
     "data": {
      "text/html": [
       "<div>\n",
       "<style>\n",
       "    .dataframe thead tr:only-child th {\n",
       "        text-align: right;\n",
       "    }\n",
       "\n",
       "    .dataframe thead th {\n",
       "        text-align: left;\n",
       "    }\n",
       "\n",
       "    .dataframe tbody tr th {\n",
       "        vertical-align: top;\n",
       "    }\n",
       "</style>\n",
       "<table border=\"1\" class=\"dataframe\">\n",
       "  <thead>\n",
       "    <tr style=\"text-align: right;\">\n",
       "      <th></th>\n",
       "      <th>dates</th>\n",
       "      <th>speech</th>\n",
       "      <th>positivity</th>\n",
       "      <th>anger</th>\n",
       "      <th>anticipation</th>\n",
       "      <th>disgust</th>\n",
       "      <th>fear</th>\n",
       "      <th>joy</th>\n",
       "    </tr>\n",
       "  </thead>\n",
       "  <tbody>\n",
       "    <tr>\n",
       "      <th>0</th>\n",
       "      <td>June 16, 2015</td>\n",
       "      <td>b'Trump: Wow. Whoa. That is some group of peop...</td>\n",
       "      <td>0.267809</td>\n",
       "      <td>0.041243</td>\n",
       "      <td>0.093733</td>\n",
       "      <td>0.023567</td>\n",
       "      <td>0.049813</td>\n",
       "      <td>0.117300</td>\n",
       "    </tr>\n",
       "    <tr>\n",
       "      <th>1</th>\n",
       "      <td>March 21, 2016</td>\n",
       "      <td>b' Good evening. Thank you very much. I speak ...</td>\n",
       "      <td>0.259574</td>\n",
       "      <td>0.099291</td>\n",
       "      <td>0.130496</td>\n",
       "      <td>0.046809</td>\n",
       "      <td>0.136170</td>\n",
       "      <td>0.119149</td>\n",
       "    </tr>\n",
       "    <tr>\n",
       "      <th>2</th>\n",
       "      <td>April 27, 2016</td>\n",
       "      <td>b'Thank you for the opportunity to speak to yo...</td>\n",
       "      <td>0.248569</td>\n",
       "      <td>0.077678</td>\n",
       "      <td>0.103843</td>\n",
       "      <td>0.031071</td>\n",
       "      <td>0.116926</td>\n",
       "      <td>0.096484</td>\n",
       "    </tr>\n",
       "    <tr>\n",
       "      <th>3</th>\n",
       "      <td>June 13, 2016</td>\n",
       "      <td>b'Thank you for joining me today.This was goin...</td>\n",
       "      <td>0.192615</td>\n",
       "      <td>0.100798</td>\n",
       "      <td>0.063872</td>\n",
       "      <td>0.040918</td>\n",
       "      <td>0.151697</td>\n",
       "      <td>0.044910</td>\n",
       "    </tr>\n",
       "    <tr>\n",
       "      <th>4</th>\n",
       "      <td>June 22, 2016</td>\n",
       "      <td>b'Today I\\'d like to share my thoughts about t...</td>\n",
       "      <td>0.210010</td>\n",
       "      <td>0.080471</td>\n",
       "      <td>0.097154</td>\n",
       "      <td>0.042198</td>\n",
       "      <td>0.110893</td>\n",
       "      <td>0.076546</td>\n",
       "    </tr>\n",
       "  </tbody>\n",
       "</table>\n",
       "</div>"
      ],
      "text/plain": [
       "            dates                                             speech  \\\n",
       "0   June 16, 2015  b'Trump: Wow. Whoa. That is some group of peop...   \n",
       "1  March 21, 2016  b' Good evening. Thank you very much. I speak ...   \n",
       "2  April 27, 2016  b'Thank you for the opportunity to speak to yo...   \n",
       "3   June 13, 2016  b'Thank you for joining me today.This was goin...   \n",
       "4   June 22, 2016  b'Today I\\'d like to share my thoughts about t...   \n",
       "\n",
       "   positivity     anger  anticipation   disgust      fear       joy  \n",
       "0    0.267809  0.041243      0.093733  0.023567  0.049813  0.117300  \n",
       "1    0.259574  0.099291      0.130496  0.046809  0.136170  0.119149  \n",
       "2    0.248569  0.077678      0.103843  0.031071  0.116926  0.096484  \n",
       "3    0.192615  0.100798      0.063872  0.040918  0.151697  0.044910  \n",
       "4    0.210010  0.080471      0.097154  0.042198  0.110893  0.076546  "
      ]
     },
     "execution_count": 40,
     "metadata": {},
     "output_type": "execute_result"
    }
   ],
   "source": [
    "trump_df.head()"
   ]
  },
  {
   "cell_type": "code",
   "execution_count": 41,
   "metadata": {
    "collapsed": true
   },
   "outputs": [],
   "source": [
    "trump_df['dates'] = pd.to_datetime(trump_df['dates'], format=\"%B %d, %Y\")\n",
    "trump_df.set_index('dates', inplace=True)\n",
    "trump_df = trump_df.replace(np.NaN, 0)"
   ]
  },
  {
   "cell_type": "code",
   "execution_count": 42,
   "metadata": {},
   "outputs": [
    {
     "data": {
      "text/html": [
       "<div>\n",
       "<style>\n",
       "    .dataframe thead tr:only-child th {\n",
       "        text-align: right;\n",
       "    }\n",
       "\n",
       "    .dataframe thead th {\n",
       "        text-align: left;\n",
       "    }\n",
       "\n",
       "    .dataframe tbody tr th {\n",
       "        vertical-align: top;\n",
       "    }\n",
       "</style>\n",
       "<table border=\"1\" class=\"dataframe\">\n",
       "  <thead>\n",
       "    <tr style=\"text-align: right;\">\n",
       "      <th></th>\n",
       "      <th>speech</th>\n",
       "      <th>positivity</th>\n",
       "      <th>anger</th>\n",
       "      <th>anticipation</th>\n",
       "      <th>disgust</th>\n",
       "      <th>fear</th>\n",
       "      <th>joy</th>\n",
       "    </tr>\n",
       "    <tr>\n",
       "      <th>dates</th>\n",
       "      <th></th>\n",
       "      <th></th>\n",
       "      <th></th>\n",
       "      <th></th>\n",
       "      <th></th>\n",
       "      <th></th>\n",
       "      <th></th>\n",
       "    </tr>\n",
       "  </thead>\n",
       "  <tbody>\n",
       "    <tr>\n",
       "      <th>2015-06-16</th>\n",
       "      <td>b'Trump: Wow. Whoa. That is some group of peop...</td>\n",
       "      <td>0.267809</td>\n",
       "      <td>0.041243</td>\n",
       "      <td>0.093733</td>\n",
       "      <td>0.023567</td>\n",
       "      <td>0.049813</td>\n",
       "      <td>0.1173</td>\n",
       "    </tr>\n",
       "  </tbody>\n",
       "</table>\n",
       "</div>"
      ],
      "text/plain": [
       "                                                       speech  positivity  \\\n",
       "dates                                                                       \n",
       "2015-06-16  b'Trump: Wow. Whoa. That is some group of peop...    0.267809   \n",
       "\n",
       "               anger  anticipation   disgust      fear     joy  \n",
       "dates                                                           \n",
       "2015-06-16  0.041243      0.093733  0.023567  0.049813  0.1173  "
      ]
     },
     "execution_count": 42,
     "metadata": {},
     "output_type": "execute_result"
    }
   ],
   "source": [
    "trump_df.head(1)"
   ]
  },
  {
   "cell_type": "code",
   "execution_count": 85,
   "metadata": {},
   "outputs": [
    {
     "data": {
      "text/plain": [
       "<matplotlib.axes._subplots.AxesSubplot at 0x1147189b0>"
      ]
     },
     "execution_count": 85,
     "metadata": {},
     "output_type": "execute_result"
    },
    {
     "data": {
      "image/png": "[encoded data removed]",
      "text/plain": [
       "<matplotlib.figure.Figure at 0x1147180f0>"
      ]
     },
     "metadata": {},
     "output_type": "display_data"
    }
   ],
   "source": [
    "ax = dijsselbloem_df.plot(y='anticipation', marker='o', linestyle='', figsize=(8,8), c='blue')\n",
    "moscovici_df.plot(y='anticipation', marker='o', linestyle='', c='red', ax=ax)"
   ]
  },
  {
   "cell_type": "code",
   "execution_count": 86,
   "metadata": {},
   "outputs": [
    {
     "data": {
      "text/plain": [
       "<matplotlib.axes._subplots.AxesSubplot at 0x114803d30>"
      ]
     },
     "execution_count": 86,
     "metadata": {},
     "output_type": "execute_result"
    },
    {
     "data": {
      "image/png": "[encoded data removed]",
      "text/plain": [
       "<matplotlib.figure.Figure at 0x114816240>"
      ]
     },
     "metadata": {},
     "output_type": "display_data"
    }
   ],
   "source": [
    "ax = dijsselbloem_df.plot(y='positivity', marker='o', linestyle='', figsize=(8,8), c='blue')\n",
    "moscovici_df.plot(y='positivity', marker='o', linestyle='', c='red', ax=ax)"
   ]
  },
  {
   "cell_type": "code",
   "execution_count": 89,
   "metadata": {},
   "outputs": [
    {
     "data": {
      "text/plain": [
       "(0, 0.6)"
      ]
     },
     "execution_count": 89,
     "metadata": {},
     "output_type": "execute_result"
    },
    {
     "data": {
      "image/png": "[encoded data removed]",
      "text/plain": [
       "<matplotlib.figure.Figure at 0x11701fef0>"
      ]
     },
     "metadata": {},
     "output_type": "display_data"
    }
   ],
   "source": [
    "fig, ax = plt.subplots()\n",
    "\n",
    "dijsselbloem_df.plot(x='positivity', y='anticipation', c='blue', marker='o', linestyle='', ax=ax, figsize=(8,8))\n",
    "moscovici_df.plot(x='positivity', y='anticipation', c='red', ax=ax, marker='o', linestyle='')\n",
    "regling_df.plot(x='positivity', y='anticipation', c='green', ax=ax, marker='o', linestyle='')\n",
    "\n",
    "\n",
    "ax.set_xlim(0,0.6)\n",
    "ax.set_ylim(0,0.6)"
   ]
  },
  {
   "cell_type": "code",
   "execution_count": null,
   "metadata": {
    "collapsed": true
   },
   "outputs": [],
   "source": [
    "fig, ax = plt.subplots()\n",
    "\n",
    "dijsselbloem_df.plot(x='fear', y='anticipation', c='blue', marker='o', linestyle='', ax=ax, figsize=(8,8))\n",
    "moscovici_df.plot(x='fear', y='anticipation', c='red', ax=ax, marker='o', linestyle='')\n",
    "regling_df.plot(x='fear', y='anticipation', c='green', ax=ax, marker='o', linestyle='')\n",
    "\n",
    "\n",
    "ax.set_xlim(0,0.3)\n",
    "ax.set_ylim(0,0.3)"
   ]
  },
  {
   "cell_type": "code",
   "execution_count": null,
   "metadata": {
    "collapsed": true
   },
   "outputs": [],
   "source": [
    "fig, ax = plt.subplots()\n",
    "\n",
    "dijsselbloem_df.plot(x='joy', y='anticipation', c='blue', marker='o', linestyle='', ax=ax, figsize=(8,8))\n",
    "moscovici_df.plot(x='joy', y='anticipation', c='red', ax=ax, marker='o', linestyle='')\n",
    "regling_df.plot(x='joy', y='anticipation', c='green', ax=ax, marker='o', linestyle='')\n",
    "\n",
    "\n",
    "ax.set_xlim(0,0.3)\n",
    "ax.set_ylim(0,0.3)"
   ]
  },
  {
   "cell_type": "code",
   "execution_count": 91,
   "metadata": {},
   "outputs": [
    {
     "data": {
      "text/plain": [
       "(0, 0.6)"
      ]
     },
     "execution_count": 91,
     "metadata": {},
     "output_type": "execute_result"
    },
    {
     "data": {
      "image/png": "[encoded data removed]",
      "text/plain": [
       "<matplotlib.figure.Figure at 0x11751db70>"
      ]
     },
     "metadata": {},
     "output_type": "display_data"
    }
   ],
   "source": [
    "fig, ax = plt.subplots()\n",
    "\n",
    "dijsselbloem_df.plot(x='joy', y='positivity', c='blue', marker='o', linestyle='', ax=ax, figsize=(8,8))\n",
    "moscovici_df.plot(x='joy', y='positivity', c='red', ax=ax, marker='o', linestyle='')\n",
    "regling_df.plot(x='joy', y='positivity', c='green', ax=ax, marker='o', linestyle='')\n",
    "\n",
    "\n",
    "ax.set_xlim(0,0.6)\n",
    "ax.set_ylim(0,0.6)"
   ]
  },
  {
   "cell_type": "code",
   "execution_count": null,
   "metadata": {
    "collapsed": true
   },
   "outputs": [],
   "source": [
    "dijsselbloem_df.head(1)"
   ]
  },
  {
   "cell_type": "code",
   "execution_count": 93,
   "metadata": {},
   "outputs": [
    {
     "data": {
      "text/plain": [
       "(0, 0.6)"
      ]
     },
     "execution_count": 93,
     "metadata": {},
     "output_type": "execute_result"
    },
    {
     "data": {
      "image/png": "[encoded data removed]",
      "text/plain": [
       "<matplotlib.figure.Figure at 0x116a12ac8>"
      ]
     },
     "metadata": {},
     "output_type": "display_data"
    }
   ],
   "source": [
    "fig, ax = plt.subplots()\n",
    "ax.scatter(x= dijsselbloem_df.index, y = dijsselbloem_df.positivity)\n",
    "ax.scatter(x= moscovici_df.index, y = moscovici_df.positivity, color='red')\n",
    "ax.scatter(x= regling_df.index, y = regling_df.positivity, color='green')\n",
    "\n",
    "\n",
    "ax.set_ylim(0,0.6)"
   ]
  },
  {
   "cell_type": "code",
   "execution_count": 94,
   "metadata": {},
   "outputs": [
    {
     "data": {
      "text/plain": [
       "(0, 0.6)"
      ]
     },
     "execution_count": 94,
     "metadata": {},
     "output_type": "execute_result"
    },
    {
     "data": {
      "image/png": "[encoded data removed]",
      "text/plain": [
       "<matplotlib.figure.Figure at 0x1174dada0>"
      ]
     },
     "metadata": {},
     "output_type": "display_data"
    }
   ],
   "source": [
    "fig, ax = plt.subplots()\n",
    "\n",
    "dijsselbloem_df.plot(x='joy', y='positivity', c='blue', marker='o', linestyle='', ax=ax, figsize=(8,8))\n",
    "moscovici_df.plot(x='joy', y='positivity', c='red', ax=ax, marker='o', linestyle='')\n",
    "regling_df.plot(x='joy', y='positivity', c='green', ax=ax, marker='o', linestyle='')\n",
    "\n",
    "\n",
    "ax.set_xlim(0,0.6)\n",
    "ax.set_ylim(0,0.6)"
   ]
  },
  {
   "cell_type": "code",
   "execution_count": null,
   "metadata": {
    "collapsed": true
   },
   "outputs": [],
   "source": [
    "dijsselbloem_df.head(1)"
   ]
  },
  {
   "cell_type": "code",
   "execution_count": null,
   "metadata": {
    "collapsed": true
   },
   "outputs": [],
   "source": [
    "fig, ax = plt.subplots()\n",
    "\n",
    "dijsselbloem_df.plot(x='fear', y='anticipation', c='blue', marker='o', linestyle='', ax=ax, figsize=(8,8))\n",
    "moscovici_df.plot(x='fear', y='anticipation', c='red', ax=ax, marker='o', linestyle='')\n",
    "\n",
    "ax.set_xlim(0,0.6)\n",
    "ax.set_ylim(0,0.6)"
   ]
  },
  {
   "cell_type": "code",
   "execution_count": null,
   "metadata": {
    "collapsed": true
   },
   "outputs": [],
   "source": []
  },
  {
   "cell_type": "code",
   "execution_count": null,
   "metadata": {
    "collapsed": true
   },
   "outputs": [],
   "source": [
    "dijsselbloem_df[0:20]"
   ]
  },
  {
   "cell_type": "code",
   "execution_count": 95,
   "metadata": {},
   "outputs": [
    {
     "name": "stdout",
     "output_type": "stream",
     "text": [
      "Fitting 5 clusters usinga  (12, 11029) matrix\n",
      "CPU times: user 141 ms, sys: 45.8 ms, total: 187 ms\n",
      "Wall time: 291 ms\n"
     ]
    }
   ],
   "source": [
    "%%time\n",
    "from sklearn.cluster import KMeans\n",
    "\n",
    "# How many clusters?\n",
    "number_of_clusters=5\n",
    "km = KMeans(n_clusters=number_of_clusters)\n",
    "\n",
    "print(\"Fitting\", number_of_clusters, \"clusters usinga \", matrix.shape, \"matrix\")\n",
    "\n",
    "# Let's fit it!\n",
    "km.fit(matrix)\n",
    "km.fit"
   ]
  },
  {
   "cell_type": "code",
   "execution_count": 96,
   "metadata": {},
   "outputs": [
    {
     "name": "stdout",
     "output_type": "stream",
     "text": [
      "CPU times: user 22.7 ms, sys: 4.11 ms, total: 26.8 ms\n",
      "Wall time: 38.1 ms\n"
     ]
    }
   ],
   "source": [
    "%%time\n",
    "from sklearn.feature_extraction.text import TfidfVectorizer\n",
    "from textblob import TextBlob\n",
    "\n",
    "def textblob_tokenizer(str_input):\n",
    "    blob = TextBlob(str_input.lower())\n",
    "    tokens = blob.words\n",
    "    words = [token.stem() for token in tokens]\n",
    "    return words\n",
    "\n",
    "# Vectorize and save into a new dataframe\n",
    "vec = TfidfVectorizer(\n",
    "                      stop_words='english',\n",
    "                      max_df= 0.9,\n",
    "                    max_features = 250,\n",
    "        ngram_range=(3,3),\n",
    "\n",
    "\n",
    "                      use_idf=True)\n",
    "\n",
    "# Fit from the 'text' column of our dataframe\n",
    "matrix = vec.fit_transform(dijsselbloem_df['speech'][0:20])\n",
    "\n",
    "# Then turn it into a new dataframe\n",
    "results = pd.DataFrame(matrix.toarray(), columns=vec.get_feature_names())"
   ]
  },
  {
   "cell_type": "code",
   "execution_count": 97,
   "metadata": {},
   "outputs": [
    {
     "name": "stdout",
     "output_type": "stream",
     "text": [
      "Fitting 5 clusters usinga  (20, 250) matrix\n",
      "CPU times: user 88.1 ms, sys: 4.53 ms, total: 92.7 ms\n",
      "Wall time: 90.7 ms\n"
     ]
    }
   ],
   "source": [
    "%%time\n",
    "from sklearn.cluster import KMeans\n",
    "\n",
    "# How many clusters?\n",
    "number_of_clusters=5\n",
    "km = KMeans(n_clusters=number_of_clusters)\n",
    "\n",
    "print(\"Fitting\", number_of_clusters, \"clusters usinga \", matrix.shape, \"matrix\")\n",
    "\n",
    "# Let's fit it!\n",
    "km.fit(matrix)\n",
    "km.fit"
   ]
  },
  {
   "cell_type": "code",
   "execution_count": null,
   "metadata": {
    "collapsed": true
   },
   "outputs": [],
   "source": []
  },
  {
   "cell_type": "code",
   "execution_count": null,
   "metadata": {
    "collapsed": true
   },
   "outputs": [],
   "source": []
  },
  {
   "cell_type": "code",
   "execution_count": null,
   "metadata": {
    "collapsed": true
   },
   "outputs": [],
   "source": []
  },
  {
   "cell_type": "code",
   "execution_count": null,
   "metadata": {
    "collapsed": true
   },
   "outputs": [],
   "source": []
  },
  {
   "cell_type": "code",
   "execution_count": null,
   "metadata": {
    "collapsed": true
   },
   "outputs": [],
   "source": []
  },
  {
   "cell_type": "code",
   "execution_count": 99,
   "metadata": {},
   "outputs": [
    {
     "name": "stdout",
     "output_type": "stream",
     "text": [
      "Top terms per cluster: dijsselbloem_df\n",
      "Cluster 0: talks greek authorities| welcome press conference| expiry date current| governors formal decision| government worked hard\n",
      "Cluster 1: area member states| euro area member| european central bank| statement issued following| people required following\n",
      "Cluster 2: new greek government| july 2015 eurogroup| new esm programme| continue talks monday| institutions greek authorities\n",
      "Cluster 3: gross financing needs| board consider financial| consider financial support| prior actions legislated| imf board consider\n",
      "Cluster 4: basis successful conclusion| review like reiterate| comprehensive detailed list| reiterate agreement 20| institutions informed ongoing\n"
     ]
    }
   ],
   "source": [
    "print(\"Top terms per cluster: dijsselbloem_df\")\n",
    "order_centroids = km.cluster_centers_.argsort()[:, ::-1]\n",
    "terms = vec.get_feature_names()\n",
    "for i in range(number_of_clusters):\n",
    "    top_ten_words = [terms[ind] for ind in order_centroids[i, :5]]\n",
    "    print(\"Cluster {}: {}\".format(i, '| '.join(top_ten_words)))"
   ]
  },
  {
   "cell_type": "code",
   "execution_count": null,
   "metadata": {
    "collapsed": true
   },
   "outputs": [],
   "source": []
  },
  {
   "cell_type": "code",
   "execution_count": null,
   "metadata": {
    "collapsed": true
   },
   "outputs": [],
   "source": []
  },
  {
   "cell_type": "code",
   "execution_count": null,
   "metadata": {
    "collapsed": true
   },
   "outputs": [],
   "source": []
  },
  {
   "cell_type": "code",
   "execution_count": null,
   "metadata": {
    "collapsed": true
   },
   "outputs": [],
   "source": []
  },
  {
   "cell_type": "code",
   "execution_count": null,
   "metadata": {
    "collapsed": true
   },
   "outputs": [],
   "source": []
  },
  {
   "cell_type": "code",
   "execution_count": 100,
   "metadata": {},
   "outputs": [
    {
     "name": "stdout",
     "output_type": "stream",
     "text": [
      "CPU times: user 28.4 ms, sys: 2.5 ms, total: 30.9 ms\n",
      "Wall time: 29.6 ms\n"
     ]
    }
   ],
   "source": [
    "%%time\n",
    "from sklearn.feature_extraction.text import TfidfVectorizer\n",
    "from textblob import TextBlob\n",
    "\n",
    "def textblob_tokenizer(str_input):\n",
    "    blob = TextBlob(str_input.lower())\n",
    "    tokens = blob.words\n",
    "    words = [token.stem() for token in tokens]\n",
    "    return words\n",
    "\n",
    "# Vectorize and save into a new dataframe\n",
    "vec = TfidfVectorizer(\n",
    "                      stop_words='english',\n",
    "    ngram_range=(3,3),\n",
    "                      max_df= 0.9,\n",
    "                    max_features = 250,\n",
    "                      use_idf=True)\n",
    "\n",
    "# Fit from the 'text' column of our dataframe\n",
    "matrix = vec.fit_transform(dijsselbloem_df['speech'][21:])\n",
    "\n",
    "# Then turn it into a new dataframe\n",
    "results = pd.DataFrame(matrix.toarray(), columns=vec.get_feature_names())"
   ]
  },
  {
   "cell_type": "code",
   "execution_count": 101,
   "metadata": {},
   "outputs": [
    {
     "name": "stdout",
     "output_type": "stream",
     "text": [
      "Top terms per cluster:\n",
      "Cluster 0: term medium term| work strands ahead| people intense efforts| personal income tax| permanent structural measures\n",
      "Cluster 1: additional debt measures| particular course review| payment periods specific| quick return mission| possibilities profiling necessary\n",
      "Cluster 2: positive definite conclusion| positive conclusion review| positive conclusions elements| medium term package| point want make\n",
      "Cluster 3: play implementation programme| called greek authorities| level agreement soon| possible institutions said| play ongoing second\n",
      "Cluster 4: asked esm management| primary surplus gdp| greek authorities implement| preparation mission continue| policies commission important\n"
     ]
    }
   ],
   "source": [
    "print(\"Top terms per cluster:\")\n",
    "order_centroids = km.cluster_centers_.argsort()[:, ::-1]\n",
    "terms = vec.get_feature_names()\n",
    "for i in range(number_of_clusters):\n",
    "    top_ten_words = [terms[ind] for ind in order_centroids[i, :5]]\n",
    "    print(\"Cluster {}: {}\".format(i, '| '.join(top_ten_words)))"
   ]
  },
  {
   "cell_type": "code",
   "execution_count": 256,
   "metadata": {},
   "outputs": [
    {
     "name": "stdout",
     "output_type": "stream",
     "text": [
      "CPU times: user 14.8 ms, sys: 988 µs, total: 15.7 ms\n",
      "Wall time: 19.4 ms\n"
     ]
    }
   ],
   "source": [
    "%%time\n",
    "from sklearn.feature_extraction.text import TfidfVectorizer\n",
    "from textblob import TextBlob\n",
    "\n",
    "def textblob_tokenizer(str_input):\n",
    "    blob = TextBlob(str_input.lower())\n",
    "    tokens = blob.words\n",
    "    words = [token.stem() for token in tokens]\n",
    "    return words\n",
    "\n",
    "# Vectorize and save into a new dataframe\n",
    "vec = TfidfVectorizer(\n",
    "                      stop_words='english',\n",
    "        ngram_range=(4,4),\n",
    "\n",
    "\n",
    "                      max_df= 0.9,\n",
    "                    max_features = 250,\n",
    "                      use_idf=True)\n",
    "\n",
    "# Fit from the 'text' column of our dataframe\n",
    "matrix = vec.fit_transform(moscovici_df['speech'][0:3])\n",
    "\n",
    "# Then turn it into a new dataframe\n",
    "results = pd.DataFrame(matrix.toarray(), columns=vec.get_feature_names())"
   ]
  },
  {
   "cell_type": "code",
   "execution_count": 257,
   "metadata": {},
   "outputs": [
    {
     "name": "stdout",
     "output_type": "stream",
     "text": [
      "Top terms per cluster: moscovici_df\n",
      "Cluster 0: protections qui sont en |échanges avec les autorités |les institutions sur projet |ministre des finances et |ministre des finances chypriote\n",
      "Cluster 1: assistance pour les réformes |le plan la situation |legislation sont évidemment étroitement |pour permettre que le |ou est en cours\n",
      "Cluster 2: objectif dans les prochains |négligeables la deuxième est |négociateur nous avons notamment |la zone euro aspect |nous continuons travailler je\n",
      "Cluster 3: notre intention commune il |la grèce pour ma |la semaine dernière et |particulier est la loi |nous aboutirons une fois\n",
      "Cluster 4: il encore des discussions |points encore clôturer et |la question des crédits |permettrait le versement entre |nous devons maintenir le\n"
     ]
    }
   ],
   "source": [
    "print(\"Top terms per cluster: moscovici_df\")\n",
    "order_centroids = km.cluster_centers_.argsort()[:, ::-1]\n",
    "terms = vec.get_feature_names()\n",
    "for i in range(number_of_clusters):\n",
    "    top_ten_words = [terms[ind] for ind in order_centroids[i, :5]]\n",
    "    print(\"Cluster {}: {}\".format(i, ' |'.join(top_ten_words)))"
   ]
  },
  {
   "cell_type": "code",
   "execution_count": 258,
   "metadata": {},
   "outputs": [
    {
     "name": "stdout",
     "output_type": "stream",
     "text": [
      "CPU times: user 41.3 ms, sys: 1.3 ms, total: 42.6 ms\n",
      "Wall time: 43.1 ms\n"
     ]
    }
   ],
   "source": [
    "%%time\n",
    "from sklearn.feature_extraction.text import TfidfVectorizer\n",
    "from textblob import TextBlob\n",
    "\n",
    "def textblob_tokenizer(str_input):\n",
    "    blob = TextBlob(str_input.lower())\n",
    "    tokens = blob.words\n",
    "    words = [token.stem() for token in tokens]\n",
    "    return words\n",
    "\n",
    "# Vectorize and save into a new dataframe\n",
    "vec = TfidfVectorizer(\n",
    "                      stop_words='english',\n",
    "                      max_df= 0.9,\n",
    "                    max_features = 250,\n",
    "                      use_idf=True,\n",
    "                      ngram_range=(4,4))\n",
    "\n",
    "\n",
    "\n",
    "# Fit from the 'text' column of our dataframe\n",
    "matrix = vec.fit_transform(moscovici_df['speech'][4:])\n",
    "\n",
    "# Then turn it into a new dataframe\n",
    "results = pd.DataFrame(matrix.toarray(), columns=vec.get_feature_names())"
   ]
  },
  {
   "cell_type": "code",
   "execution_count": 260,
   "metadata": {},
   "outputs": [
    {
     "name": "stdout",
     "output_type": "stream",
     "text": [
      "Top terms per cluster:\n",
      "Cluster 0: pour rassurer tous les |sur la deuxième revue |objectif sur la question |ouvrir la voie pour |ouvrir en grèce et\n",
      "Cluster 1: accord dans les meilleurs |les jours qui viennent |nécessaire pour que la |plus tôt possible est |performing loan npl problem\n",
      "Cluster 2: pensions health systems competition |pensions bank governance energy |pensions et le marché |impôt sur le revenu |passeront du soutien adoption\n",
      "Cluster 3: page la croissance revient |au mécanisme européen stabilité |est plus que jamais |permis au mécanisme européen |paquet mesures très important\n",
      "Cluster 4: article 13 esm treaty |pillars restoring fiscal sustainability |depuis notre dernière réunion |peut désormais ouvrir en |path overall agreement build\n"
     ]
    }
   ],
   "source": [
    "print(\"Top terms per cluster:\")\n",
    "order_centroids = km.cluster_centers_.argsort()[:, ::-1]\n",
    "terms = vec.get_feature_names()\n",
    "for i in range(number_of_clusters):\n",
    "    top_ten_words = [terms[ind] for ind in order_centroids[i, :5]]\n",
    "    print(\"Cluster {}: {}\".format(i, ' |'.join(top_ten_words)))"
   ]
  },
  {
   "cell_type": "code",
   "execution_count": null,
   "metadata": {
    "collapsed": true
   },
   "outputs": [],
   "source": [
    "from sklearn.feature_extraction.text import TfidfVectorizer\n",
    "from textblob import TextBlob\n",
    "\n",
    "def textblob_tokenizer(str_input):\n",
    "    blob = TextBlob(str_input.lower())\n",
    "    tokens = blob.words\n",
    "    words = [token.stem() for token in tokens]\n",
    "    return words\n",
    "\n",
    "# Vectorize and save into a new dataframe\n",
    "vec = TfidfVectorizer(\n",
    "                      stop_words='english',\n",
    "                      max_df= 0.9,\n",
    "                    max_features = 250,\n",
    "                      use_idf=True)\n",
    "\n",
    "# Fit from the 'text' column of our dataframe\n",
    "matrix = vec.fit_transform(moscovici_df['speech'][4:])\n",
    "\n",
    "# Then turn it into a new dataframe\n",
    "results = pd.DataFrame(matrix.toarray(), columns=vec.get_feature_names())"
   ]
  },
  {
   "cell_type": "code",
   "execution_count": null,
   "metadata": {
    "collapsed": true
   },
   "outputs": [],
   "source": [
    "vec = TfidfVectorizer(vocabulary=emolex_df.word,\n",
    "                      use_idf=False,\n",
    "                      stop_words='english',\n",
    "                      norm='l1') # ELL - ONE\n",
    "matrix = vec.fit_transform(regling_df['speech'])\n",
    "vocab = vec.get_feature_names()\n",
    "wordcount_df1 = pd.DataFrame(matrix.toarray(), columns=vocab)\n",
    "wordcount_df1.head()"
   ]
  },
  {
   "cell_type": "code",
   "execution_count": null,
   "metadata": {
    "collapsed": true
   },
   "outputs": [],
   "source": [
    "from textblob import TextBlob\n",
    "\n",
    "def textblob_tokenizer(str_input):\n",
    "    blob = TextBlob(str_input.lower())\n",
    "    tokens = blob.words\n",
    "    words = [token.stem() for token in tokens]\n",
    "    return words\n",
    "\n"
   ]
  },
  {
   "cell_type": "code",
   "execution_count": null,
   "metadata": {
    "collapsed": true
   },
   "outputs": [],
   "source": [
    "regling_words = regling_df['speech'].apply(textblob_tokenizer)"
   ]
  },
  {
   "cell_type": "code",
   "execution_count": null,
   "metadata": {
    "collapsed": true
   },
   "outputs": [],
   "source": [
    "for word in regling_words:\n",
    "    print(\"ORIGINAL:\", word, \"| LEMMA:\", word.lemmatize(), \"| STEM:\", word.stem())\n"
   ]
  },
  {
   "cell_type": "code",
   "execution_count": null,
   "metadata": {
    "collapsed": true
   },
   "outputs": [],
   "source": []
  },
  {
   "cell_type": "code",
   "execution_count": null,
   "metadata": {
    "collapsed": true
   },
   "outputs": [],
   "source": [
    "# vec = TfidfVectorizer(vocabulary=emolex_df.word,\n",
    "#                       tokenizer=textblob_tokenizer,\n",
    "#                       use_idf=False,\n",
    "#                       stop_words='english',\n",
    "#                       norm='l1') # ELL - ONE\n",
    "# matrix = vec.fit_transform(regling_df['speech'])\n",
    "# vocab = vec.get_feature_names()\n",
    "# wordcount_df1 = pd.DataFrame(matrix.toarray(), columns=vocab)\n",
    "# wordcount_df1.head()"
   ]
  },
  {
   "cell_type": "code",
   "execution_count": null,
   "metadata": {
    "collapsed": true
   },
   "outputs": [],
   "source": [
    "emolex_df.word.head()"
   ]
  },
  {
   "cell_type": "code",
   "execution_count": null,
   "metadata": {
    "collapsed": true
   },
   "outputs": [],
   "source": [
    "fig, ax = plt.subplots()\n",
    "\n",
    "dijsselbloem_df.plot(x='joy', y='positivity', c='blue', marker='o', linestyle='', ax=ax, figsize=(8,8))\n",
    "moscovici_df.plot(x='joy', y='positivity', c='red', ax=ax, marker='o', linestyle='')\n",
    "regling_df.plot(x='joy', y='positivity', c='green', ax=ax, marker='o', linestyle='')\n",
    "\n",
    "\n",
    "ax.set_xlim(0,0.6)\n",
    "ax.set_ylim(0,0.6)"
   ]
  },
  {
   "cell_type": "code",
   "execution_count": null,
   "metadata": {
    "collapsed": true
   },
   "outputs": [],
   "source": [
    "dijsselbloem_df.resample('m').head()"
   ]
  },
  {
   "cell_type": "code",
   "execution_count": null,
   "metadata": {
    "collapsed": true
   },
   "outputs": [],
   "source": [
    "dijsselbloem_df.resample('m').dropna().reset_index().plot(kind='scatter',x='date', y='positivity')"
   ]
  },
  {
   "cell_type": "code",
   "execution_count": null,
   "metadata": {
    "collapsed": true
   },
   "outputs": [],
   "source": [
    "dijsselbloem_df.resample('2w').dropna().reset_index().plot(y='positivity', x='index')"
   ]
  },
  {
   "cell_type": "code",
   "execution_count": null,
   "metadata": {
    "collapsed": true
   },
   "outputs": [],
   "source": [
    "dijsselbloem_df.head(1)"
   ]
  },
  {
   "cell_type": "code",
   "execution_count": 262,
   "metadata": {},
   "outputs": [
    {
     "data": {
      "text/plain": [
       "(0, 0.6)"
      ]
     },
     "execution_count": 262,
     "metadata": {},
     "output_type": "execute_result"
    },
    {
     "data": {
      "image/png": "[encoded data removed]",
      "text/plain": [
       "<matplotlib.figure.Figure at 0x117eccb00>"
      ]
     },
     "metadata": {},
     "output_type": "display_data"
    }
   ],
   "source": [
    "fig, ax = plt.subplots()\n",
    "ax.scatter(x= dijsselbloem_df.index, y = dijsselbloem_df.positivity)\n",
    "ax.scatter(x= moscovici_df.index, y = moscovici_df.positivity, color='red')\n",
    "ax.scatter(x= regling_df.index, y = regling_df.positivity, color='green')\n",
    "ax.scatter(x= statement_df.index, y = statement_df.positivity, color='purple')\n",
    "ax.scatter(x= trump_df.index, y = trump_df.positivity, color='yellow')\n",
    "\n",
    "\n",
    "\n",
    "\n",
    "ax.set_ylim(0,0.6)\n"
   ]
  },
  {
   "cell_type": "code",
   "execution_count": 54,
   "metadata": {},
   "outputs": [
    {
     "data": {
      "image/png": "[encoded data removed]",
      "text/plain": [
       "<matplotlib.figure.Figure at 0x117a96f28>"
      ]
     },
     "metadata": {},
     "output_type": "display_data"
    }
   ],
   "source": [
    "x = dijsselbloem_df.anger\n",
    "y = dijsselbloem_df.positivity\n",
    "fig, ax = plt.subplots()\n",
    "\n",
    "ax.scatter(x= dijsselbloem_df.positivity, y = dijsselbloem_df.anger)\n",
    "\n",
    "plt.show()"
   ]
  },
  {
   "cell_type": "code",
   "execution_count": 42,
   "metadata": {},
   "outputs": [
    {
     "data": {
      "text/html": [
       "<div>\n",
       "<style>\n",
       "    .dataframe thead tr:only-child th {\n",
       "        text-align: right;\n",
       "    }\n",
       "\n",
       "    .dataframe thead th {\n",
       "        text-align: left;\n",
       "    }\n",
       "\n",
       "    .dataframe tbody tr th {\n",
       "        vertical-align: top;\n",
       "    }\n",
       "</style>\n",
       "<table border=\"1\" class=\"dataframe\">\n",
       "  <thead>\n",
       "    <tr style=\"text-align: right;\">\n",
       "      <th></th>\n",
       "      <th>dates</th>\n",
       "      <th>speech</th>\n",
       "      <th>positivity</th>\n",
       "      <th>anger</th>\n",
       "      <th>anticipation</th>\n",
       "      <th>disgust</th>\n",
       "      <th>fear</th>\n",
       "      <th>joy</th>\n",
       "    </tr>\n",
       "  </thead>\n",
       "  <tbody>\n",
       "    <tr>\n",
       "      <th>0</th>\n",
       "      <td>June 16, 2015</td>\n",
       "      <td>b'Trump: Wow. Whoa. That is some group of peop...</td>\n",
       "      <td>0.267809</td>\n",
       "      <td>0.041243</td>\n",
       "      <td>0.093733</td>\n",
       "      <td>0.023567</td>\n",
       "      <td>0.049813</td>\n",
       "      <td>0.1173</td>\n",
       "    </tr>\n",
       "  </tbody>\n",
       "</table>\n",
       "</div>"
      ],
      "text/plain": [
       "           dates                                             speech  \\\n",
       "0  June 16, 2015  b'Trump: Wow. Whoa. That is some group of peop...   \n",
       "\n",
       "   positivity     anger  anticipation   disgust      fear     joy  \n",
       "0    0.267809  0.041243      0.093733  0.023567  0.049813  0.1173  "
      ]
     },
     "execution_count": 42,
     "metadata": {},
     "output_type": "execute_result"
    }
   ],
   "source": [
    "df.head(1)"
   ]
  },
  {
   "cell_type": "code",
   "execution_count": null,
   "metadata": {
    "collapsed": true
   },
   "outputs": [],
   "source": [
    "fig, ax = plt.subplots()\n",
    "ax.scatter(x= dijsselbloem_df.index, y = dijsselbloem_df.anger)\n",
    "ax.scatter(x= moscovici_df.index, y = moscovici_df.anger, color='red')\n",
    "ax.scatter(x= regling_df.index, y = regling_df.anger, color='green')\n",
    "ax.scatter(x= statement_df.index, y = statement_df.anger, color='purple')\n",
    "ax.scatter(x= trump_df.index, y = trump_df.anger, color='yellow')\n",
    "\n",
    "\n",
    "\n",
    "ax.set_ylim(0,0.3)\n",
    "\n",
    "\n"
   ]
  },
  {
   "cell_type": "code",
   "execution_count": null,
   "metadata": {
    "collapsed": true
   },
   "outputs": [],
   "source": [
    "fig, ax = plt.subplots()\n",
    "ax.scatter(x= dijsselbloem_df.index, y = dijsselbloem_df.disgust)\n",
    "ax.scatter(x= moscovici_df.index, y = moscovici_df.disgust, color='red')\n",
    "ax.scatter(x= regling_df.index, y = regling_df.disgust, color='green')\n",
    "\n",
    "ax.scatter(x= statement_df.index, y = statement_df.disgust, color='purple')\n",
    "ax.scatter(x= trump_df.index, y = trump_df.disgust, color='yellow')\n",
    "\n",
    "\n",
    "\n",
    "\n",
    "\n",
    "ax.set_ylim(0,0.3)\n"
   ]
  },
  {
   "cell_type": "code",
   "execution_count": null,
   "metadata": {
    "collapsed": true
   },
   "outputs": [],
   "source": [
    "fig, ax = plt.subplots()\n",
    "ax.scatter(x= dijsselbloem_df.index, y = dijsselbloem_df.joy)\n",
    "ax.scatter(x= moscovici_df.index, y = moscovici_df.joy, color='red')\n",
    "ax.scatter(x= regling_df.index, y = regling_df.joy, color='green')\n",
    "ax.scatter(x= statement_df.index, y = statement_df.joy, color='purple')\n",
    "ax.scatter(x= trump_df.index, y = trump_df.joy, color='yellow')\n",
    "\n",
    "\n",
    "\n",
    "ax.set_ylim(0,0.3)\n",
    "\n",
    "\n",
    "\n",
    "\n",
    "\n"
   ]
  },
  {
   "cell_type": "code",
   "execution_count": null,
   "metadata": {
    "collapsed": true
   },
   "outputs": [],
   "source": [
    "fig, ax = plt.subplots()\n",
    "ax.scatter(x= dijsselbloem_df.index, y = dijsselbloem_df.fear)\n",
    "ax.scatter(x= moscovici_df.index, y = moscovici_df.fear, color='red')\n",
    "ax.scatter(x= regling_df.index, y = regling_df.fear, color='green')\n",
    "ax.scatter(x= statement_df.index, y = statement_df.fear, color='purple')\n",
    "ax.scatter(x= trump_df.index, y = trump_df.fear, color='yellow')\n",
    "\n",
    "\n",
    "ax.set_ylim(0,0.3)\n",
    "\n",
    "\n",
    "\n",
    "\n",
    "plt.plot(np.unique(x), np.poly1d(np.polyfit(x, y, 1))(np.unique(x)))"
   ]
  },
  {
   "cell_type": "code",
   "execution_count": 265,
   "metadata": {},
   "outputs": [
    {
     "ename": "NameError",
     "evalue": "name 'df_trump' is not defined",
     "output_type": "error",
     "traceback": [
      "\u001b[0;31m---------------------------------------------------------------------------\u001b[0m",
      "\u001b[0;31mNameError\u001b[0m                                 Traceback (most recent call last)",
      "\u001b[0;32m<ipython-input-265-3c4b46b73bf2>\u001b[0m in \u001b[0;36m<module>\u001b[0;34m()\u001b[0m\n\u001b[1;32m      4\u001b[0m \u001b[0max\u001b[0m\u001b[0;34m.\u001b[0m\u001b[0mscatter\u001b[0m\u001b[0;34m(\u001b[0m\u001b[0mx\u001b[0m\u001b[0;34m=\u001b[0m \u001b[0mregling_df\u001b[0m\u001b[0;34m.\u001b[0m\u001b[0mindex\u001b[0m\u001b[0;34m,\u001b[0m \u001b[0my\u001b[0m \u001b[0;34m=\u001b[0m \u001b[0mregling_df\u001b[0m\u001b[0;34m.\u001b[0m\u001b[0mfear\u001b[0m\u001b[0;34m,\u001b[0m \u001b[0mcolor\u001b[0m\u001b[0;34m=\u001b[0m\u001b[0;34m'green'\u001b[0m\u001b[0;34m)\u001b[0m\u001b[0;34m\u001b[0m\u001b[0m\n\u001b[1;32m      5\u001b[0m \u001b[0max\u001b[0m\u001b[0;34m.\u001b[0m\u001b[0mscatter\u001b[0m\u001b[0;34m(\u001b[0m\u001b[0mx\u001b[0m\u001b[0;34m=\u001b[0m \u001b[0mstatement_df\u001b[0m\u001b[0;34m.\u001b[0m\u001b[0mindex\u001b[0m\u001b[0;34m,\u001b[0m \u001b[0my\u001b[0m \u001b[0;34m=\u001b[0m \u001b[0mstatement_df\u001b[0m\u001b[0;34m.\u001b[0m\u001b[0mfear\u001b[0m\u001b[0;34m,\u001b[0m \u001b[0mcolor\u001b[0m\u001b[0;34m=\u001b[0m\u001b[0;34m'purple'\u001b[0m\u001b[0;34m)\u001b[0m\u001b[0;34m\u001b[0m\u001b[0m\n\u001b[0;32m----> 6\u001b[0;31m \u001b[0max\u001b[0m\u001b[0;34m.\u001b[0m\u001b[0mscatter\u001b[0m\u001b[0;34m(\u001b[0m\u001b[0mx\u001b[0m\u001b[0;34m=\u001b[0m \u001b[0mdf_trump\u001b[0m\u001b[0;34m.\u001b[0m\u001b[0mindex\u001b[0m\u001b[0;34m,\u001b[0m \u001b[0my\u001b[0m \u001b[0;34m=\u001b[0m \u001b[0mdf_trump\u001b[0m\u001b[0;34m.\u001b[0m\u001b[0mfear\u001b[0m\u001b[0;34m,\u001b[0m \u001b[0mcolor\u001b[0m\u001b[0;34m=\u001b[0m\u001b[0;34m'yellow'\u001b[0m\u001b[0;34m)\u001b[0m\u001b[0;34m\u001b[0m\u001b[0m\n\u001b[0m\u001b[1;32m      7\u001b[0m \u001b[0;34m\u001b[0m\u001b[0m\n\u001b[1;32m      8\u001b[0m \u001b[0;34m\u001b[0m\u001b[0m\n",
      "\u001b[0;31mNameError\u001b[0m: name 'df_trump' is not defined"
     ]
    },
    {
     "data": {
      "image/png": "[encoded data removed]",
      "text/plain": [
       "<matplotlib.figure.Figure at 0x119c641d0>"
      ]
     },
     "metadata": {},
     "output_type": "display_data"
    }
   ],
   "source": [
    "fig, ax = plt.subplots(figsize=(12,12))\n",
    "ax.scatter(x= dijsselbloem_df.index, y = dijsselbloem_df.fear)\n",
    "ax.scatter(x= moscovici_df.index, y = moscovici_df.fear, color='red')\n",
    "ax.scatter(x= regling_df.index, y = regling_df.fear, color='green')\n",
    "ax.scatter(x= statement_df.index, y = statement_df.fear, color='purple')\n",
    "ax.scatter(x= df_trump.index, y = df_trump.fear, color='yellow')\n",
    "\n",
    "\n",
    "ax.set_ylim(0,0.3)\n",
    "\n",
    "\n"
   ]
  },
  {
   "cell_type": "code",
   "execution_count": null,
   "metadata": {
    "collapsed": true
   },
   "outputs": [],
   "source": [
    "moscovici_df.sort_values('disgust', ascending=False).head(2)"
   ]
  },
  {
   "cell_type": "code",
   "execution_count": null,
   "metadata": {
    "collapsed": true
   },
   "outputs": [],
   "source": [
    "moscovici_df.sort_values('fear', ascending=False).head(2)"
   ]
  },
  {
   "cell_type": "code",
   "execution_count": 45,
   "metadata": {},
   "outputs": [
    {
     "ename": "TypeError",
     "evalue": "You must first set_array for mappable",
     "output_type": "error",
     "traceback": [
      "\u001b[0;31m---------------------------------------------------------------------------\u001b[0m",
      "\u001b[0;31mTypeError\u001b[0m                                 Traceback (most recent call last)",
      "\u001b[0;32m<ipython-input-45-462813fec53f>\u001b[0m in \u001b[0;36m<module>\u001b[0;34m()\u001b[0m\n\u001b[1;32m      4\u001b[0m \u001b[0;31m#points = plt.scatter(x = data['Date'], y = data[\"Words\"], c=data[\"Words\"], s=75, cmap=\"BrBG\")\u001b[0m\u001b[0;34m\u001b[0m\u001b[0;34m\u001b[0m\u001b[0m\n\u001b[1;32m      5\u001b[0m \u001b[0;34m\u001b[0m\u001b[0m\n\u001b[0;32m----> 6\u001b[0;31m \u001b[0mplt\u001b[0m\u001b[0;34m.\u001b[0m\u001b[0mcolorbar\u001b[0m\u001b[0;34m(\u001b[0m\u001b[0mpoints\u001b[0m\u001b[0;34m)\u001b[0m\u001b[0;34m\u001b[0m\u001b[0m\n\u001b[0m\u001b[1;32m      7\u001b[0m \u001b[0msns\u001b[0m\u001b[0;34m.\u001b[0m\u001b[0mregplot\u001b[0m\u001b[0;34m(\u001b[0m\u001b[0mx\u001b[0m \u001b[0;34m=\u001b[0m \u001b[0mdijsselbloem_df\u001b[0m\u001b[0;34m.\u001b[0m\u001b[0mindex\u001b[0m\u001b[0;34m,\u001b[0m \u001b[0my\u001b[0m \u001b[0;34m=\u001b[0m \u001b[0mdijsselbloem_df\u001b[0m\u001b[0;34m.\u001b[0m\u001b[0mfear\u001b[0m\u001b[0;34m,\u001b[0m \u001b[0mdata\u001b[0m\u001b[0;34m=\u001b[0m\u001b[0mdijsselbloem_df\u001b[0m\u001b[0;34m,\u001b[0m \u001b[0mscatter\u001b[0m\u001b[0;34m=\u001b[0m\u001b[0;32mFalse\u001b[0m\u001b[0;34m,\u001b[0m \u001b[0mcolor\u001b[0m\u001b[0;34m=\u001b[0m\u001b[0;34m'r'\u001b[0m\u001b[0;34m)\u001b[0m\u001b[0;34m\u001b[0m\u001b[0m\n\u001b[1;32m      8\u001b[0m \u001b[0;34m\u001b[0m\u001b[0m\n",
      "\u001b[0;32m/usr/local/lib/python3.6/site-packages/matplotlib/pyplot.py\u001b[0m in \u001b[0;36mcolorbar\u001b[0;34m(mappable, cax, ax, **kw)\u001b[0m\n\u001b[1;32m   2259\u001b[0m         \u001b[0max\u001b[0m \u001b[0;34m=\u001b[0m \u001b[0mgca\u001b[0m\u001b[0;34m(\u001b[0m\u001b[0;34m)\u001b[0m\u001b[0;34m\u001b[0m\u001b[0m\n\u001b[1;32m   2260\u001b[0m \u001b[0;34m\u001b[0m\u001b[0m\n\u001b[0;32m-> 2261\u001b[0;31m     \u001b[0mret\u001b[0m \u001b[0;34m=\u001b[0m \u001b[0mgcf\u001b[0m\u001b[0;34m(\u001b[0m\u001b[0;34m)\u001b[0m\u001b[0;34m.\u001b[0m\u001b[0mcolorbar\u001b[0m\u001b[0;34m(\u001b[0m\u001b[0mmappable\u001b[0m\u001b[0;34m,\u001b[0m \u001b[0mcax\u001b[0m \u001b[0;34m=\u001b[0m \u001b[0mcax\u001b[0m\u001b[0;34m,\u001b[0m \u001b[0max\u001b[0m\u001b[0;34m=\u001b[0m\u001b[0max\u001b[0m\u001b[0;34m,\u001b[0m \u001b[0;34m**\u001b[0m\u001b[0mkw\u001b[0m\u001b[0;34m)\u001b[0m\u001b[0;34m\u001b[0m\u001b[0m\n\u001b[0m\u001b[1;32m   2262\u001b[0m     \u001b[0;32mreturn\u001b[0m \u001b[0mret\u001b[0m\u001b[0;34m\u001b[0m\u001b[0m\n\u001b[1;32m   2263\u001b[0m \u001b[0mcolorbar\u001b[0m\u001b[0;34m.\u001b[0m\u001b[0m__doc__\u001b[0m \u001b[0;34m=\u001b[0m \u001b[0mmatplotlib\u001b[0m\u001b[0;34m.\u001b[0m\u001b[0mcolorbar\u001b[0m\u001b[0;34m.\u001b[0m\u001b[0mcolorbar_doc\u001b[0m\u001b[0;34m\u001b[0m\u001b[0m\n",
      "\u001b[0;32m/usr/local/lib/python3.6/site-packages/matplotlib/figure.py\u001b[0m in \u001b[0;36mcolorbar\u001b[0;34m(self, mappable, cax, ax, use_gridspec, **kw)\u001b[0m\n\u001b[1;32m   1601\u001b[0m                 \u001b[0mcax\u001b[0m\u001b[0;34m,\u001b[0m \u001b[0mkw\u001b[0m \u001b[0;34m=\u001b[0m \u001b[0mcbar\u001b[0m\u001b[0;34m.\u001b[0m\u001b[0mmake_axes\u001b[0m\u001b[0;34m(\u001b[0m\u001b[0max\u001b[0m\u001b[0;34m,\u001b[0m \u001b[0;34m**\u001b[0m\u001b[0mkw\u001b[0m\u001b[0;34m)\u001b[0m\u001b[0;34m\u001b[0m\u001b[0m\n\u001b[1;32m   1602\u001b[0m         \u001b[0mcax\u001b[0m\u001b[0;34m.\u001b[0m\u001b[0m_hold\u001b[0m \u001b[0;34m=\u001b[0m \u001b[0;32mTrue\u001b[0m\u001b[0;34m\u001b[0m\u001b[0m\n\u001b[0;32m-> 1603\u001b[0;31m         \u001b[0mcb\u001b[0m \u001b[0;34m=\u001b[0m \u001b[0mcbar\u001b[0m\u001b[0;34m.\u001b[0m\u001b[0mcolorbar_factory\u001b[0m\u001b[0;34m(\u001b[0m\u001b[0mcax\u001b[0m\u001b[0;34m,\u001b[0m \u001b[0mmappable\u001b[0m\u001b[0;34m,\u001b[0m \u001b[0;34m**\u001b[0m\u001b[0mkw\u001b[0m\u001b[0;34m)\u001b[0m\u001b[0;34m\u001b[0m\u001b[0m\n\u001b[0m\u001b[1;32m   1604\u001b[0m \u001b[0;34m\u001b[0m\u001b[0m\n\u001b[1;32m   1605\u001b[0m         \u001b[0mself\u001b[0m\u001b[0;34m.\u001b[0m\u001b[0msca\u001b[0m\u001b[0;34m(\u001b[0m\u001b[0mcurrent_ax\u001b[0m\u001b[0;34m)\u001b[0m\u001b[0;34m\u001b[0m\u001b[0m\n",
      "\u001b[0;32m/usr/local/lib/python3.6/site-packages/matplotlib/colorbar.py\u001b[0m in \u001b[0;36mcolorbar_factory\u001b[0;34m(cax, mappable, **kwargs)\u001b[0m\n\u001b[1;32m   1345\u001b[0m         \u001b[0mcb\u001b[0m \u001b[0;34m=\u001b[0m \u001b[0mColorbarPatch\u001b[0m\u001b[0;34m(\u001b[0m\u001b[0mcax\u001b[0m\u001b[0;34m,\u001b[0m \u001b[0mmappable\u001b[0m\u001b[0;34m,\u001b[0m \u001b[0;34m**\u001b[0m\u001b[0mkwargs\u001b[0m\u001b[0;34m)\u001b[0m\u001b[0;34m\u001b[0m\u001b[0m\n\u001b[1;32m   1346\u001b[0m     \u001b[0;32melse\u001b[0m\u001b[0;34m:\u001b[0m\u001b[0;34m\u001b[0m\u001b[0m\n\u001b[0;32m-> 1347\u001b[0;31m         \u001b[0mcb\u001b[0m \u001b[0;34m=\u001b[0m \u001b[0mColorbar\u001b[0m\u001b[0;34m(\u001b[0m\u001b[0mcax\u001b[0m\u001b[0;34m,\u001b[0m \u001b[0mmappable\u001b[0m\u001b[0;34m,\u001b[0m \u001b[0;34m**\u001b[0m\u001b[0mkwargs\u001b[0m\u001b[0;34m)\u001b[0m\u001b[0;34m\u001b[0m\u001b[0m\n\u001b[0m\u001b[1;32m   1348\u001b[0m \u001b[0;34m\u001b[0m\u001b[0m\n\u001b[1;32m   1349\u001b[0m     \u001b[0mcid\u001b[0m \u001b[0;34m=\u001b[0m \u001b[0mmappable\u001b[0m\u001b[0;34m.\u001b[0m\u001b[0mcallbacksSM\u001b[0m\u001b[0;34m.\u001b[0m\u001b[0mconnect\u001b[0m\u001b[0;34m(\u001b[0m\u001b[0;34m'changed'\u001b[0m\u001b[0;34m,\u001b[0m \u001b[0mcb\u001b[0m\u001b[0;34m.\u001b[0m\u001b[0mon_mappable_changed\u001b[0m\u001b[0;34m)\u001b[0m\u001b[0;34m\u001b[0m\u001b[0m\n",
      "\u001b[0;32m/usr/local/lib/python3.6/site-packages/matplotlib/colorbar.py\u001b[0m in \u001b[0;36m__init__\u001b[0;34m(self, ax, mappable, **kw)\u001b[0m\n\u001b[1;32m    899\u001b[0m         \u001b[0;31m# Ensure the given mappable's norm has appropriate vmin and vmax set\u001b[0m\u001b[0;34m\u001b[0m\u001b[0;34m\u001b[0m\u001b[0m\n\u001b[1;32m    900\u001b[0m         \u001b[0;31m# even if mappable.draw has not yet been called.\u001b[0m\u001b[0;34m\u001b[0m\u001b[0;34m\u001b[0m\u001b[0m\n\u001b[0;32m--> 901\u001b[0;31m         \u001b[0mmappable\u001b[0m\u001b[0;34m.\u001b[0m\u001b[0mautoscale_None\u001b[0m\u001b[0;34m(\u001b[0m\u001b[0;34m)\u001b[0m\u001b[0;34m\u001b[0m\u001b[0m\n\u001b[0m\u001b[1;32m    902\u001b[0m \u001b[0;34m\u001b[0m\u001b[0m\n\u001b[1;32m    903\u001b[0m         \u001b[0mself\u001b[0m\u001b[0;34m.\u001b[0m\u001b[0mmappable\u001b[0m \u001b[0;34m=\u001b[0m \u001b[0mmappable\u001b[0m\u001b[0;34m\u001b[0m\u001b[0m\n",
      "\u001b[0;32m/usr/local/lib/python3.6/site-packages/matplotlib/cm.py\u001b[0m in \u001b[0;36mautoscale_None\u001b[0;34m(self)\u001b[0m\n\u001b[1;32m    342\u001b[0m         \"\"\"\n\u001b[1;32m    343\u001b[0m         \u001b[0;32mif\u001b[0m \u001b[0mself\u001b[0m\u001b[0;34m.\u001b[0m\u001b[0m_A\u001b[0m \u001b[0;32mis\u001b[0m \u001b[0;32mNone\u001b[0m\u001b[0;34m:\u001b[0m\u001b[0;34m\u001b[0m\u001b[0m\n\u001b[0;32m--> 344\u001b[0;31m             \u001b[0;32mraise\u001b[0m \u001b[0mTypeError\u001b[0m\u001b[0;34m(\u001b[0m\u001b[0;34m'You must first set_array for mappable'\u001b[0m\u001b[0;34m)\u001b[0m\u001b[0;34m\u001b[0m\u001b[0m\n\u001b[0m\u001b[1;32m    345\u001b[0m         \u001b[0mself\u001b[0m\u001b[0;34m.\u001b[0m\u001b[0mnorm\u001b[0m\u001b[0;34m.\u001b[0m\u001b[0mautoscale_None\u001b[0m\u001b[0;34m(\u001b[0m\u001b[0mself\u001b[0m\u001b[0;34m.\u001b[0m\u001b[0m_A\u001b[0m\u001b[0;34m)\u001b[0m\u001b[0;34m\u001b[0m\u001b[0m\n\u001b[1;32m    346\u001b[0m         \u001b[0mself\u001b[0m\u001b[0;34m.\u001b[0m\u001b[0mchanged\u001b[0m\u001b[0;34m(\u001b[0m\u001b[0;34m)\u001b[0m\u001b[0;34m\u001b[0m\u001b[0m\n",
      "\u001b[0;31mTypeError\u001b[0m: You must first set_array for mappable"
     ]
    },
    {
     "data": {
      "image/png": "[encoded data removed]",
      "text/plain": [
       "<matplotlib.figure.Figure at 0x1175c7390>"
      ]
     },
     "metadata": {},
     "output_type": "display_data"
    }
   ],
   "source": [
    "fig, ax = plt.subplots(figsize=(12,12))\n",
    "points = plt.scatter(x= dijsselbloem_df.index, y = dijsselbloem_df.fear, s=75)\n",
    "\n",
    "#points = plt.scatter(x = data['Date'], y = data[\"Words\"], c=data[\"Words\"], s=75, cmap=\"BrBG\")\n",
    "\n",
    "plt.colorbar(points)\n",
    "sns.regplot(x = dijsselbloem_df.index, y = dijsselbloem_df.fear, data=dijsselbloem_df, scatter=False, color='r')\n",
    "\n"
   ]
  },
  {
   "cell_type": "code",
   "execution_count": 46,
   "metadata": {},
   "outputs": [
    {
     "ename": "AttributeError",
     "evalue": "'DatetimeIndex' object has no attribute 'mean'",
     "output_type": "error",
     "traceback": [
      "\u001b[0;31m---------------------------------------------------------------------------\u001b[0m",
      "\u001b[0;31mAttributeError\u001b[0m                            Traceback (most recent call last)",
      "\u001b[0;32m<ipython-input-46-3396f4dd926b>\u001b[0m in \u001b[0;36m<module>\u001b[0;34m()\u001b[0m\n\u001b[0;32m----> 1\u001b[0;31m \u001b[0msns\u001b[0m\u001b[0;34m.\u001b[0m\u001b[0mregplot\u001b[0m\u001b[0;34m(\u001b[0m\u001b[0mx\u001b[0m\u001b[0;34m=\u001b[0m\u001b[0mdijsselbloem_df\u001b[0m\u001b[0;34m.\u001b[0m\u001b[0mindex\u001b[0m\u001b[0;34m,\u001b[0m \u001b[0my\u001b[0m\u001b[0;34m=\u001b[0m\u001b[0mdijsselbloem_df\u001b[0m\u001b[0;34m.\u001b[0m\u001b[0mfear\u001b[0m\u001b[0;34m,\u001b[0m \u001b[0mdata\u001b[0m\u001b[0;34m=\u001b[0m\u001b[0mdijsselbloem_df\u001b[0m\u001b[0;34m)\u001b[0m\u001b[0;34m;\u001b[0m\u001b[0;34m\u001b[0m\u001b[0m\n\u001b[0m",
      "\u001b[0;32m/usr/local/lib/python3.6/site-packages/seaborn/regression.py\u001b[0m in \u001b[0;36mregplot\u001b[0;34m(x, y, data, x_estimator, x_bins, x_ci, scatter, fit_reg, ci, n_boot, units, order, logistic, lowess, robust, logx, x_partial, y_partial, truncate, dropna, x_jitter, y_jitter, label, color, marker, scatter_kws, line_kws, ax)\u001b[0m\n\u001b[1;32m    788\u001b[0m     \u001b[0mscatter_kws\u001b[0m\u001b[0;34m[\u001b[0m\u001b[0;34m\"marker\"\u001b[0m\u001b[0;34m]\u001b[0m \u001b[0;34m=\u001b[0m \u001b[0mmarker\u001b[0m\u001b[0;34m\u001b[0m\u001b[0m\n\u001b[1;32m    789\u001b[0m     \u001b[0mline_kws\u001b[0m \u001b[0;34m=\u001b[0m \u001b[0;34m{\u001b[0m\u001b[0;34m}\u001b[0m \u001b[0;32mif\u001b[0m \u001b[0mline_kws\u001b[0m \u001b[0;32mis\u001b[0m \u001b[0;32mNone\u001b[0m \u001b[0;32melse\u001b[0m \u001b[0mcopy\u001b[0m\u001b[0;34m.\u001b[0m\u001b[0mcopy\u001b[0m\u001b[0;34m(\u001b[0m\u001b[0mline_kws\u001b[0m\u001b[0;34m)\u001b[0m\u001b[0;34m\u001b[0m\u001b[0m\n\u001b[0;32m--> 790\u001b[0;31m     \u001b[0mplotter\u001b[0m\u001b[0;34m.\u001b[0m\u001b[0mplot\u001b[0m\u001b[0;34m(\u001b[0m\u001b[0max\u001b[0m\u001b[0;34m,\u001b[0m \u001b[0mscatter_kws\u001b[0m\u001b[0;34m,\u001b[0m \u001b[0mline_kws\u001b[0m\u001b[0;34m)\u001b[0m\u001b[0;34m\u001b[0m\u001b[0m\n\u001b[0m\u001b[1;32m    791\u001b[0m     \u001b[0;32mreturn\u001b[0m \u001b[0max\u001b[0m\u001b[0;34m\u001b[0m\u001b[0m\n\u001b[1;32m    792\u001b[0m \u001b[0;34m\u001b[0m\u001b[0m\n",
      "\u001b[0;32m/usr/local/lib/python3.6/site-packages/seaborn/regression.py\u001b[0m in \u001b[0;36mplot\u001b[0;34m(self, ax, scatter_kws, line_kws)\u001b[0m\n\u001b[1;32m    323\u001b[0m         \u001b[0;31m# Use the current color cycle state as a default\u001b[0m\u001b[0;34m\u001b[0m\u001b[0;34m\u001b[0m\u001b[0m\n\u001b[1;32m    324\u001b[0m         \u001b[0;32mif\u001b[0m \u001b[0mself\u001b[0m\u001b[0;34m.\u001b[0m\u001b[0mcolor\u001b[0m \u001b[0;32mis\u001b[0m \u001b[0;32mNone\u001b[0m\u001b[0;34m:\u001b[0m\u001b[0;34m\u001b[0m\u001b[0m\n\u001b[0;32m--> 325\u001b[0;31m             \u001b[0mlines\u001b[0m\u001b[0;34m,\u001b[0m \u001b[0;34m=\u001b[0m \u001b[0mplt\u001b[0m\u001b[0;34m.\u001b[0m\u001b[0mplot\u001b[0m\u001b[0;34m(\u001b[0m\u001b[0mself\u001b[0m\u001b[0;34m.\u001b[0m\u001b[0mx\u001b[0m\u001b[0;34m.\u001b[0m\u001b[0mmean\u001b[0m\u001b[0;34m(\u001b[0m\u001b[0;34m)\u001b[0m\u001b[0;34m,\u001b[0m \u001b[0mself\u001b[0m\u001b[0;34m.\u001b[0m\u001b[0my\u001b[0m\u001b[0;34m.\u001b[0m\u001b[0mmean\u001b[0m\u001b[0;34m(\u001b[0m\u001b[0;34m)\u001b[0m\u001b[0;34m)\u001b[0m\u001b[0;34m\u001b[0m\u001b[0m\n\u001b[0m\u001b[1;32m    326\u001b[0m             \u001b[0mcolor\u001b[0m \u001b[0;34m=\u001b[0m \u001b[0mlines\u001b[0m\u001b[0;34m.\u001b[0m\u001b[0mget_color\u001b[0m\u001b[0;34m(\u001b[0m\u001b[0;34m)\u001b[0m\u001b[0;34m\u001b[0m\u001b[0m\n\u001b[1;32m    327\u001b[0m             \u001b[0mlines\u001b[0m\u001b[0;34m.\u001b[0m\u001b[0mremove\u001b[0m\u001b[0;34m(\u001b[0m\u001b[0;34m)\u001b[0m\u001b[0;34m\u001b[0m\u001b[0m\n",
      "\u001b[0;31mAttributeError\u001b[0m: 'DatetimeIndex' object has no attribute 'mean'"
     ]
    },
    {
     "data": {
      "image/png": "[encoded data removed]",
      "text/plain": [
       "<matplotlib.figure.Figure at 0x116c63470>"
      ]
     },
     "metadata": {},
     "output_type": "display_data"
    }
   ],
   "source": [
    "sns.regplot(x=dijsselbloem_df.index, y=dijsselbloem_df.fear, data=dijsselbloem_df);"
   ]
  },
  {
   "cell_type": "code",
   "execution_count": 44,
   "metadata": {},
   "outputs": [
    {
     "ename": "TypeError",
     "evalue": "invalid type promotion",
     "output_type": "error",
     "traceback": [
      "\u001b[0;31m---------------------------------------------------------------------------\u001b[0m",
      "\u001b[0;31mTypeError\u001b[0m                                 Traceback (most recent call last)",
      "\u001b[0;32m<ipython-input-44-6ddcfa74b7d0>\u001b[0m in \u001b[0;36m<module>\u001b[0;34m()\u001b[0m\n\u001b[1;32m      4\u001b[0m \u001b[0;34m\u001b[0m\u001b[0m\n\u001b[1;32m      5\u001b[0m \u001b[0mplt\u001b[0m\u001b[0;34m.\u001b[0m\u001b[0mcolorbar\u001b[0m\u001b[0;34m(\u001b[0m\u001b[0mpoints\u001b[0m\u001b[0;34m)\u001b[0m\u001b[0;34m\u001b[0m\u001b[0m\n\u001b[0;32m----> 6\u001b[0;31m \u001b[0msns\u001b[0m\u001b[0;34m.\u001b[0m\u001b[0mregplot\u001b[0m\u001b[0;34m(\u001b[0m\u001b[0mx\u001b[0m \u001b[0;34m=\u001b[0m \u001b[0mdijsselbloem_df\u001b[0m\u001b[0;34m.\u001b[0m\u001b[0mindex\u001b[0m\u001b[0;34m,\u001b[0m \u001b[0my\u001b[0m \u001b[0;34m=\u001b[0m \u001b[0mdijsselbloem_df\u001b[0m\u001b[0;34m.\u001b[0m\u001b[0mfear\u001b[0m\u001b[0;34m,\u001b[0m \u001b[0mdata\u001b[0m\u001b[0;34m=\u001b[0m\u001b[0mdijsselbloem_df\u001b[0m\u001b[0;34m,\u001b[0m \u001b[0mscatter\u001b[0m\u001b[0;34m=\u001b[0m\u001b[0;32mFalse\u001b[0m\u001b[0;34m,\u001b[0m \u001b[0mcolor\u001b[0m\u001b[0;34m=\u001b[0m\u001b[0;34m'r'\u001b[0m\u001b[0;34m,\u001b[0m\u001b[0mfit_reg\u001b[0m\u001b[0;34m=\u001b[0m\u001b[0;32mTrue\u001b[0m\u001b[0;34m)\u001b[0m\u001b[0;34m\u001b[0m\u001b[0m\n\u001b[0m\u001b[1;32m      7\u001b[0m \u001b[0;34m\u001b[0m\u001b[0m\n\u001b[1;32m      8\u001b[0m \u001b[0;34m\u001b[0m\u001b[0m\n",
      "\u001b[0;32m/usr/local/lib/python3.6/site-packages/seaborn/regression.py\u001b[0m in \u001b[0;36mregplot\u001b[0;34m(x, y, data, x_estimator, x_bins, x_ci, scatter, fit_reg, ci, n_boot, units, order, logistic, lowess, robust, logx, x_partial, y_partial, truncate, dropna, x_jitter, y_jitter, label, color, marker, scatter_kws, line_kws, ax)\u001b[0m\n\u001b[1;32m    788\u001b[0m     \u001b[0mscatter_kws\u001b[0m\u001b[0;34m[\u001b[0m\u001b[0;34m\"marker\"\u001b[0m\u001b[0;34m]\u001b[0m \u001b[0;34m=\u001b[0m \u001b[0mmarker\u001b[0m\u001b[0;34m\u001b[0m\u001b[0m\n\u001b[1;32m    789\u001b[0m     \u001b[0mline_kws\u001b[0m \u001b[0;34m=\u001b[0m \u001b[0;34m{\u001b[0m\u001b[0;34m}\u001b[0m \u001b[0;32mif\u001b[0m \u001b[0mline_kws\u001b[0m \u001b[0;32mis\u001b[0m \u001b[0;32mNone\u001b[0m \u001b[0;32melse\u001b[0m \u001b[0mcopy\u001b[0m\u001b[0;34m.\u001b[0m\u001b[0mcopy\u001b[0m\u001b[0;34m(\u001b[0m\u001b[0mline_kws\u001b[0m\u001b[0;34m)\u001b[0m\u001b[0;34m\u001b[0m\u001b[0m\n\u001b[0;32m--> 790\u001b[0;31m     \u001b[0mplotter\u001b[0m\u001b[0;34m.\u001b[0m\u001b[0mplot\u001b[0m\u001b[0;34m(\u001b[0m\u001b[0max\u001b[0m\u001b[0;34m,\u001b[0m \u001b[0mscatter_kws\u001b[0m\u001b[0;34m,\u001b[0m \u001b[0mline_kws\u001b[0m\u001b[0;34m)\u001b[0m\u001b[0;34m\u001b[0m\u001b[0m\n\u001b[0m\u001b[1;32m    791\u001b[0m     \u001b[0;32mreturn\u001b[0m \u001b[0max\u001b[0m\u001b[0;34m\u001b[0m\u001b[0m\n\u001b[1;32m    792\u001b[0m \u001b[0;34m\u001b[0m\u001b[0m\n",
      "\u001b[0;32m/usr/local/lib/python3.6/site-packages/seaborn/regression.py\u001b[0m in \u001b[0;36mplot\u001b[0;34m(self, ax, scatter_kws, line_kws)\u001b[0m\n\u001b[1;32m    340\u001b[0m             \u001b[0mself\u001b[0m\u001b[0;34m.\u001b[0m\u001b[0mscatterplot\u001b[0m\u001b[0;34m(\u001b[0m\u001b[0max\u001b[0m\u001b[0;34m,\u001b[0m \u001b[0mscatter_kws\u001b[0m\u001b[0;34m)\u001b[0m\u001b[0;34m\u001b[0m\u001b[0m\n\u001b[1;32m    341\u001b[0m         \u001b[0;32mif\u001b[0m \u001b[0mself\u001b[0m\u001b[0;34m.\u001b[0m\u001b[0mfit_reg\u001b[0m\u001b[0;34m:\u001b[0m\u001b[0;34m\u001b[0m\u001b[0m\n\u001b[0;32m--> 342\u001b[0;31m             \u001b[0mself\u001b[0m\u001b[0;34m.\u001b[0m\u001b[0mlineplot\u001b[0m\u001b[0;34m(\u001b[0m\u001b[0max\u001b[0m\u001b[0;34m,\u001b[0m \u001b[0mline_kws\u001b[0m\u001b[0;34m)\u001b[0m\u001b[0;34m\u001b[0m\u001b[0m\n\u001b[0m\u001b[1;32m    343\u001b[0m \u001b[0;34m\u001b[0m\u001b[0m\n\u001b[1;32m    344\u001b[0m         \u001b[0;31m# Label the axes\u001b[0m\u001b[0;34m\u001b[0m\u001b[0;34m\u001b[0m\u001b[0m\n",
      "\u001b[0;32m/usr/local/lib/python3.6/site-packages/seaborn/regression.py\u001b[0m in \u001b[0;36mlineplot\u001b[0;34m(self, ax, kws)\u001b[0m\n\u001b[1;32m    385\u001b[0m \u001b[0;34m\u001b[0m\u001b[0m\n\u001b[1;32m    386\u001b[0m         \u001b[0;31m# Fit the regression model\u001b[0m\u001b[0;34m\u001b[0m\u001b[0;34m\u001b[0m\u001b[0m\n\u001b[0;32m--> 387\u001b[0;31m         \u001b[0mgrid\u001b[0m\u001b[0;34m,\u001b[0m \u001b[0myhat\u001b[0m\u001b[0;34m,\u001b[0m \u001b[0merr_bands\u001b[0m \u001b[0;34m=\u001b[0m \u001b[0mself\u001b[0m\u001b[0;34m.\u001b[0m\u001b[0mfit_regression\u001b[0m\u001b[0;34m(\u001b[0m\u001b[0max\u001b[0m\u001b[0;34m)\u001b[0m\u001b[0;34m\u001b[0m\u001b[0m\n\u001b[0m\u001b[1;32m    388\u001b[0m \u001b[0;34m\u001b[0m\u001b[0m\n\u001b[1;32m    389\u001b[0m         \u001b[0;31m# Get set default aesthetics\u001b[0m\u001b[0;34m\u001b[0m\u001b[0;34m\u001b[0m\u001b[0m\n",
      "\u001b[0;32m/usr/local/lib/python3.6/site-packages/seaborn/regression.py\u001b[0m in \u001b[0;36mfit_regression\u001b[0;34m(self, ax, x_range, grid)\u001b[0m\n\u001b[1;32m    208\u001b[0m             \u001b[0myhat\u001b[0m\u001b[0;34m,\u001b[0m \u001b[0myhat_boots\u001b[0m \u001b[0;34m=\u001b[0m \u001b[0mself\u001b[0m\u001b[0;34m.\u001b[0m\u001b[0mfit_logx\u001b[0m\u001b[0;34m(\u001b[0m\u001b[0mgrid\u001b[0m\u001b[0;34m)\u001b[0m\u001b[0;34m\u001b[0m\u001b[0m\n\u001b[1;32m    209\u001b[0m         \u001b[0;32melse\u001b[0m\u001b[0;34m:\u001b[0m\u001b[0;34m\u001b[0m\u001b[0m\n\u001b[0;32m--> 210\u001b[0;31m             \u001b[0myhat\u001b[0m\u001b[0;34m,\u001b[0m \u001b[0myhat_boots\u001b[0m \u001b[0;34m=\u001b[0m \u001b[0mself\u001b[0m\u001b[0;34m.\u001b[0m\u001b[0mfit_fast\u001b[0m\u001b[0;34m(\u001b[0m\u001b[0mgrid\u001b[0m\u001b[0;34m)\u001b[0m\u001b[0;34m\u001b[0m\u001b[0m\n\u001b[0m\u001b[1;32m    211\u001b[0m \u001b[0;34m\u001b[0m\u001b[0m\n\u001b[1;32m    212\u001b[0m         \u001b[0;31m# Compute the confidence interval at each grid point\u001b[0m\u001b[0;34m\u001b[0m\u001b[0;34m\u001b[0m\u001b[0m\n",
      "\u001b[0;32m/usr/local/lib/python3.6/site-packages/seaborn/regression.py\u001b[0m in \u001b[0;36mfit_fast\u001b[0;34m(self, grid)\u001b[0m\n\u001b[1;32m    220\u001b[0m     \u001b[0;32mdef\u001b[0m \u001b[0mfit_fast\u001b[0m\u001b[0;34m(\u001b[0m\u001b[0mself\u001b[0m\u001b[0;34m,\u001b[0m \u001b[0mgrid\u001b[0m\u001b[0;34m)\u001b[0m\u001b[0;34m:\u001b[0m\u001b[0;34m\u001b[0m\u001b[0m\n\u001b[1;32m    221\u001b[0m         \u001b[0;34m\"\"\"Low-level regression and prediction using linear algebra.\"\"\"\u001b[0m\u001b[0;34m\u001b[0m\u001b[0m\n\u001b[0;32m--> 222\u001b[0;31m         \u001b[0mX\u001b[0m\u001b[0;34m,\u001b[0m \u001b[0my\u001b[0m \u001b[0;34m=\u001b[0m \u001b[0mnp\u001b[0m\u001b[0;34m.\u001b[0m\u001b[0mc_\u001b[0m\u001b[0;34m[\u001b[0m\u001b[0mnp\u001b[0m\u001b[0;34m.\u001b[0m\u001b[0mones\u001b[0m\u001b[0;34m(\u001b[0m\u001b[0mlen\u001b[0m\u001b[0;34m(\u001b[0m\u001b[0mself\u001b[0m\u001b[0;34m.\u001b[0m\u001b[0mx\u001b[0m\u001b[0;34m)\u001b[0m\u001b[0;34m)\u001b[0m\u001b[0;34m,\u001b[0m \u001b[0mself\u001b[0m\u001b[0;34m.\u001b[0m\u001b[0mx\u001b[0m\u001b[0;34m]\u001b[0m\u001b[0;34m,\u001b[0m \u001b[0mself\u001b[0m\u001b[0;34m.\u001b[0m\u001b[0my\u001b[0m\u001b[0;34m\u001b[0m\u001b[0m\n\u001b[0m\u001b[1;32m    223\u001b[0m         \u001b[0mgrid\u001b[0m \u001b[0;34m=\u001b[0m \u001b[0mnp\u001b[0m\u001b[0;34m.\u001b[0m\u001b[0mc_\u001b[0m\u001b[0;34m[\u001b[0m\u001b[0mnp\u001b[0m\u001b[0;34m.\u001b[0m\u001b[0mones\u001b[0m\u001b[0;34m(\u001b[0m\u001b[0mlen\u001b[0m\u001b[0;34m(\u001b[0m\u001b[0mgrid\u001b[0m\u001b[0;34m)\u001b[0m\u001b[0;34m)\u001b[0m\u001b[0;34m,\u001b[0m \u001b[0mgrid\u001b[0m\u001b[0;34m]\u001b[0m\u001b[0;34m\u001b[0m\u001b[0m\n\u001b[1;32m    224\u001b[0m         \u001b[0mreg_func\u001b[0m \u001b[0;34m=\u001b[0m \u001b[0;32mlambda\u001b[0m \u001b[0m_x\u001b[0m\u001b[0;34m,\u001b[0m \u001b[0m_y\u001b[0m\u001b[0;34m:\u001b[0m \u001b[0mnp\u001b[0m\u001b[0;34m.\u001b[0m\u001b[0mlinalg\u001b[0m\u001b[0;34m.\u001b[0m\u001b[0mpinv\u001b[0m\u001b[0;34m(\u001b[0m\u001b[0m_x\u001b[0m\u001b[0;34m)\u001b[0m\u001b[0;34m.\u001b[0m\u001b[0mdot\u001b[0m\u001b[0;34m(\u001b[0m\u001b[0m_y\u001b[0m\u001b[0;34m)\u001b[0m\u001b[0;34m\u001b[0m\u001b[0m\n",
      "\u001b[0;32m/usr/local/lib/python3.6/site-packages/numpy/lib/index_tricks.py\u001b[0m in \u001b[0;36m__getitem__\u001b[0;34m(self, key)\u001b[0m\n\u001b[1;32m    336\u001b[0m                 \u001b[0mobjs\u001b[0m\u001b[0;34m[\u001b[0m\u001b[0mk\u001b[0m\u001b[0;34m]\u001b[0m \u001b[0;34m=\u001b[0m \u001b[0mobjs\u001b[0m\u001b[0;34m[\u001b[0m\u001b[0mk\u001b[0m\u001b[0;34m]\u001b[0m\u001b[0;34m.\u001b[0m\u001b[0mastype\u001b[0m\u001b[0;34m(\u001b[0m\u001b[0mfinal_dtype\u001b[0m\u001b[0;34m)\u001b[0m\u001b[0;34m\u001b[0m\u001b[0m\n\u001b[1;32m    337\u001b[0m \u001b[0;34m\u001b[0m\u001b[0m\n\u001b[0;32m--> 338\u001b[0;31m         \u001b[0mres\u001b[0m \u001b[0;34m=\u001b[0m \u001b[0m_nx\u001b[0m\u001b[0;34m.\u001b[0m\u001b[0mconcatenate\u001b[0m\u001b[0;34m(\u001b[0m\u001b[0mtuple\u001b[0m\u001b[0;34m(\u001b[0m\u001b[0mobjs\u001b[0m\u001b[0;34m)\u001b[0m\u001b[0;34m,\u001b[0m \u001b[0maxis\u001b[0m\u001b[0;34m=\u001b[0m\u001b[0mself\u001b[0m\u001b[0;34m.\u001b[0m\u001b[0maxis\u001b[0m\u001b[0;34m)\u001b[0m\u001b[0;34m\u001b[0m\u001b[0m\n\u001b[0m\u001b[1;32m    339\u001b[0m         \u001b[0;32mreturn\u001b[0m \u001b[0mself\u001b[0m\u001b[0;34m.\u001b[0m\u001b[0m_retval\u001b[0m\u001b[0;34m(\u001b[0m\u001b[0mres\u001b[0m\u001b[0;34m)\u001b[0m\u001b[0;34m\u001b[0m\u001b[0m\n\u001b[1;32m    340\u001b[0m \u001b[0;34m\u001b[0m\u001b[0m\n",
      "\u001b[0;31mTypeError\u001b[0m: invalid type promotion"
     ]
    },
    {
     "data": {
      "image/png": "[encoded data removed]",
      "text/plain": [
       "<matplotlib.figure.Figure at 0x1179e1278>"
      ]
     },
     "metadata": {},
     "output_type": "display_data"
    }
   ],
   "source": [
    "\n",
    "fig, ax = plt.subplots(figsize=(12,12))\n",
    "points = plt.scatter(x = dijsselbloem_df.index, y = dijsselbloem_df.fear, s=75, c=dijsselbloem_df.fear,  cmap=\"BrBG\")\n",
    "\n",
    "plt.colorbar(points)\n",
    "sns.regplot(x = dijsselbloem_df.index, y = dijsselbloem_df.fear, data=dijsselbloem_df, scatter=False, color='r',fit_reg=True)\n",
    "\n",
    "\n",
    "ax = plt.gca()\n",
    "xticks = ax.get_xticks()\n",
    "xticks_dates = [datetime.datetime.fromtimestamp(dijsselbloem_df.index).strftime('%Y-%m-%d %H:%M:%S') for x in xticks]\n",
    "\n",
    "plt.plot(np.unique(points), np.poly1d(np.polyfit(x, y, 1))(np.unique(x)))\n",
    "#xticks_dates = [dijsselbloem_df.index.strftime('%Y') for x in xticks]\n",
    "ax.set_xticklabels(xticks_dates)\n",
    "ax.set_ylim(0,0.3)\n",
    "\n",
    "\n",
    "\n",
    "    # Add correlation line\n",
    "#     axes = plt.gca()\n",
    "#     m, b = np.polyfit(x, y, 1)\n",
    "#     X_plot = np.linspace(axes.get_xlim()[0],axes.get_xlim()[1],100)\n",
    "#     plt.plot(X_plot, m*X_plot + b, '-')\n",
    "\n",
    "\n",
    "# fig, ax = plt.subplots(figsize=(12,12))\n",
    "# ax.scatter(x= dijsselbloem_df.index, y = dijsselbloem_df.fear)\n",
    "# ax.scatter(x= moscovici_df.index, y = moscovici_df.fear, color='red')\n",
    "# ax.scatter(x= regling_df.index, y = regling_df.fear, color='green')\n",
    "# ax.scatter(x= statement_df.index, y = statement_df.fear, color='purple')\n",
    "\n",
    "\n",
    "\n",
    "\n",
    "\n"
   ]
  },
  {
   "cell_type": "markdown",
   "metadata": {},
   "source": [
    "# Dij"
   ]
  },
  {
   "cell_type": "code",
   "execution_count": null,
   "metadata": {
    "collapsed": true
   },
   "outputs": [],
   "source": [
    "dijsselbloem_df['date'] = dijsselbloem_df.index\n",
    "dijsselbloem_df.dtypes\n",
    "timechange = lambda x:x.timestamp()\n",
    "dijsselbloem_df.date = dijsselbloem_df.date.apply((timechange))"
   ]
  },
  {
   "cell_type": "markdown",
   "metadata": {},
   "source": [
    "# positivity"
   ]
  },
  {
   "cell_type": "code",
   "execution_count": 147,
   "metadata": {
    "collapsed": true
   },
   "outputs": [],
   "source": [
    "[m_1, b] = np.polyfit(dijsselbloem_df.date,dijsselbloem_df.positivity,1)\n",
    "\n",
    "\n",
    "def plot_xy(x, y, color = 'blue', size = 1.0, ax = None):\n",
    "    if ax:\n",
    "        ax.scatter(dijsselbloem_df.date,dijsselbloem_df.positivity)\n",
    "    else:\n",
    "        fig = plt.figure(figsize=(5,5))\n",
    "        ax = fig.add_subplot(1,1,1)\n",
    "        ax.scatter(dijsselbloem_df.date,dijsselbloem_df.positivity)\n",
    "        return ax\n",
    "\n",
    "\n",
    "\n"
   ]
  },
  {
   "cell_type": "code",
   "execution_count": 148,
   "metadata": {},
   "outputs": [
    {
     "data": {
      "image/png": "[encoded data removed]",
      "text/plain": [
       "<matplotlib.figure.Figure at 0x1144a29e8>"
      ]
     },
     "metadata": {},
     "output_type": "display_data"
    }
   ],
   "source": [
    "x_line = np.linspace(1.422248e+09, 1.517567e+09,1000)\n",
    "ax = plot_xy(dijsselbloem_df.date,dijsselbloem_df.positivity)\n",
    "ax.plot(x_line, b + m_1*x_line, 'r')\n",
    "\n",
    "ax.set_ylim(0,1)\n",
    "plt.show()\n",
    "\n",
    "\n",
    "\n",
    "\n",
    "\n"
   ]
  },
  {
   "cell_type": "markdown",
   "metadata": {},
   "source": [
    "# anger"
   ]
  },
  {
   "cell_type": "code",
   "execution_count": 149,
   "metadata": {
    "collapsed": true
   },
   "outputs": [],
   "source": [
    "[m_1, b] = np.polyfit(dijsselbloem_df.date,dijsselbloem_df.anger,1)\n",
    "\n",
    "\n",
    "def plot_xy(x, y, color = 'blue', size = 1.0, ax = None):\n",
    "    if ax:\n",
    "        ax.scatter(dijsselbloem_df.date,dijsselbloem_df.anger)\n",
    "    else:\n",
    "        fig = plt.figure(figsize=(5,5))\n",
    "        ax = fig.add_subplot(1,1,1)\n",
    "        ax.scatter(dijsselbloem_df.date,dijsselbloem_df.anger)\n",
    "        return ax\n",
    "\n",
    "\n",
    "\n",
    "\n"
   ]
  },
  {
   "cell_type": "code",
   "execution_count": 150,
   "metadata": {},
   "outputs": [
    {
     "data": {
      "image/png": "[encoded data removed]",
      "text/plain": [
       "<matplotlib.figure.Figure at 0x1142e6518>"
      ]
     },
     "metadata": {},
     "output_type": "display_data"
    }
   ],
   "source": [
    "x_line = np.linspace(1.422248e+09, 1.517567e+09,1000)\n",
    "ax = plot_xy(dijsselbloem_df.date,dijsselbloem_df.anger)\n",
    "ax.plot(x_line, b + m_1*x_line, 'r')\n",
    "\n",
    "ax.set_ylim(0,1)\n",
    "plt.show()\n",
    "\n",
    "\n",
    "\n",
    "\n",
    "\n",
    "\n"
   ]
  },
  {
   "cell_type": "markdown",
   "metadata": {},
   "source": [
    "# anticipation"
   ]
  },
  {
   "cell_type": "code",
   "execution_count": 151,
   "metadata": {
    "collapsed": true
   },
   "outputs": [],
   "source": [
    "[m_1, b] = np.polyfit(dijsselbloem_df.date,dijsselbloem_df.anticipation,1)\n",
    "\n",
    "\n",
    "def plot_xy(x, y, color = 'blue', size = 1.0, ax = None):\n",
    "    if ax:\n",
    "        ax.scatter(dijsselbloem_df.date,dijsselbloem_df.anticipation)\n",
    "    else:\n",
    "        fig = plt.figure(figsize=(5,5))\n",
    "        ax = fig.add_subplot(1,1,1)\n",
    "        ax.scatter(dijsselbloem_df.date,dijsselbloem_df.anticipation)\n",
    "        return ax\n",
    "\n",
    "\n"
   ]
  },
  {
   "cell_type": "code",
   "execution_count": 152,
   "metadata": {},
   "outputs": [
    {
     "data": {
      "image/png": "[encoded data removed]",
      "text/plain": [
       "<matplotlib.figure.Figure at 0x11457c278>"
      ]
     },
     "metadata": {},
     "output_type": "display_data"
    }
   ],
   "source": [
    "x_line = np.linspace(1.422248e+09, 1.517567e+09,1000)\n",
    "ax = plot_xy(dijsselbloem_df.date,dijsselbloem_df.anticipation)\n",
    "ax.plot(x_line, b + m_1*x_line, 'r')\n",
    "\n",
    "ax.set_ylim(0,1)\n",
    "plt.show()\n",
    "\n",
    "\n",
    "\n",
    "\n"
   ]
  },
  {
   "cell_type": "markdown",
   "metadata": {},
   "source": [
    "# Trust"
   ]
  },
  {
   "cell_type": "code",
   "execution_count": 153,
   "metadata": {
    "collapsed": true
   },
   "outputs": [],
   "source": [
    "[m_1, b] = np.polyfit(dijsselbloem_df.date,dijsselbloem_df.trust,1)\n",
    "\n",
    "\n",
    "def plot_xy(x, y, color = 'blue', size = 1.0, ax = None):\n",
    "    if ax:\n",
    "        ax.scatter(dijsselbloem_df.date,dijsselbloem_df.trust)\n",
    "    else:\n",
    "        fig = plt.figure(figsize=(5,5))\n",
    "        ax = fig.add_subplot(1,1,1)\n",
    "        ax.scatter(dijsselbloem_df.date,dijsselbloem_df.trust)\n",
    "        return ax\n",
    "\n",
    "\n",
    "\n"
   ]
  },
  {
   "cell_type": "code",
   "execution_count": 154,
   "metadata": {},
   "outputs": [
    {
     "data": {
      "image/png": "[encoded data removed]",
      "text/plain": [
       "<matplotlib.figure.Figure at 0x1134cf128>"
      ]
     },
     "metadata": {},
     "output_type": "display_data"
    }
   ],
   "source": [
    "x_line = np.linspace(1.422248e+09, 1.517567e+09,1000)\n",
    "ax = plot_xy(dijsselbloem_df.date,dijsselbloem_df.trust)\n",
    "ax.plot(x_line, b + m_1*x_line, 'r')\n",
    "\n",
    "ax.set_ylim(0,1)\n",
    "plt.show()\n",
    "\n",
    "\n",
    "\n",
    "\n",
    "\n"
   ]
  },
  {
   "cell_type": "markdown",
   "metadata": {},
   "source": [
    "# Surprise"
   ]
  },
  {
   "cell_type": "code",
   "execution_count": 155,
   "metadata": {
    "collapsed": true
   },
   "outputs": [],
   "source": [
    "[m_1, b] = np.polyfit(dijsselbloem_df.date,dijsselbloem_df.surprise,1)\n",
    "\n",
    "\n",
    "def plot_xy(x, y, color = 'blue', size = 1.0, ax = None):\n",
    "    if ax:\n",
    "        ax.scatter(dijsselbloem_df.date,dijsselbloem_df.surprise)\n",
    "    else:\n",
    "        fig = plt.figure(figsize=(5,5))\n",
    "        ax = fig.add_subplot(1,1,1)\n",
    "        ax.scatter(dijsselbloem_df.date,dijsselbloem_df.surprise)\n",
    "        return ax\n",
    "\n",
    "\n",
    "\n",
    "\n"
   ]
  },
  {
   "cell_type": "code",
   "execution_count": 156,
   "metadata": {},
   "outputs": [
    {
     "data": {
      "image/png": "[encoded data removed]",
      "text/plain": [
       "<matplotlib.figure.Figure at 0x1144e9828>"
      ]
     },
     "metadata": {},
     "output_type": "display_data"
    }
   ],
   "source": [
    "x_line = np.linspace(1.422248e+09, 1.517567e+09,1000)\n",
    "ax = plot_xy(dijsselbloem_df.date,dijsselbloem_df.surprise)\n",
    "ax.plot(x_line, b + m_1*x_line, 'r')\n",
    "\n",
    "ax.set_ylim(0,1)\n",
    "plt.show()\n",
    "\n",
    "\n",
    "\n",
    "\n",
    "\n",
    "\n"
   ]
  },
  {
   "cell_type": "code",
   "execution_count": null,
   "metadata": {
    "collapsed": true
   },
   "outputs": [],
   "source": []
  },
  {
   "cell_type": "markdown",
   "metadata": {},
   "source": [
    "# Fear"
   ]
  },
  {
   "cell_type": "code",
   "execution_count": 157,
   "metadata": {
    "collapsed": true
   },
   "outputs": [],
   "source": [
    "[m_1, b] = np.polyfit(dijsselbloem_df.date,dijsselbloem_df.fear,1)\n",
    "\n",
    "\n",
    "def plot_xy(x, y, color = 'blue', size = 1.0, ax = None):\n",
    "    if ax:\n",
    "        ax.scatter(dijsselbloem_df.date,dijsselbloem_df.fear)\n",
    "    else:\n",
    "        fig = plt.figure(figsize=(5,5))\n",
    "        ax = fig.add_subplot(1,1,1)\n",
    "        ax.scatter(dijsselbloem_df.date,dijsselbloem_df.fear)\n",
    "        return ax\n",
    "\n",
    "\n",
    "\n"
   ]
  },
  {
   "cell_type": "code",
   "execution_count": 158,
   "metadata": {},
   "outputs": [
    {
     "data": {
      "image/png": "[encoded data removed]",
      "text/plain": [
       "<matplotlib.figure.Figure at 0x1156ce8d0>"
      ]
     },
     "metadata": {},
     "output_type": "display_data"
    }
   ],
   "source": [
    "x_line = np.linspace(1.422248e+09, 1.517567e+09,1000)\n",
    "ax = plot_xy(dijsselbloem_df.date,dijsselbloem_df.fear)\n",
    "ax.plot(x_line, b + m_1*x_line, 'r')\n",
    "\n",
    "ax.set_ylim(0,1)\n",
    "plt.show()\n",
    "\n",
    "\n",
    "\n",
    "\n",
    "\n"
   ]
  },
  {
   "cell_type": "markdown",
   "metadata": {},
   "source": [
    "# Negativity"
   ]
  },
  {
   "cell_type": "code",
   "execution_count": 159,
   "metadata": {
    "collapsed": true
   },
   "outputs": [],
   "source": [
    "[m_1, b] = np.polyfit(dijsselbloem_df.date,dijsselbloem_df.negativity,1)\n",
    "\n",
    "\n",
    "def plot_xy(x, y, color = 'blue', size = 1.0, ax = None):\n",
    "    if ax:\n",
    "        ax.scatter(dijsselbloem_df.date,dijsselbloem_df.negativity)\n",
    "    else:\n",
    "        fig = plt.figure(figsize=(5,5))\n",
    "        ax = fig.add_subplot(1,1,1)\n",
    "        ax.scatter(dijsselbloem_df.date,dijsselbloem_df.negativity)\n",
    "        return ax\n",
    "\n",
    "\n",
    "\n",
    "\n"
   ]
  },
  {
   "cell_type": "code",
   "execution_count": 160,
   "metadata": {},
   "outputs": [
    {
     "data": {
      "image/png": "[encoded data removed]",
      "text/plain": [
       "<matplotlib.figure.Figure at 0x1144e91d0>"
      ]
     },
     "metadata": {},
     "output_type": "display_data"
    }
   ],
   "source": [
    "x_line = np.linspace(1.422248e+09, 1.517567e+09,1000)\n",
    "ax = plot_xy(dijsselbloem_df.date,dijsselbloem_df.negativity)\n",
    "ax.plot(x_line, b + m_1*x_line, 'r')\n",
    "\n",
    "ax.set_ylim(0,1)\n",
    "plt.show()\n",
    "\n",
    "\n",
    "\n",
    "\n",
    "\n",
    "\n"
   ]
  },
  {
   "cell_type": "markdown",
   "metadata": {},
   "source": [
    "# Moscovici"
   ]
  },
  {
   "cell_type": "code",
   "execution_count": 63,
   "metadata": {},
   "outputs": [
    {
     "ename": "AttributeError",
     "evalue": "'int' object has no attribute 'timestamp'",
     "output_type": "error",
     "traceback": [
      "\u001b[0;31m---------------------------------------------------------------------------\u001b[0m",
      "\u001b[0;31mAttributeError\u001b[0m                            Traceback (most recent call last)",
      "\u001b[0;32m<ipython-input-63-0dae09aa80f8>\u001b[0m in \u001b[0;36m<module>\u001b[0;34m()\u001b[0m\n\u001b[1;32m      1\u001b[0m \u001b[0mmoscovici_df\u001b[0m\u001b[0;34m[\u001b[0m\u001b[0;34m'date1'\u001b[0m\u001b[0;34m]\u001b[0m \u001b[0;34m=\u001b[0m \u001b[0mmoscovici_df\u001b[0m\u001b[0;34m.\u001b[0m\u001b[0mindex\u001b[0m\u001b[0;34m\u001b[0m\u001b[0m\n\u001b[0;32m----> 2\u001b[0;31m \u001b[0mmoscovici_df\u001b[0m\u001b[0;34m.\u001b[0m\u001b[0mdate\u001b[0m \u001b[0;34m=\u001b[0m \u001b[0mmoscovici_df\u001b[0m\u001b[0;34m.\u001b[0m\u001b[0mdate1\u001b[0m\u001b[0;34m.\u001b[0m\u001b[0mapply\u001b[0m\u001b[0;34m(\u001b[0m\u001b[0;34m(\u001b[0m\u001b[0mtimechange\u001b[0m\u001b[0;34m)\u001b[0m\u001b[0;34m)\u001b[0m\u001b[0;34m\u001b[0m\u001b[0m\n\u001b[0m",
      "\u001b[0;32m/usr/local/lib/python3.6/site-packages/pandas/core/series.py\u001b[0m in \u001b[0;36mapply\u001b[0;34m(self, func, convert_dtype, args, **kwds)\u001b[0m\n\u001b[1;32m   2353\u001b[0m             \u001b[0;32melse\u001b[0m\u001b[0;34m:\u001b[0m\u001b[0;34m\u001b[0m\u001b[0m\n\u001b[1;32m   2354\u001b[0m                 \u001b[0mvalues\u001b[0m \u001b[0;34m=\u001b[0m \u001b[0mself\u001b[0m\u001b[0;34m.\u001b[0m\u001b[0masobject\u001b[0m\u001b[0;34m\u001b[0m\u001b[0m\n\u001b[0;32m-> 2355\u001b[0;31m                 \u001b[0mmapped\u001b[0m \u001b[0;34m=\u001b[0m \u001b[0mlib\u001b[0m\u001b[0;34m.\u001b[0m\u001b[0mmap_infer\u001b[0m\u001b[0;34m(\u001b[0m\u001b[0mvalues\u001b[0m\u001b[0;34m,\u001b[0m \u001b[0mf\u001b[0m\u001b[0;34m,\u001b[0m \u001b[0mconvert\u001b[0m\u001b[0;34m=\u001b[0m\u001b[0mconvert_dtype\u001b[0m\u001b[0;34m)\u001b[0m\u001b[0;34m\u001b[0m\u001b[0m\n\u001b[0m\u001b[1;32m   2356\u001b[0m \u001b[0;34m\u001b[0m\u001b[0m\n\u001b[1;32m   2357\u001b[0m         \u001b[0;32mif\u001b[0m \u001b[0mlen\u001b[0m\u001b[0;34m(\u001b[0m\u001b[0mmapped\u001b[0m\u001b[0;34m)\u001b[0m \u001b[0;32mand\u001b[0m \u001b[0misinstance\u001b[0m\u001b[0;34m(\u001b[0m\u001b[0mmapped\u001b[0m\u001b[0;34m[\u001b[0m\u001b[0;36m0\u001b[0m\u001b[0;34m]\u001b[0m\u001b[0;34m,\u001b[0m \u001b[0mSeries\u001b[0m\u001b[0;34m)\u001b[0m\u001b[0;34m:\u001b[0m\u001b[0;34m\u001b[0m\u001b[0m\n",
      "\u001b[0;32mpandas/_libs/src/inference.pyx\u001b[0m in \u001b[0;36mpandas._libs.lib.map_infer (pandas/_libs/lib.c:66645)\u001b[0;34m()\u001b[0m\n",
      "\u001b[0;32m<ipython-input-41-46c28f97b682>\u001b[0m in \u001b[0;36m<lambda>\u001b[0;34m(x)\u001b[0m\n\u001b[0;32m----> 1\u001b[0;31m \u001b[0mtimechange\u001b[0m \u001b[0;34m=\u001b[0m \u001b[0;32mlambda\u001b[0m \u001b[0mx\u001b[0m\u001b[0;34m:\u001b[0m\u001b[0mx\u001b[0m\u001b[0;34m.\u001b[0m\u001b[0mtimestamp\u001b[0m\u001b[0;34m(\u001b[0m\u001b[0;34m)\u001b[0m\u001b[0;34m\u001b[0m\u001b[0m\n\u001b[0m",
      "\u001b[0;31mAttributeError\u001b[0m: 'int' object has no attribute 'timestamp'"
     ]
    }
   ],
   "source": [
    "moscovici_df['date1'] = moscovici_df.index\n",
    "moscovici_df.date = moscovici_df.date1.apply((timechange))"
   ]
  },
  {
   "cell_type": "code",
   "execution_count": 227,
   "metadata": {
    "collapsed": true
   },
   "outputs": [],
   "source": [
    "[m_1, b] = np.polyfit(moscovici_df.date,moscovici_df.positivity,1)\n",
    "\n",
    "\n",
    "def plot_xy(x, y, color = 'blue', size = 1.0, ax = None):\n",
    "    if ax:\n",
    "        ax.scatter(moscovici_df.date,moscovici_df.positivity)\n",
    "    else:\n",
    "        fig = plt.figure(figsize=(5,5))\n",
    "        ax = fig.add_subplot(1,1,1)\n",
    "        ax.scatter(moscovici_df.date,moscovici_df.positivity)\n",
    "        return ax\n",
    "\n",
    "\n"
   ]
  },
  {
   "cell_type": "code",
   "execution_count": 228,
   "metadata": {},
   "outputs": [
    {
     "data": {
      "image/png": "[encoded data removed]",
      "text/plain": [
       "<matplotlib.figure.Figure at 0x1173243c8>"
      ]
     },
     "metadata": {},
     "output_type": "display_data"
    }
   ],
   "source": [
    "x_line = np.linspace(1.422248e+09, 1.517567e+09,1000)\n",
    "ax = plot_xy(moscovici_df.date,moscovici_df.positivity)\n",
    "ax.plot(x_line, b + m_1*x_line, 'r')\n",
    "\n",
    "ax.set_ylim(0,1)\n",
    "plt.show()\n",
    "\n",
    "\n",
    "\n",
    "\n"
   ]
  },
  {
   "cell_type": "markdown",
   "metadata": {},
   "source": [
    "Anticipation"
   ]
  },
  {
   "cell_type": "code",
   "execution_count": 229,
   "metadata": {
    "collapsed": true
   },
   "outputs": [],
   "source": [
    "[m_1, b] = np.polyfit(moscovici_df.date,moscovici_df.anticipation,1)\n",
    "\n",
    "\n",
    "def plot_xy(x, y, color = 'blue', size = 1.0, ax = None):\n",
    "    if ax:\n",
    "        ax.scatter(moscovici_df.date,moscovici_df.anticipation)\n",
    "    else:\n",
    "        fig = plt.figure(figsize=(5,5))\n",
    "        ax = fig.add_subplot(1,1,1)\n",
    "        ax.scatter(moscovici_df.date,moscovici_df.anticipation)\n",
    "        return ax\n",
    "\n",
    "\n",
    "\n"
   ]
  },
  {
   "cell_type": "code",
   "execution_count": 230,
   "metadata": {},
   "outputs": [
    {
     "data": {
      "image/png": "[encoded data removed]",
      "text/plain": [
       "<matplotlib.figure.Figure at 0x1172dc9e8>"
      ]
     },
     "metadata": {},
     "output_type": "display_data"
    }
   ],
   "source": [
    "x_line = np.linspace(1.422248e+09, 1.517567e+09,1000)\n",
    "ax = plot_xy(moscovici_df.date,moscovici_df.anticipation)\n",
    "ax.plot(x_line, b + m_1*x_line, 'r')\n",
    "\n",
    "ax.set_ylim(0,1)\n",
    "plt.show()\n",
    "\n",
    "\n",
    "\n",
    "\n",
    "\n"
   ]
  },
  {
   "cell_type": "markdown",
   "metadata": {},
   "source": [
    "Fear"
   ]
  },
  {
   "cell_type": "code",
   "execution_count": 231,
   "metadata": {
    "collapsed": true
   },
   "outputs": [],
   "source": [
    "[m_1, b] = np.polyfit(moscovici_df.date,moscovici_df.fear,1)\n",
    "\n",
    "\n",
    "def plot_xy(x, y, color = 'blue', size = 1.0, ax = None):\n",
    "    if ax:\n",
    "        ax.scatter(moscovici_df.date,moscovici_df.fear)\n",
    "    else:\n",
    "        fig = plt.figure(figsize=(5,5))\n",
    "        ax = fig.add_subplot(1,1,1)\n",
    "        ax.scatter(moscovici_df.date,moscovici_df.fear)\n",
    "        return ax\n",
    "\n",
    "\n",
    "\n",
    "\n",
    "# plt.savefig(\"slope.pdf\")\n",
    "\n"
   ]
  },
  {
   "cell_type": "code",
   "execution_count": 232,
   "metadata": {},
   "outputs": [
    {
     "data": {
      "image/png": "[encoded data removed]",
      "text/plain": [
       "<matplotlib.figure.Figure at 0x119cfd8d0>"
      ]
     },
     "metadata": {},
     "output_type": "display_data"
    }
   ],
   "source": [
    "x_line = np.linspace(1.422248e+09, 1.517567e+09,1000)\n",
    "ax = plot_xy(moscovici_df.date,moscovici_df.fear)\n",
    "ax.plot(x_line, b + m_1*x_line, 'r')\n",
    "ax\n",
    "ax.set_ylim(0,1)\n",
    "plt.show()\n",
    "\n",
    "\n",
    "\n",
    "\n",
    "\n",
    "\n"
   ]
  },
  {
   "cell_type": "markdown",
   "metadata": {},
   "source": [
    "# Regling"
   ]
  },
  {
   "cell_type": "code",
   "execution_count": 245,
   "metadata": {
    "collapsed": true
   },
   "outputs": [],
   "source": [
    "timechange1 = lambda x:x.timestamp()\n",
    "regling_df['date1'] = regling_df.index\n",
    "regling_df.date1 = regling_df.date1.apply((timechange1))"
   ]
  },
  {
   "cell_type": "markdown",
   "metadata": {},
   "source": [
    "Positive"
   ]
  },
  {
   "cell_type": "code",
   "execution_count": 247,
   "metadata": {
    "collapsed": true
   },
   "outputs": [],
   "source": [
    "[m_1, b] = np.polyfit(regling_df.date,regling_df.positivity,1)\n",
    "\n",
    "\n",
    "def plot_xy(x, y, color = 'blue', size = 1.0, ax = None):\n",
    "    if ax:\n",
    "        ax.scatter(regling_df.date,regling_df.positivity)\n",
    "    else:\n",
    "        fig = plt.figure(figsize=(5,5))\n",
    "        ax = fig.add_subplot(1,1,1)\n",
    "        ax.scatter(regling_df.date,regling_df.positivity)\n",
    "        return ax\n",
    "\n",
    "\n",
    "\n"
   ]
  },
  {
   "cell_type": "code",
   "execution_count": 248,
   "metadata": {},
   "outputs": [
    {
     "data": {
      "image/png": "[encoded data removed]",
      "text/plain": [
       "<matplotlib.figure.Figure at 0x11a0c4160>"
      ]
     },
     "metadata": {},
     "output_type": "display_data"
    }
   ],
   "source": [
    "x_line = np.linspace(1.422248e+09, 1.517567e+09,1000)\n",
    "ax = plot_xy(regling_df.date,regling_df.positivity)\n",
    "ax.plot(x_line, b + m_1*x_line, 'r')\n",
    "\n",
    "ax.set_ylim(0,1)\n",
    "plt.show()\n",
    "\n",
    "\n",
    "\n",
    "\n",
    "\n"
   ]
  },
  {
   "cell_type": "markdown",
   "metadata": {},
   "source": [
    "Anticipation"
   ]
  },
  {
   "cell_type": "code",
   "execution_count": 249,
   "metadata": {
    "collapsed": true
   },
   "outputs": [],
   "source": [
    "[m_1, b] = np.polyfit(regling_df.date,regling_df.anticipation,1)\n",
    "\n",
    "\n",
    "def plot_xy(x, y, color = 'blue', size = 1.0, ax = None):\n",
    "    if ax:\n",
    "        ax.scatter(regling_df.date,regling_df.anticipation)\n",
    "    else:\n",
    "        fig = plt.figure(figsize=(5,5))\n",
    "        ax = fig.add_subplot(1,1,1)\n",
    "        ax.scatter(regling_df.date,regling_df.anticipation)\n",
    "        return ax\n",
    "\n",
    "\n",
    "\n",
    "\n"
   ]
  },
  {
   "cell_type": "code",
   "execution_count": 250,
   "metadata": {},
   "outputs": [
    {
     "data": {
      "image/png": "[encoded data removed]",
      "text/plain": [
       "<matplotlib.figure.Figure at 0x11a1b5978>"
      ]
     },
     "metadata": {},
     "output_type": "display_data"
    }
   ],
   "source": [
    "x_line = np.linspace(1.422248e+09, 1.517567e+09,1000)\n",
    "ax = plot_xy(regling_df.date,regling_df.anticipation)\n",
    "ax.plot(x_line, b + m_1*x_line, 'r')\n",
    "\n",
    "ax.set_ylim(0,1)\n",
    "plt.show()\n",
    "\n",
    "\n",
    "\n",
    "\n",
    "\n",
    "\n"
   ]
  },
  {
   "cell_type": "markdown",
   "metadata": {},
   "source": [
    "fear"
   ]
  },
  {
   "cell_type": "code",
   "execution_count": 251,
   "metadata": {
    "collapsed": true
   },
   "outputs": [],
   "source": [
    "[m_1, b] = np.polyfit(regling_df.date,regling_df.fear,1)\n",
    "\n",
    "\n",
    "def plot_xy(x, y, color = 'blue', size = 1.0, ax = None):\n",
    "    if ax:\n",
    "        ax.scatter(regling_df.date,regling_df.fear)\n",
    "    else:\n",
    "        fig = plt.figure(figsize=(5,5))\n",
    "        ax = fig.add_subplot(1,1,1)\n",
    "        ax.scatter(regling_df.date,regling_df.fear)\n",
    "        return ax\n",
    "\n",
    "\n",
    "\n",
    "\n",
    "\n"
   ]
  },
  {
   "cell_type": "code",
   "execution_count": 252,
   "metadata": {},
   "outputs": [
    {
     "data": {
      "image/png": "[encoded data removed]",
      "text/plain": [
       "<matplotlib.figure.Figure at 0x11a0f6eb8>"
      ]
     },
     "metadata": {},
     "output_type": "display_data"
    }
   ],
   "source": [
    "x_line = np.linspace(1.422248e+09, 1.517567e+09,1000)\n",
    "ax = plot_xy(regling_df.date,regling_df.anticipation)\n",
    "ax.plot(x_line, b + m_1*x_line, 'r')\n",
    "\n",
    "ax.set_ylim(0,1)\n",
    "plt.show()\n",
    "\n",
    "\n",
    "\n",
    "\n",
    "\n",
    "\n"
   ]
  },
  {
   "cell_type": "code",
   "execution_count": null,
   "metadata": {
    "collapsed": true
   },
   "outputs": [],
   "source": [
    "all = "
   ]
  }
 ],
 "metadata": {
  "kernelspec": {
   "display_name": "Python 3",
   "language": "python",
   "name": "python3"
  },
  "language_info": {
   "codemirror_mode": {
    "name": "ipython",
    "version": 3
   },
   "file_extension": ".py",
   "mimetype": "text/x-python",
   "name": "python",
   "nbconvert_exporter": "python",
   "pygments_lexer": "ipython3",
   "version": "3.6.1"
  }
 },
 "nbformat": 4,
 "nbformat_minor": 2
}
