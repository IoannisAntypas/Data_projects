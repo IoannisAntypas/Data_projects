{
 "cells": [
  {
   "cell_type": "markdown",
   "metadata": {},
   "source": [
    "# Trump's tone to Congress\n",
    "\n",
    "We're going to reproduce [Trump Sounds a Different Tone in First Address to Congress](https://www.nytimes.com/interactive/2017/02/28/upshot/trump-sounds-different-tone-in-first-address-to-congress.html) from the Upshot.\n",
    "\n",
    "**Datasource 1:** The [NRC Emotional Lexicon](http://saifmohammad.com/WebPages/NRC-Emotion-Lexicon.htm), a list of English words and their associations with eight basic emotions (anger, fear, anticipation, trust, surprise, sadness, joy, and disgust) and two sentiments (negative and positive). The annotations were manually done by crowdsourcing. \n",
    "\n",
    "**Datasource 2:** A database of [Trump speeches](https://github.com/PedramNavid/trump_speeches), one speech per file. There are a lot of GitHub repositories of Trump speeches, but this one is better than the vast majority.\n",
    "\n",
    "**Datasource 3:** State of the Union addresses taken from [this repo's data directory](https://github.com/m-aleem/SOTU-Analyzer). I also cheated and pasted Trump's SOTU-y address in."
   ]
  },
  {
   "cell_type": "code",
   "execution_count": 25,
   "metadata": {
    "collapsed": true
   },
   "outputs": [],
   "source": [
    "import pandas as pd\n",
    "%matplotlib inline"
   ]
  },
  {
   "cell_type": "markdown",
   "metadata": {},
   "source": [
    "## Reading in Trump's speeches\n",
    "\n",
    "### Get a list of all of the files"
   ]
  },
  {
   "cell_type": "code",
   "execution_count": 26,
   "metadata": {},
   "outputs": [
    {
     "data": {
      "text/plain": [
       "['trump_speeches-master/data/speech_0.txt',\n",
       " 'trump_speeches-master/data/speech_1.txt',\n",
       " 'trump_speeches-master/data/speech_10.txt',\n",
       " 'trump_speeches-master/data/speech_11.txt',\n",
       " 'trump_speeches-master/data/speech_12.txt']"
      ]
     },
     "execution_count": 26,
     "metadata": {},
     "output_type": "execute_result"
    }
   ],
   "source": [
    "import glob\n",
    "\n",
    "filenames = glob.glob(\"trump_speeches-master/data/speech*\")\n",
    "filenames[:5]"
   ]
  },
  {
   "cell_type": "markdown",
   "metadata": {},
   "source": [
    "### Read them all in individually"
   ]
  },
  {
   "cell_type": "code",
   "execution_count": 27,
   "metadata": {},
   "outputs": [
    {
     "data": {
      "text/plain": [
       "56"
      ]
     },
     "execution_count": 27,
     "metadata": {},
     "output_type": "execute_result"
    }
   ],
   "source": [
    "speeches = [open(filename).read() for filename in filenames]\n",
    "len(speeches)"
   ]
  },
  {
   "cell_type": "markdown",
   "metadata": {},
   "source": [
    "### Create a dataframe out of the results\n",
    "\n",
    "Instead of passing a list of dictionaries to `pd.DataFrame`, we pass a dictionary that says \"here are all of the filenames\" and \"here are all of the texts\" and it puts each list into a column."
   ]
  },
  {
   "cell_type": "code",
   "execution_count": 28,
   "metadata": {},
   "outputs": [
    {
     "data": {
      "text/html": [
       "<div>\n",
       "<style>\n",
       "    .dataframe thead tr:only-child th {\n",
       "        text-align: right;\n",
       "    }\n",
       "\n",
       "    .dataframe thead th {\n",
       "        text-align: left;\n",
       "    }\n",
       "\n",
       "    .dataframe tbody tr th {\n",
       "        vertical-align: top;\n",
       "    }\n",
       "</style>\n",
       "<table border=\"1\" class=\"dataframe\">\n",
       "  <thead>\n",
       "    <tr style=\"text-align: right;\">\n",
       "      <th></th>\n",
       "      <th>filename</th>\n",
       "      <th>text</th>\n",
       "    </tr>\n",
       "  </thead>\n",
       "  <tbody>\n",
       "    <tr>\n",
       "      <th>0</th>\n",
       "      <td>trump_speeches-master/data/speech_0.txt</td>\n",
       "      <td>Remarks Announcing Candidacy for President in ...</td>\n",
       "    </tr>\n",
       "    <tr>\n",
       "      <th>1</th>\n",
       "      <td>trump_speeches-master/data/speech_1.txt</td>\n",
       "      <td>Remarks at the AIPAC Policy Conference in Wash...</td>\n",
       "    </tr>\n",
       "    <tr>\n",
       "      <th>2</th>\n",
       "      <td>trump_speeches-master/data/speech_10.txt</td>\n",
       "      <td>Remarks at the Washington County Fair Park in ...</td>\n",
       "    </tr>\n",
       "  </tbody>\n",
       "</table>\n",
       "</div>"
      ],
      "text/plain": [
       "                                   filename  \\\n",
       "0   trump_speeches-master/data/speech_0.txt   \n",
       "1   trump_speeches-master/data/speech_1.txt   \n",
       "2  trump_speeches-master/data/speech_10.txt   \n",
       "\n",
       "                                                text  \n",
       "0  Remarks Announcing Candidacy for President in ...  \n",
       "1  Remarks at the AIPAC Policy Conference in Wash...  \n",
       "2  Remarks at the Washington County Fair Park in ...  "
      ]
     },
     "execution_count": 28,
     "metadata": {},
     "output_type": "execute_result"
    }
   ],
   "source": [
    "speeches_df = pd.DataFrame({\n",
    "    'text': speeches,\n",
    "    'filename': filenames\n",
    "})\n",
    "speeches_df.head(3)"
   ]
  },
  {
   "cell_type": "markdown",
   "metadata": {},
   "source": [
    "### Splitting out the title and content of the speech\n",
    "\n",
    "The \"text\" column is formatted with first the title of the speech, then the text. Like this:"
   ]
  },
  {
   "cell_type": "code",
   "execution_count": 34,
   "metadata": {},
   "outputs": [
    {
     "data": {
      "text/plain": [
       "\"Remarks Announcing Candidacy for President in New York City\\nTrump: Wow. Whoa. That is some group of people. Thousands.So nice, thank you very much. That's really nice. Thank you. It's great to be at T\""
      ]
     },
     "execution_count": 34,
     "metadata": {},
     "output_type": "execute_result"
    }
   ],
   "source": [
    "speeches_df.loc[0]['text'][:200]"
   ]
  },
  {
   "cell_type": "markdown",
   "metadata": {},
   "source": [
    "We're going to split those out into multiple columns, then delete the original column so we don't get mixed up later."
   ]
  },
  {
   "cell_type": "code",
   "execution_count": 35,
   "metadata": {},
   "outputs": [
    {
     "data": {
      "text/html": [
       "<div>\n",
       "<style>\n",
       "    .dataframe thead tr:only-child th {\n",
       "        text-align: right;\n",
       "    }\n",
       "\n",
       "    .dataframe thead th {\n",
       "        text-align: left;\n",
       "    }\n",
       "\n",
       "    .dataframe tbody tr th {\n",
       "        vertical-align: top;\n",
       "    }\n",
       "</style>\n",
       "<table border=\"1\" class=\"dataframe\">\n",
       "  <thead>\n",
       "    <tr style=\"text-align: right;\">\n",
       "      <th></th>\n",
       "      <th>filename</th>\n",
       "      <th>name</th>\n",
       "      <th>content</th>\n",
       "    </tr>\n",
       "  </thead>\n",
       "  <tbody>\n",
       "    <tr>\n",
       "      <th>0</th>\n",
       "      <td>trump_speeches-master/data/speech_0.txt</td>\n",
       "      <td>Remarks Announcing Candidacy for President in ...</td>\n",
       "      <td>Trump: Wow. Whoa. That is some group of people...</td>\n",
       "    </tr>\n",
       "    <tr>\n",
       "      <th>1</th>\n",
       "      <td>trump_speeches-master/data/speech_1.txt</td>\n",
       "      <td>Remarks at the AIPAC Policy Conference in Wash...</td>\n",
       "      <td>Good evening. Thank you very much. I speak to...</td>\n",
       "    </tr>\n",
       "  </tbody>\n",
       "</table>\n",
       "</div>"
      ],
      "text/plain": [
       "                                  filename  \\\n",
       "0  trump_speeches-master/data/speech_0.txt   \n",
       "1  trump_speeches-master/data/speech_1.txt   \n",
       "\n",
       "                                                name  \\\n",
       "0  Remarks Announcing Candidacy for President in ...   \n",
       "1  Remarks at the AIPAC Policy Conference in Wash...   \n",
       "\n",
       "                                             content  \n",
       "0  Trump: Wow. Whoa. That is some group of people...  \n",
       "1   Good evening. Thank you very much. I speak to...  "
      ]
     },
     "execution_count": 35,
     "metadata": {},
     "output_type": "execute_result"
    }
   ],
   "source": [
    "speeches_df['name'] = speeches_df['text'].apply(lambda value: value.split(\"\\n\")[0])\n",
    "speeches_df['content'] = speeches_df['text'].apply(lambda value: value.split(\"\\n\")[1])\n",
    "del speeches_df['text']\n",
    "speeches_df.head(2)"
   ]
  },
  {
   "cell_type": "markdown",
   "metadata": {},
   "source": [
    "# How does Trump sound?\n",
    "\n",
    "Let's analyze by counting words.\n",
    "\n",
    "We would use the code below to count all of his words. **Do we really want all of them?**\n",
    "\n",
    "```python\n",
    "from sklearn.feature_extraction.text import CountVectorizer\n",
    "\n",
    "vec = CountVectorizer()\n",
    "matrix = vec.fit_transform(speeches_df['content'])\n",
    "vocab = vec.get_feature_names()\n",
    "wordcount_df = pd.DataFrame(matrix.toarray(), columns=vocab)\n",
    "wordcount_df.head()\n",
    "```"
   ]
  },
  {
   "cell_type": "code",
   "execution_count": null,
   "metadata": {
    "collapsed": true
   },
   "outputs": [],
   "source": []
  },
  {
   "cell_type": "code",
   "execution_count": null,
   "metadata": {
    "collapsed": true
   },
   "outputs": [],
   "source": []
  },
  {
   "cell_type": "code",
   "execution_count": null,
   "metadata": {
    "collapsed": true
   },
   "outputs": [],
   "source": []
  },
  {
   "cell_type": "code",
   "execution_count": null,
   "metadata": {
    "collapsed": true
   },
   "outputs": [],
   "source": []
  },
  {
   "cell_type": "code",
   "execution_count": null,
   "metadata": {
    "collapsed": true
   },
   "outputs": [],
   "source": []
  },
  {
   "cell_type": "markdown",
   "metadata": {},
   "source": [
    "# Reading in the SOTU addresses\n",
    "\n",
    "Pretty much the same thing as what we did with Trump!"
   ]
  },
  {
   "cell_type": "code",
   "execution_count": 36,
   "metadata": {},
   "outputs": [
    {
     "data": {
      "text/html": [
       "<div>\n",
       "<style>\n",
       "    .dataframe thead tr:only-child th {\n",
       "        text-align: right;\n",
       "    }\n",
       "\n",
       "    .dataframe thead th {\n",
       "        text-align: left;\n",
       "    }\n",
       "\n",
       "    .dataframe tbody tr th {\n",
       "        vertical-align: top;\n",
       "    }\n",
       "</style>\n",
       "<table border=\"1\" class=\"dataframe\">\n",
       "  <thead>\n",
       "    <tr style=\"text-align: right;\">\n",
       "      <th></th>\n",
       "      <th>content</th>\n",
       "      <th>filename</th>\n",
       "    </tr>\n",
       "  </thead>\n",
       "  <tbody>\n",
       "    <tr>\n",
       "      <th>0</th>\n",
       "      <td>Gentlemen of the Congress:\\n\\nIn pursuance of ...</td>\n",
       "      <td>SOTU/1913.txt</td>\n",
       "    </tr>\n",
       "    <tr>\n",
       "      <th>1</th>\n",
       "      <td>GENTLEMEN OF THE CONGRESS:\\n\\nThe session upon...</td>\n",
       "      <td>SOTU/1914.txt</td>\n",
       "    </tr>\n",
       "    <tr>\n",
       "      <th>2</th>\n",
       "      <td>GENTLEMEN OF THE CONGRESS:\\n\\nSince I last had...</td>\n",
       "      <td>SOTU/1915.txt</td>\n",
       "    </tr>\n",
       "  </tbody>\n",
       "</table>\n",
       "</div>"
      ],
      "text/plain": [
       "                                             content       filename\n",
       "0  Gentlemen of the Congress:\\n\\nIn pursuance of ...  SOTU/1913.txt\n",
       "1  GENTLEMEN OF THE CONGRESS:\\n\\nThe session upon...  SOTU/1914.txt\n",
       "2  GENTLEMEN OF THE CONGRESS:\\n\\nSince I last had...  SOTU/1915.txt"
      ]
     },
     "execution_count": 36,
     "metadata": {},
     "output_type": "execute_result"
    }
   ],
   "source": [
    "# Get the filenames\n",
    "# Read them in\n",
    "# Create a dataframe from the results\n",
    "filenames = glob.glob(\"SOTU/*.txt\")\n",
    "contents = [open(filename).read() for filename in filenames]\n",
    "sotu_df = pd.DataFrame({\n",
    "    'content': contents,\n",
    "    'filename': filenames\n",
    "})\n",
    "sotu_df.head(3)"
   ]
  },
  {
   "cell_type": "markdown",
   "metadata": {},
   "source": [
    "### Add a column for the name \n",
    "\n",
    "We don't have a name for these, so we'll just use the filename."
   ]
  },
  {
   "cell_type": "code",
   "execution_count": 39,
   "metadata": {},
   "outputs": [
    {
     "data": {
      "text/html": [
       "<div>\n",
       "<style>\n",
       "    .dataframe thead tr:only-child th {\n",
       "        text-align: right;\n",
       "    }\n",
       "\n",
       "    .dataframe thead th {\n",
       "        text-align: left;\n",
       "    }\n",
       "\n",
       "    .dataframe tbody tr th {\n",
       "        vertical-align: top;\n",
       "    }\n",
       "</style>\n",
       "<table border=\"1\" class=\"dataframe\">\n",
       "  <thead>\n",
       "    <tr style=\"text-align: right;\">\n",
       "      <th></th>\n",
       "      <th>content</th>\n",
       "      <th>filename</th>\n",
       "      <th>name</th>\n",
       "    </tr>\n",
       "  </thead>\n",
       "  <tbody>\n",
       "    <tr>\n",
       "      <th>0</th>\n",
       "      <td>Gentlemen of the Congress:\\n\\nIn pursuance of ...</td>\n",
       "      <td>SOTU/1913.txt</td>\n",
       "      <td>SOTU/1913.txt</td>\n",
       "    </tr>\n",
       "    <tr>\n",
       "      <th>1</th>\n",
       "      <td>GENTLEMEN OF THE CONGRESS:\\n\\nThe session upon...</td>\n",
       "      <td>SOTU/1914.txt</td>\n",
       "      <td>SOTU/1914.txt</td>\n",
       "    </tr>\n",
       "    <tr>\n",
       "      <th>2</th>\n",
       "      <td>GENTLEMEN OF THE CONGRESS:\\n\\nSince I last had...</td>\n",
       "      <td>SOTU/1915.txt</td>\n",
       "      <td>SOTU/1915.txt</td>\n",
       "    </tr>\n",
       "    <tr>\n",
       "      <th>3</th>\n",
       "      <td>GENTLEMEN OF THE CONGRESS:\\n\\nIn fulfilling at...</td>\n",
       "      <td>SOTU/1916.txt</td>\n",
       "      <td>SOTU/1916.txt</td>\n",
       "    </tr>\n",
       "    <tr>\n",
       "      <th>4</th>\n",
       "      <td>Gentlemen of the Congress:\\n\\nEight months hav...</td>\n",
       "      <td>SOTU/1917.txt</td>\n",
       "      <td>SOTU/1917.txt</td>\n",
       "    </tr>\n",
       "  </tbody>\n",
       "</table>\n",
       "</div>"
      ],
      "text/plain": [
       "                                             content       filename  \\\n",
       "0  Gentlemen of the Congress:\\n\\nIn pursuance of ...  SOTU/1913.txt   \n",
       "1  GENTLEMEN OF THE CONGRESS:\\n\\nThe session upon...  SOTU/1914.txt   \n",
       "2  GENTLEMEN OF THE CONGRESS:\\n\\nSince I last had...  SOTU/1915.txt   \n",
       "3  GENTLEMEN OF THE CONGRESS:\\n\\nIn fulfilling at...  SOTU/1916.txt   \n",
       "4  Gentlemen of the Congress:\\n\\nEight months hav...  SOTU/1917.txt   \n",
       "\n",
       "            name  \n",
       "0  SOTU/1913.txt  \n",
       "1  SOTU/1914.txt  \n",
       "2  SOTU/1915.txt  \n",
       "3  SOTU/1916.txt  \n",
       "4  SOTU/1917.txt  "
      ]
     },
     "execution_count": 39,
     "metadata": {},
     "output_type": "execute_result"
    }
   ],
   "source": [
    "sotu_df['name'] = sotu_df['filename']\n",
    "sotu_df.head()"
   ]
  },
  {
   "cell_type": "markdown",
   "metadata": {},
   "source": [
    "# How do State of the Unions sound?\n",
    "\n",
    "Let's analyze by counting words."
   ]
  },
  {
   "cell_type": "code",
   "execution_count": null,
   "metadata": {
    "collapsed": true
   },
   "outputs": [],
   "source": []
  },
  {
   "cell_type": "code",
   "execution_count": null,
   "metadata": {
    "collapsed": true
   },
   "outputs": [],
   "source": []
  },
  {
   "cell_type": "code",
   "execution_count": null,
   "metadata": {
    "collapsed": true
   },
   "outputs": [],
   "source": []
  },
  {
   "cell_type": "markdown",
   "metadata": {},
   "source": [
    "# Comparing SOTU vs Trump"
   ]
  },
  {
   "cell_type": "code",
   "execution_count": null,
   "metadata": {
    "collapsed": true
   },
   "outputs": [],
   "source": []
  }
 ],
 "metadata": {
  "kernelspec": {
   "display_name": "Python 3",
   "language": "python",
   "name": "python3"
  },
  "language_info": {
   "codemirror_mode": {
    "name": "ipython",
    "version": 3
   },
   "file_extension": ".py",
   "mimetype": "text/x-python",
   "name": "python",
   "nbconvert_exporter": "python",
   "pygments_lexer": "ipython3",
   "version": "3.6.1"
  }
 },
 "nbformat": 4,
 "nbformat_minor": 2
}
