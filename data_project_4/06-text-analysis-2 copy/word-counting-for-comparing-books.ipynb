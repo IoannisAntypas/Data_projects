{
 "cells": [
  {
   "cell_type": "markdown",
   "metadata": {},
   "source": [
    "Since books are different based on the words that are inside of them, comparing books by comparing words seems to make sense."
   ]
  },
  {
   "cell_type": "code",
   "execution_count": 1,
   "metadata": {
    "collapsed": true
   },
   "outputs": [],
   "source": [
    "%matplotlib inline\n",
    "import pandas as pd"
   ]
  },
  {
   "cell_type": "markdown",
   "metadata": {},
   "source": [
    "# Let's compare JRR Tolkien novels with Jane Austen novels\n",
    "\n",
    "But **before we begin**, a reminder that you can read in files like this:"
   ]
  },
  {
   "cell_type": "code",
   "execution_count": 2,
   "metadata": {
    "collapsed": true
   },
   "outputs": [],
   "source": [
    "# contents = open(\"file.txt\").read()"
   ]
  },
  {
   "cell_type": "code",
   "execution_count": 3,
   "metadata": {
    "collapsed": true
   },
   "outputs": [],
   "source": [
    "the_hobbit = open(\"tolkien/Hobbit, The - J. R. R. Tolkien - 1960.txt\").read()"
   ]
  },
  {
   "cell_type": "code",
   "execution_count": 4,
   "metadata": {},
   "outputs": [
    {
     "data": {
      "text/plain": [
       "'lf our height, and smaller than the bearded Dwarves. Hobbits have no beards. There is little or no magic about them, except the ordinary everyday sort which helps them to disappear quietly and quickly when large stupid folk like you and me come blundering along, making a noise like elephants which they can hear a mile off. They are inclined to be fat in the stomach; they dress in bright colours (chiefly green and yellow); wear no shoes, because their feet grow natural leathery soles and thick wa'"
      ]
     },
     "execution_count": 4,
     "metadata": {},
     "output_type": "execute_result"
    }
   ],
   "source": [
    "# Let's pull something out of the middle, maybe?\n",
    "the_hobbit[7500:8000]"
   ]
  },
  {
   "cell_type": "markdown",
   "metadata": {},
   "source": [
    "## Reading in many text files\n",
    "\n",
    "The best way to read in many text files is to keep each category in its own subdirectory, then use `glob.glob` to find all of the filenames"
   ]
  },
  {
   "cell_type": "code",
   "execution_count": 6,
   "metadata": {},
   "outputs": [
    {
     "data": {
      "text/plain": [
       "['tolkien/Hobbit, The - J. R. R. Tolkien - 1960.txt',\n",
       " 'tolkien/Lord of the Rings - 01 - The Fellowship of the Ring - J. R. R. Tolkien - 1955.txt',\n",
       " 'tolkien/Lord of the Rings - 02 - The Two Towers - J. R. R. Tolkien - 1965.txt',\n",
       " 'tolkien/Lord of the Rings - 03 - The Return of the King - J. R. R. Tolkien - 1965.txt']"
      ]
     },
     "execution_count": 6,
     "metadata": {},
     "output_type": "execute_result"
    }
   ],
   "source": [
    "import glob\n",
    "\n",
    "filenames = glob.glob(\"tolkien/*.txt\")\n",
    "filenames"
   ]
  },
  {
   "cell_type": "code",
   "execution_count": 7,
   "metadata": {
    "collapsed": true
   },
   "outputs": [],
   "source": [
    "contents = [open(file).read() for file in filenames]"
   ]
  },
  {
   "cell_type": "code",
   "execution_count": 8,
   "metadata": {},
   "outputs": [
    {
     "data": {
      "text/html": [
       "<div>\n",
       "<style>\n",
       "    .dataframe thead tr:only-child th {\n",
       "        text-align: right;\n",
       "    }\n",
       "\n",
       "    .dataframe thead th {\n",
       "        text-align: left;\n",
       "    }\n",
       "\n",
       "    .dataframe tbody tr th {\n",
       "        vertical-align: top;\n",
       "    }\n",
       "</style>\n",
       "<table border=\"1\" class=\"dataframe\">\n",
       "  <thead>\n",
       "    <tr style=\"text-align: right;\">\n",
       "      <th></th>\n",
       "      <th>author</th>\n",
       "      <th>body</th>\n",
       "      <th>filename</th>\n",
       "    </tr>\n",
       "  </thead>\n",
       "  <tbody>\n",
       "    <tr>\n",
       "      <th>0</th>\n",
       "      <td>JRR Tolkien</td>\n",
       "      <td>THE HOBBIT\\n\\nOR\\n\\nTHERE AND BACK AGAIN\\n\\nBY...</td>\n",
       "      <td>tolkien/Hobbit, The - J. R. R. Tolkien - 1960.txt</td>\n",
       "    </tr>\n",
       "    <tr>\n",
       "      <th>1</th>\n",
       "      <td>JRR Tolkien</td>\n",
       "      <td>THE FELLOWSHIP OF THE RING\\n\\n\\n\\n\\nBEING THE ...</td>\n",
       "      <td>tolkien/Lord of the Rings - 01 - The Fellowshi...</td>\n",
       "    </tr>\n",
       "    <tr>\n",
       "      <th>2</th>\n",
       "      <td>JRR Tolkien</td>\n",
       "      <td>THE TWO TOWERS\\n\\n\\nBEING THE SECOND PART OF\\n...</td>\n",
       "      <td>tolkien/Lord of the Rings - 02 - The Two Tower...</td>\n",
       "    </tr>\n",
       "    <tr>\n",
       "      <th>3</th>\n",
       "      <td>JRR Tolkien</td>\n",
       "      <td>THE RETURN\\n\\nOF THE KING\\n\\n\\n\\n\\nBEING THE T...</td>\n",
       "      <td>tolkien/Lord of the Rings - 03 - The Return of...</td>\n",
       "    </tr>\n",
       "  </tbody>\n",
       "</table>\n",
       "</div>"
      ],
      "text/plain": [
       "        author                                               body  \\\n",
       "0  JRR Tolkien  THE HOBBIT\\n\\nOR\\n\\nTHERE AND BACK AGAIN\\n\\nBY...   \n",
       "1  JRR Tolkien  THE FELLOWSHIP OF THE RING\\n\\n\\n\\n\\nBEING THE ...   \n",
       "2  JRR Tolkien  THE TWO TOWERS\\n\\n\\nBEING THE SECOND PART OF\\n...   \n",
       "3  JRR Tolkien  THE RETURN\\n\\nOF THE KING\\n\\n\\n\\n\\nBEING THE T...   \n",
       "\n",
       "                                            filename  \n",
       "0  tolkien/Hobbit, The - J. R. R. Tolkien - 1960.txt  \n",
       "1  tolkien/Lord of the Rings - 01 - The Fellowshi...  \n",
       "2  tolkien/Lord of the Rings - 02 - The Two Tower...  \n",
       "3  tolkien/Lord of the Rings - 03 - The Return of...  "
      ]
     },
     "execution_count": 8,
     "metadata": {},
     "output_type": "execute_result"
    }
   ],
   "source": [
    "tolkien_df = pd.DataFrame({\n",
    "    'filename': filenames,\n",
    "    'body': contents,\n",
    "    'author': 'JRR Tolkien'\n",
    "})\n",
    "tolkien_df.head()"
   ]
  },
  {
   "cell_type": "code",
   "execution_count": 9,
   "metadata": {},
   "outputs": [
    {
     "data": {
      "text/html": [
       "<div>\n",
       "<style>\n",
       "    .dataframe thead tr:only-child th {\n",
       "        text-align: right;\n",
       "    }\n",
       "\n",
       "    .dataframe thead th {\n",
       "        text-align: left;\n",
       "    }\n",
       "\n",
       "    .dataframe tbody tr th {\n",
       "        vertical-align: top;\n",
       "    }\n",
       "</style>\n",
       "<table border=\"1\" class=\"dataframe\">\n",
       "  <thead>\n",
       "    <tr style=\"text-align: right;\">\n",
       "      <th></th>\n",
       "      <th>author</th>\n",
       "      <th>body</th>\n",
       "      <th>filename</th>\n",
       "    </tr>\n",
       "  </thead>\n",
       "  <tbody>\n",
       "    <tr>\n",
       "      <th>0</th>\n",
       "      <td>Jane Austen</td>\n",
       "      <td>The Project Gutenberg EBook of Emma, by Jane A...</td>\n",
       "      <td>austen/emma - 1815.txt</td>\n",
       "    </tr>\n",
       "    <tr>\n",
       "      <th>1</th>\n",
       "      <td>Jane Austen</td>\n",
       "      <td>The Project Gutenberg EBook of Mansfield Park,...</td>\n",
       "      <td>austen/mansfield_park - 1814.txt</td>\n",
       "    </tr>\n",
       "    <tr>\n",
       "      <th>2</th>\n",
       "      <td>Jane Austen</td>\n",
       "      <td>The Project Gutenberg EBook of Northanger Abbe...</td>\n",
       "      <td>austen/northanger_abbey - 1817.txt</td>\n",
       "    </tr>\n",
       "    <tr>\n",
       "      <th>3</th>\n",
       "      <td>Jane Austen</td>\n",
       "      <td>The Project Gutenberg EBook of Persuasion, by ...</td>\n",
       "      <td>austen/persuasion - 1817.txt</td>\n",
       "    </tr>\n",
       "    <tr>\n",
       "      <th>4</th>\n",
       "      <td>Jane Austen</td>\n",
       "      <td>The Project Gutenberg EBook of Pride and Preju...</td>\n",
       "      <td>austen/pride-and-prejudice - 1813.txt</td>\n",
       "    </tr>\n",
       "  </tbody>\n",
       "</table>\n",
       "</div>"
      ],
      "text/plain": [
       "        author                                               body  \\\n",
       "0  Jane Austen  The Project Gutenberg EBook of Emma, by Jane A...   \n",
       "1  Jane Austen  The Project Gutenberg EBook of Mansfield Park,...   \n",
       "2  Jane Austen  The Project Gutenberg EBook of Northanger Abbe...   \n",
       "3  Jane Austen  The Project Gutenberg EBook of Persuasion, by ...   \n",
       "4  Jane Austen  The Project Gutenberg EBook of Pride and Preju...   \n",
       "\n",
       "                                filename  \n",
       "0                 austen/emma - 1815.txt  \n",
       "1       austen/mansfield_park - 1814.txt  \n",
       "2     austen/northanger_abbey - 1817.txt  \n",
       "3           austen/persuasion - 1817.txt  \n",
       "4  austen/pride-and-prejudice - 1813.txt  "
      ]
     },
     "execution_count": 9,
     "metadata": {},
     "output_type": "execute_result"
    }
   ],
   "source": [
    "# Get a list of all of the files inside of austen/\n",
    "filenames = glob.glob(\"austen/*.txt\")\n",
    "# Read in each of those files, save the results\n",
    "contents = [open(file).read() for file in filenames]\n",
    "# And use all of that to build a dataframe\n",
    "austen_df = pd.DataFrame({\n",
    "    'filename': filenames,\n",
    "    'body': contents,\n",
    "    'author': \"Jane Austen\"\n",
    "})\n",
    "austen_df.head()"
   ]
  },
  {
   "cell_type": "markdown",
   "metadata": {},
   "source": [
    "## Now let's combine them!"
   ]
  },
  {
   "cell_type": "code",
   "execution_count": 10,
   "metadata": {},
   "outputs": [
    {
     "data": {
      "text/html": [
       "<div>\n",
       "<style>\n",
       "    .dataframe thead tr:only-child th {\n",
       "        text-align: right;\n",
       "    }\n",
       "\n",
       "    .dataframe thead th {\n",
       "        text-align: left;\n",
       "    }\n",
       "\n",
       "    .dataframe tbody tr th {\n",
       "        vertical-align: top;\n",
       "    }\n",
       "</style>\n",
       "<table border=\"1\" class=\"dataframe\">\n",
       "  <thead>\n",
       "    <tr style=\"text-align: right;\">\n",
       "      <th></th>\n",
       "      <th>author</th>\n",
       "      <th>body</th>\n",
       "      <th>filename</th>\n",
       "    </tr>\n",
       "  </thead>\n",
       "  <tbody>\n",
       "    <tr>\n",
       "      <th>0</th>\n",
       "      <td>JRR Tolkien</td>\n",
       "      <td>THE HOBBIT\\n\\nOR\\n\\nTHERE AND BACK AGAIN\\n\\nBY...</td>\n",
       "      <td>tolkien/Hobbit, The - J. R. R. Tolkien - 1960.txt</td>\n",
       "    </tr>\n",
       "    <tr>\n",
       "      <th>1</th>\n",
       "      <td>JRR Tolkien</td>\n",
       "      <td>THE FELLOWSHIP OF THE RING\\n\\n\\n\\n\\nBEING THE ...</td>\n",
       "      <td>tolkien/Lord of the Rings - 01 - The Fellowshi...</td>\n",
       "    </tr>\n",
       "    <tr>\n",
       "      <th>2</th>\n",
       "      <td>JRR Tolkien</td>\n",
       "      <td>THE TWO TOWERS\\n\\n\\nBEING THE SECOND PART OF\\n...</td>\n",
       "      <td>tolkien/Lord of the Rings - 02 - The Two Tower...</td>\n",
       "    </tr>\n",
       "    <tr>\n",
       "      <th>3</th>\n",
       "      <td>JRR Tolkien</td>\n",
       "      <td>THE RETURN\\n\\nOF THE KING\\n\\n\\n\\n\\nBEING THE T...</td>\n",
       "      <td>tolkien/Lord of the Rings - 03 - The Return of...</td>\n",
       "    </tr>\n",
       "    <tr>\n",
       "      <th>4</th>\n",
       "      <td>Jane Austen</td>\n",
       "      <td>The Project Gutenberg EBook of Emma, by Jane A...</td>\n",
       "      <td>austen/emma - 1815.txt</td>\n",
       "    </tr>\n",
       "    <tr>\n",
       "      <th>5</th>\n",
       "      <td>Jane Austen</td>\n",
       "      <td>The Project Gutenberg EBook of Mansfield Park,...</td>\n",
       "      <td>austen/mansfield_park - 1814.txt</td>\n",
       "    </tr>\n",
       "    <tr>\n",
       "      <th>6</th>\n",
       "      <td>Jane Austen</td>\n",
       "      <td>The Project Gutenberg EBook of Northanger Abbe...</td>\n",
       "      <td>austen/northanger_abbey - 1817.txt</td>\n",
       "    </tr>\n",
       "    <tr>\n",
       "      <th>7</th>\n",
       "      <td>Jane Austen</td>\n",
       "      <td>The Project Gutenberg EBook of Persuasion, by ...</td>\n",
       "      <td>austen/persuasion - 1817.txt</td>\n",
       "    </tr>\n",
       "    <tr>\n",
       "      <th>8</th>\n",
       "      <td>Jane Austen</td>\n",
       "      <td>The Project Gutenberg EBook of Pride and Preju...</td>\n",
       "      <td>austen/pride-and-prejudice - 1813.txt</td>\n",
       "    </tr>\n",
       "    <tr>\n",
       "      <th>9</th>\n",
       "      <td>Jane Austen</td>\n",
       "      <td>The Project Gutenberg EBook of Sense and Sensi...</td>\n",
       "      <td>austen/sense-and-sensibility - 1811.txt</td>\n",
       "    </tr>\n",
       "  </tbody>\n",
       "</table>\n",
       "</div>"
      ],
      "text/plain": [
       "        author                                               body  \\\n",
       "0  JRR Tolkien  THE HOBBIT\\n\\nOR\\n\\nTHERE AND BACK AGAIN\\n\\nBY...   \n",
       "1  JRR Tolkien  THE FELLOWSHIP OF THE RING\\n\\n\\n\\n\\nBEING THE ...   \n",
       "2  JRR Tolkien  THE TWO TOWERS\\n\\n\\nBEING THE SECOND PART OF\\n...   \n",
       "3  JRR Tolkien  THE RETURN\\n\\nOF THE KING\\n\\n\\n\\n\\nBEING THE T...   \n",
       "4  Jane Austen  The Project Gutenberg EBook of Emma, by Jane A...   \n",
       "5  Jane Austen  The Project Gutenberg EBook of Mansfield Park,...   \n",
       "6  Jane Austen  The Project Gutenberg EBook of Northanger Abbe...   \n",
       "7  Jane Austen  The Project Gutenberg EBook of Persuasion, by ...   \n",
       "8  Jane Austen  The Project Gutenberg EBook of Pride and Preju...   \n",
       "9  Jane Austen  The Project Gutenberg EBook of Sense and Sensi...   \n",
       "\n",
       "                                            filename  \n",
       "0  tolkien/Hobbit, The - J. R. R. Tolkien - 1960.txt  \n",
       "1  tolkien/Lord of the Rings - 01 - The Fellowshi...  \n",
       "2  tolkien/Lord of the Rings - 02 - The Two Tower...  \n",
       "3  tolkien/Lord of the Rings - 03 - The Return of...  \n",
       "4                             austen/emma - 1815.txt  \n",
       "5                   austen/mansfield_park - 1814.txt  \n",
       "6                 austen/northanger_abbey - 1817.txt  \n",
       "7                       austen/persuasion - 1817.txt  \n",
       "8              austen/pride-and-prejudice - 1813.txt  \n",
       "9            austen/sense-and-sensibility - 1811.txt  "
      ]
     },
     "execution_count": 10,
     "metadata": {},
     "output_type": "execute_result"
    }
   ],
   "source": [
    "df = pd.concat([tolkien_df, austen_df], ignore_index=True)\n",
    "df"
   ]
  },
  {
   "cell_type": "markdown",
   "metadata": {},
   "source": [
    "# Counting words\n",
    "\n",
    "What words are we interested in? Right now just **he** and **she**."
   ]
  },
  {
   "cell_type": "code",
   "execution_count": 11,
   "metadata": {},
   "outputs": [
    {
     "data": {
      "text/plain": [
       "0    THE HOBBIT\\n\\nOR\\n\\nTHERE AND BACK AGAIN\\n\\nBY...\n",
       "1    THE FELLOWSHIP OF THE RING\\n\\n\\n\\n\\nBEING THE ...\n",
       "2    THE TWO TOWERS\\n\\n\\nBEING THE SECOND PART OF\\n...\n",
       "3    THE RETURN\\n\\nOF THE KING\\n\\n\\n\\n\\nBEING THE T...\n",
       "4    The Project Gutenberg EBook of Emma, by Jane A...\n",
       "5    The Project Gutenberg EBook of Mansfield Park,...\n",
       "6    The Project Gutenberg EBook of Northanger Abbe...\n",
       "7    The Project Gutenberg EBook of Persuasion, by ...\n",
       "8    The Project Gutenberg EBook of Pride and Preju...\n",
       "9    The Project Gutenberg EBook of Sense and Sensi...\n",
       "Name: body, dtype: object"
      ]
     },
     "execution_count": 11,
     "metadata": {},
     "output_type": "execute_result"
    }
   ],
   "source": [
    "df['body']"
   ]
  },
  {
   "cell_type": "code",
   "execution_count": 12,
   "metadata": {},
   "outputs": [
    {
     "data": {
      "text/plain": [
       "<10x2 sparse matrix of type '<class 'numpy.float64'>'\n",
       "\twith 20 stored elements in Compressed Sparse Row format>"
      ]
     },
     "execution_count": 12,
     "metadata": {},
     "output_type": "execute_result"
    }
   ],
   "source": [
    "from sklearn.feature_extraction.text import TfidfVectorizer\n",
    "\n",
    "vectorizer = TfidfVectorizer(vocabulary=['he', 'she'], \n",
    "                             use_idf=False, \n",
    "                             norm='l1') # ELL - ONE\n",
    "matrix = vectorizer.fit_transform(df['body'])\n",
    "matrix"
   ]
  },
  {
   "cell_type": "code",
   "execution_count": 13,
   "metadata": {},
   "outputs": [
    {
     "data": {
      "text/plain": [
       "array([[  9.99479167e-01,   5.20833333e-04],\n",
       "       [  9.50636448e-01,   4.93635517e-02],\n",
       "       [  9.63263864e-01,   3.67361356e-02],\n",
       "       [  9.19724051e-01,   8.02759486e-02],\n",
       "       [  4.36008677e-01,   5.63991323e-01],\n",
       "       [  4.07700422e-01,   5.92299578e-01],\n",
       "       [  3.32725061e-01,   6.67274939e-01],\n",
       "       [  4.56872038e-01,   5.43127962e-01],\n",
       "       [  4.39113170e-01,   5.60886830e-01],\n",
       "       [  4.09373856e-01,   5.90626144e-01]])"
      ]
     },
     "execution_count": 13,
     "metadata": {},
     "output_type": "execute_result"
    }
   ],
   "source": [
    "matrix.toarray()"
   ]
  },
  {
   "cell_type": "markdown",
   "metadata": {},
   "source": [
    "When we do this analysis, giving in a `vocabulary=`, we're getting back **a percentage of usage.** \n",
    "\n",
    "* if a book uses \"he\" once and \"she\" once, it's going to be 0.5 and 0.5\n",
    "* if a book uses \"he\" a hundred times and \"she\" a hundred times, it's still going to be 0.5 and 0.5.\n",
    "* if a book is ten million pages long and only uses the word 'he' once and the word 'she' none at all, it's going to be 1.0\n",
    "\n",
    "You need to think, do you care about the proportion relative to the other words?"
   ]
  },
  {
   "cell_type": "code",
   "execution_count": 14,
   "metadata": {},
   "outputs": [
    {
     "data": {
      "text/html": [
       "<div>\n",
       "<style>\n",
       "    .dataframe thead tr:only-child th {\n",
       "        text-align: right;\n",
       "    }\n",
       "\n",
       "    .dataframe thead th {\n",
       "        text-align: left;\n",
       "    }\n",
       "\n",
       "    .dataframe tbody tr th {\n",
       "        vertical-align: top;\n",
       "    }\n",
       "</style>\n",
       "<table border=\"1\" class=\"dataframe\">\n",
       "  <thead>\n",
       "    <tr style=\"text-align: right;\">\n",
       "      <th></th>\n",
       "      <th>he</th>\n",
       "      <th>she</th>\n",
       "    </tr>\n",
       "  </thead>\n",
       "  <tbody>\n",
       "    <tr>\n",
       "      <th>0</th>\n",
       "      <td>0.999479</td>\n",
       "      <td>0.000521</td>\n",
       "    </tr>\n",
       "    <tr>\n",
       "      <th>1</th>\n",
       "      <td>0.950636</td>\n",
       "      <td>0.049364</td>\n",
       "    </tr>\n",
       "    <tr>\n",
       "      <th>2</th>\n",
       "      <td>0.963264</td>\n",
       "      <td>0.036736</td>\n",
       "    </tr>\n",
       "    <tr>\n",
       "      <th>3</th>\n",
       "      <td>0.919724</td>\n",
       "      <td>0.080276</td>\n",
       "    </tr>\n",
       "    <tr>\n",
       "      <th>4</th>\n",
       "      <td>0.436009</td>\n",
       "      <td>0.563991</td>\n",
       "    </tr>\n",
       "    <tr>\n",
       "      <th>5</th>\n",
       "      <td>0.407700</td>\n",
       "      <td>0.592300</td>\n",
       "    </tr>\n",
       "    <tr>\n",
       "      <th>6</th>\n",
       "      <td>0.332725</td>\n",
       "      <td>0.667275</td>\n",
       "    </tr>\n",
       "    <tr>\n",
       "      <th>7</th>\n",
       "      <td>0.456872</td>\n",
       "      <td>0.543128</td>\n",
       "    </tr>\n",
       "    <tr>\n",
       "      <th>8</th>\n",
       "      <td>0.439113</td>\n",
       "      <td>0.560887</td>\n",
       "    </tr>\n",
       "    <tr>\n",
       "      <th>9</th>\n",
       "      <td>0.409374</td>\n",
       "      <td>0.590626</td>\n",
       "    </tr>\n",
       "  </tbody>\n",
       "</table>\n",
       "</div>"
      ],
      "text/plain": [
       "         he       she\n",
       "0  0.999479  0.000521\n",
       "1  0.950636  0.049364\n",
       "2  0.963264  0.036736\n",
       "3  0.919724  0.080276\n",
       "4  0.436009  0.563991\n",
       "5  0.407700  0.592300\n",
       "6  0.332725  0.667275\n",
       "7  0.456872  0.543128\n",
       "8  0.439113  0.560887\n",
       "9  0.409374  0.590626"
      ]
     },
     "execution_count": 14,
     "metadata": {},
     "output_type": "execute_result"
    }
   ],
   "source": [
    "results = pd.DataFrame(matrix.toarray(), columns=vectorizer.get_feature_names())\n",
    "results"
   ]
  },
  {
   "cell_type": "markdown",
   "metadata": {},
   "source": [
    "# Store our original information back into the dataframe"
   ]
  },
  {
   "cell_type": "code",
   "execution_count": 15,
   "metadata": {},
   "outputs": [
    {
     "data": {
      "text/plain": [
       "0    JRR Tolkien\n",
       "1    JRR Tolkien\n",
       "2    JRR Tolkien\n",
       "3    JRR Tolkien\n",
       "4    Jane Austen\n",
       "5    Jane Austen\n",
       "6    Jane Austen\n",
       "7    Jane Austen\n",
       "8    Jane Austen\n",
       "9    Jane Austen\n",
       "Name: author, dtype: object"
      ]
     },
     "execution_count": 15,
     "metadata": {},
     "output_type": "execute_result"
    }
   ],
   "source": [
    "df['author']"
   ]
  },
  {
   "cell_type": "code",
   "execution_count": 16,
   "metadata": {},
   "outputs": [
    {
     "data": {
      "text/html": [
       "<div>\n",
       "<style>\n",
       "    .dataframe thead tr:only-child th {\n",
       "        text-align: right;\n",
       "    }\n",
       "\n",
       "    .dataframe thead th {\n",
       "        text-align: left;\n",
       "    }\n",
       "\n",
       "    .dataframe tbody tr th {\n",
       "        vertical-align: top;\n",
       "    }\n",
       "</style>\n",
       "<table border=\"1\" class=\"dataframe\">\n",
       "  <thead>\n",
       "    <tr style=\"text-align: right;\">\n",
       "      <th></th>\n",
       "      <th>he</th>\n",
       "      <th>she</th>\n",
       "      <th>author</th>\n",
       "      <th>filename</th>\n",
       "    </tr>\n",
       "  </thead>\n",
       "  <tbody>\n",
       "    <tr>\n",
       "      <th>0</th>\n",
       "      <td>0.999479</td>\n",
       "      <td>0.000521</td>\n",
       "      <td>JRR Tolkien</td>\n",
       "      <td>tolkien/Hobbit, The - J. R. R. Tolkien - 1960.txt</td>\n",
       "    </tr>\n",
       "    <tr>\n",
       "      <th>1</th>\n",
       "      <td>0.950636</td>\n",
       "      <td>0.049364</td>\n",
       "      <td>JRR Tolkien</td>\n",
       "      <td>tolkien/Lord of the Rings - 01 - The Fellowshi...</td>\n",
       "    </tr>\n",
       "    <tr>\n",
       "      <th>2</th>\n",
       "      <td>0.963264</td>\n",
       "      <td>0.036736</td>\n",
       "      <td>JRR Tolkien</td>\n",
       "      <td>tolkien/Lord of the Rings - 02 - The Two Tower...</td>\n",
       "    </tr>\n",
       "    <tr>\n",
       "      <th>3</th>\n",
       "      <td>0.919724</td>\n",
       "      <td>0.080276</td>\n",
       "      <td>JRR Tolkien</td>\n",
       "      <td>tolkien/Lord of the Rings - 03 - The Return of...</td>\n",
       "    </tr>\n",
       "    <tr>\n",
       "      <th>4</th>\n",
       "      <td>0.436009</td>\n",
       "      <td>0.563991</td>\n",
       "      <td>Jane Austen</td>\n",
       "      <td>austen/emma - 1815.txt</td>\n",
       "    </tr>\n",
       "    <tr>\n",
       "      <th>5</th>\n",
       "      <td>0.407700</td>\n",
       "      <td>0.592300</td>\n",
       "      <td>Jane Austen</td>\n",
       "      <td>austen/mansfield_park - 1814.txt</td>\n",
       "    </tr>\n",
       "    <tr>\n",
       "      <th>6</th>\n",
       "      <td>0.332725</td>\n",
       "      <td>0.667275</td>\n",
       "      <td>Jane Austen</td>\n",
       "      <td>austen/northanger_abbey - 1817.txt</td>\n",
       "    </tr>\n",
       "    <tr>\n",
       "      <th>7</th>\n",
       "      <td>0.456872</td>\n",
       "      <td>0.543128</td>\n",
       "      <td>Jane Austen</td>\n",
       "      <td>austen/persuasion - 1817.txt</td>\n",
       "    </tr>\n",
       "    <tr>\n",
       "      <th>8</th>\n",
       "      <td>0.439113</td>\n",
       "      <td>0.560887</td>\n",
       "      <td>Jane Austen</td>\n",
       "      <td>austen/pride-and-prejudice - 1813.txt</td>\n",
       "    </tr>\n",
       "    <tr>\n",
       "      <th>9</th>\n",
       "      <td>0.409374</td>\n",
       "      <td>0.590626</td>\n",
       "      <td>Jane Austen</td>\n",
       "      <td>austen/sense-and-sensibility - 1811.txt</td>\n",
       "    </tr>\n",
       "  </tbody>\n",
       "</table>\n",
       "</div>"
      ],
      "text/plain": [
       "         he       she       author  \\\n",
       "0  0.999479  0.000521  JRR Tolkien   \n",
       "1  0.950636  0.049364  JRR Tolkien   \n",
       "2  0.963264  0.036736  JRR Tolkien   \n",
       "3  0.919724  0.080276  JRR Tolkien   \n",
       "4  0.436009  0.563991  Jane Austen   \n",
       "5  0.407700  0.592300  Jane Austen   \n",
       "6  0.332725  0.667275  Jane Austen   \n",
       "7  0.456872  0.543128  Jane Austen   \n",
       "8  0.439113  0.560887  Jane Austen   \n",
       "9  0.409374  0.590626  Jane Austen   \n",
       "\n",
       "                                            filename  \n",
       "0  tolkien/Hobbit, The - J. R. R. Tolkien - 1960.txt  \n",
       "1  tolkien/Lord of the Rings - 01 - The Fellowshi...  \n",
       "2  tolkien/Lord of the Rings - 02 - The Two Tower...  \n",
       "3  tolkien/Lord of the Rings - 03 - The Return of...  \n",
       "4                             austen/emma - 1815.txt  \n",
       "5                   austen/mansfield_park - 1814.txt  \n",
       "6                 austen/northanger_abbey - 1817.txt  \n",
       "7                       austen/persuasion - 1817.txt  \n",
       "8              austen/pride-and-prejudice - 1813.txt  \n",
       "9            austen/sense-and-sensibility - 1811.txt  "
      ]
     },
     "execution_count": 16,
     "metadata": {},
     "output_type": "execute_result"
    }
   ],
   "source": [
    "# If you get an error here, you forgot ignore_index\n",
    "# when doing pd.concat\n",
    "results['author'] = df['author']\n",
    "results['filename'] = df['filename']\n",
    "results"
   ]
  },
  {
   "cell_type": "code",
   "execution_count": 17,
   "metadata": {
    "collapsed": true
   },
   "outputs": [],
   "source": [
    "colormap = {\n",
    "    'Jane Austen': '#66c2a5',\n",
    "    'JRR Tolkien': '#fc8d62'\n",
    "}"
   ]
  },
  {
   "cell_type": "code",
   "execution_count": 18,
   "metadata": {},
   "outputs": [
    {
     "data": {
      "text/plain": [
       "'#66c2a5'"
      ]
     },
     "execution_count": 18,
     "metadata": {},
     "output_type": "execute_result"
    }
   ],
   "source": [
    "colormap['Jane Austen']"
   ]
  },
  {
   "cell_type": "code",
   "execution_count": 19,
   "metadata": {},
   "outputs": [
    {
     "data": {
      "text/plain": [
       "'#fc8d62'"
      ]
     },
     "execution_count": 19,
     "metadata": {},
     "output_type": "execute_result"
    }
   ],
   "source": [
    "colormap['JRR Tolkien']"
   ]
  },
  {
   "cell_type": "code",
   "execution_count": 20,
   "metadata": {},
   "outputs": [
    {
     "data": {
      "text/plain": [
       "0    JRR Tolkien\n",
       "1    JRR Tolkien\n",
       "2    JRR Tolkien\n",
       "3    JRR Tolkien\n",
       "4    Jane Austen\n",
       "5    Jane Austen\n",
       "6    Jane Austen\n",
       "7    Jane Austen\n",
       "8    Jane Austen\n",
       "9    Jane Austen\n",
       "Name: author, dtype: object"
      ]
     },
     "execution_count": 20,
     "metadata": {},
     "output_type": "execute_result"
    }
   ],
   "source": [
    "df.author"
   ]
  },
  {
   "cell_type": "code",
   "execution_count": 21,
   "metadata": {},
   "outputs": [
    {
     "data": {
      "text/plain": [
       "0    #fc8d62\n",
       "1    #fc8d62\n",
       "2    #fc8d62\n",
       "3    #fc8d62\n",
       "4    #66c2a5\n",
       "5    #66c2a5\n",
       "6    #66c2a5\n",
       "7    #66c2a5\n",
       "8    #66c2a5\n",
       "9    #66c2a5\n",
       "Name: author, dtype: object"
      ]
     },
     "execution_count": 21,
     "metadata": {},
     "output_type": "execute_result"
    }
   ],
   "source": [
    "colormap = {\n",
    "    'Jane Austen': '#66c2a5',\n",
    "    'JRR Tolkien': '#fc8d62'\n",
    "}\n",
    "\n",
    "# STEP TWO: Use .apply to convert it into a list of colors\n",
    "# df.author = get the author column\n",
    "# .apply = do something to each row\n",
    "# colormap[authorname] = get the value from the dictionary we just made\n",
    "colors = df.author.apply(lambda authorname: colormap[authorname])\n",
    "colors"
   ]
  },
  {
   "cell_type": "code",
   "execution_count": 32,
   "metadata": {},
   "outputs": [
    {
     "data": {
      "text/plain": [
       "<matplotlib.text.Text at 0x110855dd8>"
      ]
     },
     "execution_count": 32,
     "metadata": {},
     "output_type": "execute_result"
    },
    {
     "data": {
      "image/png": "[encoded data removed]",
      "text/plain": [
       "<matplotlib.figure.Figure at 0x110b32cc0>"
      ]
     },
     "metadata": {},
     "output_type": "display_data"
    }
   ],
   "source": [
    "import matplotlib.pyplot as plt\n",
    "\n",
    "# STEP ONE: Make a dictionary with column values\n",
    "# as keys, and then the color as the value\n",
    "colormap = {\n",
    "    'Jane Austen': '#66c2a5',\n",
    "    'JRR Tolkien': '#fc8d62'\n",
    "}\n",
    "\n",
    "# STEP TWO: Use .apply to convert it into a list of colors\n",
    "colors = df.author.apply(lambda authorname: colormap[authorname])\n",
    "\n",
    "# df.author = give me just the author column\n",
    "# .apply = do something for every single row\n",
    "# colormap\n",
    "\n",
    "\n",
    "ax = results.plot(y='she', kind='barh', x='filename', color=[colors], legend=False)\n",
    "ax.set_title(\"JRR Tolkien is a man's man\")"
   ]
  },
  {
   "cell_type": "markdown",
   "metadata": {},
   "source": [
    "# Trying it again\n",
    "\n",
    "This time we're going to **count all of the other words, too.** Then we'll pull out 'he' and 'she' specifically."
   ]
  },
  {
   "cell_type": "code",
   "execution_count": 22,
   "metadata": {},
   "outputs": [
    {
     "data": {
      "text/plain": [
       "<10x24446 sparse matrix of type '<class 'numpy.float64'>'\n",
       "\twith 76411 stored elements in Compressed Sparse Row format>"
      ]
     },
     "execution_count": 22,
     "metadata": {},
     "output_type": "execute_result"
    }
   ],
   "source": [
    "from sklearn.feature_extraction.text import TfidfVectorizer\n",
    "\n",
    "vectorizer = TfidfVectorizer(use_idf=False, norm='l1')\n",
    "matrix = vectorizer.fit_transform(df['body'])\n",
    "matrix"
   ]
  },
  {
   "cell_type": "markdown",
   "metadata": {},
   "source": [
    "### Have ALL of the words available"
   ]
  },
  {
   "cell_type": "code",
   "execution_count": 23,
   "metadata": {},
   "outputs": [
    {
     "data": {
      "text/html": [
       "<div>\n",
       "<style>\n",
       "    .dataframe thead tr:only-child th {\n",
       "        text-align: right;\n",
       "    }\n",
       "\n",
       "    .dataframe thead th {\n",
       "        text-align: left;\n",
       "    }\n",
       "\n",
       "    .dataframe tbody tr th {\n",
       "        vertical-align: top;\n",
       "    }\n",
       "</style>\n",
       "<table border=\"1\" class=\"dataframe\">\n",
       "  <thead>\n",
       "    <tr style=\"text-align: right;\">\n",
       "      <th></th>\n",
       "      <th>000</th>\n",
       "      <th>007</th>\n",
       "      <th>05</th>\n",
       "      <th>10</th>\n",
       "      <th>100</th>\n",
       "      <th>1000</th>\n",
       "      <th>1001</th>\n",
       "      <th>1002</th>\n",
       "      <th>10022</th>\n",
       "      <th>1003</th>\n",
       "      <th>...</th>\n",
       "      <th>óinand</th>\n",
       "      <th>óinto</th>\n",
       "      <th>ómaryo</th>\n",
       "      <th>ónen</th>\n",
       "      <th>óre</th>\n",
       "      <th>únótime</th>\n",
       "      <th>únótimë</th>\n",
       "      <th>úre</th>\n",
       "      <th>úrimë</th>\n",
       "      <th>úrui</th>\n",
       "    </tr>\n",
       "  </thead>\n",
       "  <tbody>\n",
       "    <tr>\n",
       "      <th>0</th>\n",
       "      <td>0.000000</td>\n",
       "      <td>0.000011</td>\n",
       "      <td>0.00000</td>\n",
       "      <td>0.000021</td>\n",
       "      <td>0.000000</td>\n",
       "      <td>0.000000</td>\n",
       "      <td>0.000000</td>\n",
       "      <td>0.000000</td>\n",
       "      <td>0.000011</td>\n",
       "      <td>0.000000</td>\n",
       "      <td>...</td>\n",
       "      <td>0.000000</td>\n",
       "      <td>0.000000</td>\n",
       "      <td>0.000000</td>\n",
       "      <td>0.00000</td>\n",
       "      <td>0.000000</td>\n",
       "      <td>0.000000</td>\n",
       "      <td>0.000000</td>\n",
       "      <td>0.000000</td>\n",
       "      <td>0.000000</td>\n",
       "      <td>0.000000</td>\n",
       "    </tr>\n",
       "    <tr>\n",
       "      <th>1</th>\n",
       "      <td>0.000000</td>\n",
       "      <td>0.000005</td>\n",
       "      <td>0.00000</td>\n",
       "      <td>0.000027</td>\n",
       "      <td>0.000000</td>\n",
       "      <td>0.000000</td>\n",
       "      <td>0.000000</td>\n",
       "      <td>0.000000</td>\n",
       "      <td>0.000005</td>\n",
       "      <td>0.000000</td>\n",
       "      <td>...</td>\n",
       "      <td>0.000005</td>\n",
       "      <td>0.000005</td>\n",
       "      <td>0.000005</td>\n",
       "      <td>0.00000</td>\n",
       "      <td>0.000000</td>\n",
       "      <td>0.000000</td>\n",
       "      <td>0.000005</td>\n",
       "      <td>0.000000</td>\n",
       "      <td>0.000000</td>\n",
       "      <td>0.000000</td>\n",
       "    </tr>\n",
       "    <tr>\n",
       "      <th>2</th>\n",
       "      <td>0.000000</td>\n",
       "      <td>0.000007</td>\n",
       "      <td>0.00000</td>\n",
       "      <td>0.000033</td>\n",
       "      <td>0.000000</td>\n",
       "      <td>0.000000</td>\n",
       "      <td>0.000000</td>\n",
       "      <td>0.000000</td>\n",
       "      <td>0.000007</td>\n",
       "      <td>0.000000</td>\n",
       "      <td>...</td>\n",
       "      <td>0.000000</td>\n",
       "      <td>0.000000</td>\n",
       "      <td>0.000000</td>\n",
       "      <td>0.00000</td>\n",
       "      <td>0.000000</td>\n",
       "      <td>0.000000</td>\n",
       "      <td>0.000000</td>\n",
       "      <td>0.000000</td>\n",
       "      <td>0.000000</td>\n",
       "      <td>0.000000</td>\n",
       "    </tr>\n",
       "    <tr>\n",
       "      <th>3</th>\n",
       "      <td>0.000000</td>\n",
       "      <td>0.000005</td>\n",
       "      <td>0.00001</td>\n",
       "      <td>0.000131</td>\n",
       "      <td>0.000034</td>\n",
       "      <td>0.000048</td>\n",
       "      <td>0.000078</td>\n",
       "      <td>0.000058</td>\n",
       "      <td>0.000005</td>\n",
       "      <td>0.000019</td>\n",
       "      <td>...</td>\n",
       "      <td>0.000000</td>\n",
       "      <td>0.000000</td>\n",
       "      <td>0.000000</td>\n",
       "      <td>0.00001</td>\n",
       "      <td>0.000005</td>\n",
       "      <td>0.000005</td>\n",
       "      <td>0.000000</td>\n",
       "      <td>0.000005</td>\n",
       "      <td>0.000005</td>\n",
       "      <td>0.000005</td>\n",
       "    </tr>\n",
       "    <tr>\n",
       "      <th>4</th>\n",
       "      <td>0.000019</td>\n",
       "      <td>0.000000</td>\n",
       "      <td>0.00000</td>\n",
       "      <td>0.000013</td>\n",
       "      <td>0.000000</td>\n",
       "      <td>0.000000</td>\n",
       "      <td>0.000000</td>\n",
       "      <td>0.000000</td>\n",
       "      <td>0.000000</td>\n",
       "      <td>0.000000</td>\n",
       "      <td>...</td>\n",
       "      <td>0.000000</td>\n",
       "      <td>0.000000</td>\n",
       "      <td>0.000000</td>\n",
       "      <td>0.00000</td>\n",
       "      <td>0.000000</td>\n",
       "      <td>0.000000</td>\n",
       "      <td>0.000000</td>\n",
       "      <td>0.000000</td>\n",
       "      <td>0.000000</td>\n",
       "      <td>0.000000</td>\n",
       "    </tr>\n",
       "    <tr>\n",
       "      <th>5</th>\n",
       "      <td>0.000013</td>\n",
       "      <td>0.000000</td>\n",
       "      <td>0.00000</td>\n",
       "      <td>0.000019</td>\n",
       "      <td>0.000000</td>\n",
       "      <td>0.000000</td>\n",
       "      <td>0.000000</td>\n",
       "      <td>0.000000</td>\n",
       "      <td>0.000000</td>\n",
       "      <td>0.000000</td>\n",
       "      <td>...</td>\n",
       "      <td>0.000000</td>\n",
       "      <td>0.000000</td>\n",
       "      <td>0.000000</td>\n",
       "      <td>0.00000</td>\n",
       "      <td>0.000000</td>\n",
       "      <td>0.000000</td>\n",
       "      <td>0.000000</td>\n",
       "      <td>0.000000</td>\n",
       "      <td>0.000000</td>\n",
       "      <td>0.000000</td>\n",
       "    </tr>\n",
       "    <tr>\n",
       "      <th>6</th>\n",
       "      <td>0.000013</td>\n",
       "      <td>0.000000</td>\n",
       "      <td>0.00000</td>\n",
       "      <td>0.000013</td>\n",
       "      <td>0.000000</td>\n",
       "      <td>0.000000</td>\n",
       "      <td>0.000000</td>\n",
       "      <td>0.000000</td>\n",
       "      <td>0.000000</td>\n",
       "      <td>0.000000</td>\n",
       "      <td>...</td>\n",
       "      <td>0.000000</td>\n",
       "      <td>0.000000</td>\n",
       "      <td>0.000000</td>\n",
       "      <td>0.00000</td>\n",
       "      <td>0.000000</td>\n",
       "      <td>0.000000</td>\n",
       "      <td>0.000000</td>\n",
       "      <td>0.000000</td>\n",
       "      <td>0.000000</td>\n",
       "      <td>0.000000</td>\n",
       "    </tr>\n",
       "    <tr>\n",
       "      <th>7</th>\n",
       "      <td>0.000012</td>\n",
       "      <td>0.000000</td>\n",
       "      <td>0.00000</td>\n",
       "      <td>0.000012</td>\n",
       "      <td>0.000000</td>\n",
       "      <td>0.000000</td>\n",
       "      <td>0.000000</td>\n",
       "      <td>0.000000</td>\n",
       "      <td>0.000000</td>\n",
       "      <td>0.000000</td>\n",
       "      <td>...</td>\n",
       "      <td>0.000000</td>\n",
       "      <td>0.000000</td>\n",
       "      <td>0.000000</td>\n",
       "      <td>0.00000</td>\n",
       "      <td>0.000000</td>\n",
       "      <td>0.000000</td>\n",
       "      <td>0.000000</td>\n",
       "      <td>0.000000</td>\n",
       "      <td>0.000000</td>\n",
       "      <td>0.000000</td>\n",
       "    </tr>\n",
       "    <tr>\n",
       "      <th>8</th>\n",
       "      <td>0.000008</td>\n",
       "      <td>0.000000</td>\n",
       "      <td>0.00000</td>\n",
       "      <td>0.000008</td>\n",
       "      <td>0.000000</td>\n",
       "      <td>0.000000</td>\n",
       "      <td>0.000000</td>\n",
       "      <td>0.000000</td>\n",
       "      <td>0.000000</td>\n",
       "      <td>0.000000</td>\n",
       "      <td>...</td>\n",
       "      <td>0.000000</td>\n",
       "      <td>0.000000</td>\n",
       "      <td>0.000000</td>\n",
       "      <td>0.00000</td>\n",
       "      <td>0.000000</td>\n",
       "      <td>0.000000</td>\n",
       "      <td>0.000000</td>\n",
       "      <td>0.000000</td>\n",
       "      <td>0.000000</td>\n",
       "      <td>0.000000</td>\n",
       "    </tr>\n",
       "    <tr>\n",
       "      <th>9</th>\n",
       "      <td>0.000008</td>\n",
       "      <td>0.000000</td>\n",
       "      <td>0.00000</td>\n",
       "      <td>0.000008</td>\n",
       "      <td>0.000000</td>\n",
       "      <td>0.000000</td>\n",
       "      <td>0.000000</td>\n",
       "      <td>0.000000</td>\n",
       "      <td>0.000000</td>\n",
       "      <td>0.000000</td>\n",
       "      <td>...</td>\n",
       "      <td>0.000000</td>\n",
       "      <td>0.000000</td>\n",
       "      <td>0.000000</td>\n",
       "      <td>0.00000</td>\n",
       "      <td>0.000000</td>\n",
       "      <td>0.000000</td>\n",
       "      <td>0.000000</td>\n",
       "      <td>0.000000</td>\n",
       "      <td>0.000000</td>\n",
       "      <td>0.000000</td>\n",
       "    </tr>\n",
       "  </tbody>\n",
       "</table>\n",
       "<p>10 rows × 24446 columns</p>\n",
       "</div>"
      ],
      "text/plain": [
       "        000       007       05        10       100      1000      1001  \\\n",
       "0  0.000000  0.000011  0.00000  0.000021  0.000000  0.000000  0.000000   \n",
       "1  0.000000  0.000005  0.00000  0.000027  0.000000  0.000000  0.000000   \n",
       "2  0.000000  0.000007  0.00000  0.000033  0.000000  0.000000  0.000000   \n",
       "3  0.000000  0.000005  0.00001  0.000131  0.000034  0.000048  0.000078   \n",
       "4  0.000019  0.000000  0.00000  0.000013  0.000000  0.000000  0.000000   \n",
       "5  0.000013  0.000000  0.00000  0.000019  0.000000  0.000000  0.000000   \n",
       "6  0.000013  0.000000  0.00000  0.000013  0.000000  0.000000  0.000000   \n",
       "7  0.000012  0.000000  0.00000  0.000012  0.000000  0.000000  0.000000   \n",
       "8  0.000008  0.000000  0.00000  0.000008  0.000000  0.000000  0.000000   \n",
       "9  0.000008  0.000000  0.00000  0.000008  0.000000  0.000000  0.000000   \n",
       "\n",
       "       1002     10022      1003    ...       óinand     óinto    ómaryo  \\\n",
       "0  0.000000  0.000011  0.000000    ...     0.000000  0.000000  0.000000   \n",
       "1  0.000000  0.000005  0.000000    ...     0.000005  0.000005  0.000005   \n",
       "2  0.000000  0.000007  0.000000    ...     0.000000  0.000000  0.000000   \n",
       "3  0.000058  0.000005  0.000019    ...     0.000000  0.000000  0.000000   \n",
       "4  0.000000  0.000000  0.000000    ...     0.000000  0.000000  0.000000   \n",
       "5  0.000000  0.000000  0.000000    ...     0.000000  0.000000  0.000000   \n",
       "6  0.000000  0.000000  0.000000    ...     0.000000  0.000000  0.000000   \n",
       "7  0.000000  0.000000  0.000000    ...     0.000000  0.000000  0.000000   \n",
       "8  0.000000  0.000000  0.000000    ...     0.000000  0.000000  0.000000   \n",
       "9  0.000000  0.000000  0.000000    ...     0.000000  0.000000  0.000000   \n",
       "\n",
       "      ónen       óre   únótime   únótimë       úre     úrimë      úrui  \n",
       "0  0.00000  0.000000  0.000000  0.000000  0.000000  0.000000  0.000000  \n",
       "1  0.00000  0.000000  0.000000  0.000005  0.000000  0.000000  0.000000  \n",
       "2  0.00000  0.000000  0.000000  0.000000  0.000000  0.000000  0.000000  \n",
       "3  0.00001  0.000005  0.000005  0.000000  0.000005  0.000005  0.000005  \n",
       "4  0.00000  0.000000  0.000000  0.000000  0.000000  0.000000  0.000000  \n",
       "5  0.00000  0.000000  0.000000  0.000000  0.000000  0.000000  0.000000  \n",
       "6  0.00000  0.000000  0.000000  0.000000  0.000000  0.000000  0.000000  \n",
       "7  0.00000  0.000000  0.000000  0.000000  0.000000  0.000000  0.000000  \n",
       "8  0.00000  0.000000  0.000000  0.000000  0.000000  0.000000  0.000000  \n",
       "9  0.00000  0.000000  0.000000  0.000000  0.000000  0.000000  0.000000  \n",
       "\n",
       "[10 rows x 24446 columns]"
      ]
     },
     "execution_count": 23,
     "metadata": {},
     "output_type": "execute_result"
    }
   ],
   "source": [
    "results = pd.DataFrame(matrix.toarray(), columns=vectorizer.get_feature_names())\n",
    "results"
   ]
  },
  {
   "cell_type": "markdown",
   "metadata": {},
   "source": [
    "### But then only pull out the ones we want"
   ]
  },
  {
   "cell_type": "code",
   "execution_count": 24,
   "metadata": {},
   "outputs": [
    {
     "data": {
      "text/html": [
       "<div>\n",
       "<style>\n",
       "    .dataframe thead tr:only-child th {\n",
       "        text-align: right;\n",
       "    }\n",
       "\n",
       "    .dataframe thead th {\n",
       "        text-align: left;\n",
       "    }\n",
       "\n",
       "    .dataframe tbody tr th {\n",
       "        vertical-align: top;\n",
       "    }\n",
       "</style>\n",
       "<table border=\"1\" class=\"dataframe\">\n",
       "  <thead>\n",
       "    <tr style=\"text-align: right;\">\n",
       "      <th></th>\n",
       "      <th>he</th>\n",
       "      <th>she</th>\n",
       "    </tr>\n",
       "  </thead>\n",
       "  <tbody>\n",
       "    <tr>\n",
       "      <th>0</th>\n",
       "      <td>0.020264</td>\n",
       "      <td>0.000011</td>\n",
       "    </tr>\n",
       "    <tr>\n",
       "      <th>1</th>\n",
       "      <td>0.016356</td>\n",
       "      <td>0.000849</td>\n",
       "    </tr>\n",
       "    <tr>\n",
       "      <th>2</th>\n",
       "      <td>0.017832</td>\n",
       "      <td>0.000680</td>\n",
       "    </tr>\n",
       "    <tr>\n",
       "      <th>3</th>\n",
       "      <td>0.014221</td>\n",
       "      <td>0.001241</td>\n",
       "    </tr>\n",
       "    <tr>\n",
       "      <th>4</th>\n",
       "      <td>0.011475</td>\n",
       "      <td>0.014843</td>\n",
       "    </tr>\n",
       "    <tr>\n",
       "      <th>5</th>\n",
       "      <td>0.009785</td>\n",
       "      <td>0.014215</td>\n",
       "    </tr>\n",
       "    <tr>\n",
       "      <th>6</th>\n",
       "      <td>0.007019</td>\n",
       "      <td>0.014077</td>\n",
       "    </tr>\n",
       "    <tr>\n",
       "      <th>7</th>\n",
       "      <td>0.011486</td>\n",
       "      <td>0.013655</td>\n",
       "    </tr>\n",
       "    <tr>\n",
       "      <th>8</th>\n",
       "      <td>0.010952</td>\n",
       "      <td>0.013989</td>\n",
       "    </tr>\n",
       "    <tr>\n",
       "      <th>9</th>\n",
       "      <td>0.009404</td>\n",
       "      <td>0.013568</td>\n",
       "    </tr>\n",
       "  </tbody>\n",
       "</table>\n",
       "</div>"
      ],
      "text/plain": [
       "         he       she\n",
       "0  0.020264  0.000011\n",
       "1  0.016356  0.000849\n",
       "2  0.017832  0.000680\n",
       "3  0.014221  0.001241\n",
       "4  0.011475  0.014843\n",
       "5  0.009785  0.014215\n",
       "6  0.007019  0.014077\n",
       "7  0.011486  0.013655\n",
       "8  0.010952  0.013989\n",
       "9  0.009404  0.013568"
      ]
     },
     "execution_count": 24,
     "metadata": {},
     "output_type": "execute_result"
    }
   ],
   "source": [
    "results = results[['he', 'she']]\n",
    "results"
   ]
  },
  {
   "cell_type": "markdown",
   "metadata": {},
   "source": [
    "## Copy our author and filename back over"
   ]
  },
  {
   "cell_type": "code",
   "execution_count": 25,
   "metadata": {},
   "outputs": [
    {
     "name": "stderr",
     "output_type": "stream",
     "text": [
      "/usr/local/lib/python3.6/site-packages/ipykernel_launcher.py:1: SettingWithCopyWarning: \n",
      "A value is trying to be set on a copy of a slice from a DataFrame.\n",
      "Try using .loc[row_indexer,col_indexer] = value instead\n",
      "\n",
      "See the caveats in the documentation: http://pandas.pydata.org/pandas-docs/stable/indexing.html#indexing-view-versus-copy\n",
      "  \"\"\"Entry point for launching an IPython kernel.\n",
      "/usr/local/lib/python3.6/site-packages/ipykernel_launcher.py:2: SettingWithCopyWarning: \n",
      "A value is trying to be set on a copy of a slice from a DataFrame.\n",
      "Try using .loc[row_indexer,col_indexer] = value instead\n",
      "\n",
      "See the caveats in the documentation: http://pandas.pydata.org/pandas-docs/stable/indexing.html#indexing-view-versus-copy\n",
      "  \n"
     ]
    },
    {
     "data": {
      "text/html": [
       "<div>\n",
       "<style>\n",
       "    .dataframe thead tr:only-child th {\n",
       "        text-align: right;\n",
       "    }\n",
       "\n",
       "    .dataframe thead th {\n",
       "        text-align: left;\n",
       "    }\n",
       "\n",
       "    .dataframe tbody tr th {\n",
       "        vertical-align: top;\n",
       "    }\n",
       "</style>\n",
       "<table border=\"1\" class=\"dataframe\">\n",
       "  <thead>\n",
       "    <tr style=\"text-align: right;\">\n",
       "      <th></th>\n",
       "      <th>he</th>\n",
       "      <th>she</th>\n",
       "      <th>author</th>\n",
       "      <th>filename</th>\n",
       "    </tr>\n",
       "  </thead>\n",
       "  <tbody>\n",
       "    <tr>\n",
       "      <th>0</th>\n",
       "      <td>0.020264</td>\n",
       "      <td>0.000011</td>\n",
       "      <td>JRR Tolkien</td>\n",
       "      <td>tolkien/Hobbit, The - J. R. R. Tolkien - 1960.txt</td>\n",
       "    </tr>\n",
       "    <tr>\n",
       "      <th>1</th>\n",
       "      <td>0.016356</td>\n",
       "      <td>0.000849</td>\n",
       "      <td>JRR Tolkien</td>\n",
       "      <td>tolkien/Lord of the Rings - 01 - The Fellowshi...</td>\n",
       "    </tr>\n",
       "    <tr>\n",
       "      <th>2</th>\n",
       "      <td>0.017832</td>\n",
       "      <td>0.000680</td>\n",
       "      <td>JRR Tolkien</td>\n",
       "      <td>tolkien/Lord of the Rings - 02 - The Two Tower...</td>\n",
       "    </tr>\n",
       "    <tr>\n",
       "      <th>3</th>\n",
       "      <td>0.014221</td>\n",
       "      <td>0.001241</td>\n",
       "      <td>JRR Tolkien</td>\n",
       "      <td>tolkien/Lord of the Rings - 03 - The Return of...</td>\n",
       "    </tr>\n",
       "    <tr>\n",
       "      <th>4</th>\n",
       "      <td>0.011475</td>\n",
       "      <td>0.014843</td>\n",
       "      <td>Jane Austen</td>\n",
       "      <td>austen/emma - 1815.txt</td>\n",
       "    </tr>\n",
       "    <tr>\n",
       "      <th>5</th>\n",
       "      <td>0.009785</td>\n",
       "      <td>0.014215</td>\n",
       "      <td>Jane Austen</td>\n",
       "      <td>austen/mansfield_park - 1814.txt</td>\n",
       "    </tr>\n",
       "    <tr>\n",
       "      <th>6</th>\n",
       "      <td>0.007019</td>\n",
       "      <td>0.014077</td>\n",
       "      <td>Jane Austen</td>\n",
       "      <td>austen/northanger_abbey - 1817.txt</td>\n",
       "    </tr>\n",
       "    <tr>\n",
       "      <th>7</th>\n",
       "      <td>0.011486</td>\n",
       "      <td>0.013655</td>\n",
       "      <td>Jane Austen</td>\n",
       "      <td>austen/persuasion - 1817.txt</td>\n",
       "    </tr>\n",
       "    <tr>\n",
       "      <th>8</th>\n",
       "      <td>0.010952</td>\n",
       "      <td>0.013989</td>\n",
       "      <td>Jane Austen</td>\n",
       "      <td>austen/pride-and-prejudice - 1813.txt</td>\n",
       "    </tr>\n",
       "    <tr>\n",
       "      <th>9</th>\n",
       "      <td>0.009404</td>\n",
       "      <td>0.013568</td>\n",
       "      <td>Jane Austen</td>\n",
       "      <td>austen/sense-and-sensibility - 1811.txt</td>\n",
       "    </tr>\n",
       "  </tbody>\n",
       "</table>\n",
       "</div>"
      ],
      "text/plain": [
       "         he       she       author  \\\n",
       "0  0.020264  0.000011  JRR Tolkien   \n",
       "1  0.016356  0.000849  JRR Tolkien   \n",
       "2  0.017832  0.000680  JRR Tolkien   \n",
       "3  0.014221  0.001241  JRR Tolkien   \n",
       "4  0.011475  0.014843  Jane Austen   \n",
       "5  0.009785  0.014215  Jane Austen   \n",
       "6  0.007019  0.014077  Jane Austen   \n",
       "7  0.011486  0.013655  Jane Austen   \n",
       "8  0.010952  0.013989  Jane Austen   \n",
       "9  0.009404  0.013568  Jane Austen   \n",
       "\n",
       "                                            filename  \n",
       "0  tolkien/Hobbit, The - J. R. R. Tolkien - 1960.txt  \n",
       "1  tolkien/Lord of the Rings - 01 - The Fellowshi...  \n",
       "2  tolkien/Lord of the Rings - 02 - The Two Tower...  \n",
       "3  tolkien/Lord of the Rings - 03 - The Return of...  \n",
       "4                             austen/emma - 1815.txt  \n",
       "5                   austen/mansfield_park - 1814.txt  \n",
       "6                 austen/northanger_abbey - 1817.txt  \n",
       "7                       austen/persuasion - 1817.txt  \n",
       "8              austen/pride-and-prejudice - 1813.txt  \n",
       "9            austen/sense-and-sensibility - 1811.txt  "
      ]
     },
     "execution_count": 25,
     "metadata": {},
     "output_type": "execute_result"
    }
   ],
   "source": [
    "results['author'] = df['author']\n",
    "results['filename'] = df['filename']\n",
    "results"
   ]
  },
  {
   "cell_type": "code",
   "execution_count": 28,
   "metadata": {},
   "outputs": [
    {
     "data": {
      "text/plain": [
       "<matplotlib.text.Text at 0x10b9239b0>"
      ]
     },
     "execution_count": 28,
     "metadata": {},
     "output_type": "execute_result"
    },
    {
     "data": {
      "image/png": "[encoded data removed]",
      "text/plain": [
       "<matplotlib.figure.Figure at 0x10b90acc0>"
      ]
     },
     "metadata": {},
     "output_type": "display_data"
    }
   ],
   "source": [
    "import matplotlib.pyplot as plt\n",
    "\n",
    "colormap = {\n",
    "    'Jane Austen': '#66c2a5',\n",
    "    'JRR Tolkien': '#fc8d62'\n",
    "}\n",
    "colors = df.author.apply(lambda authorname: colormap[authorname])\n",
    "\n",
    "ax = results.plot(y='she', kind='barh', x='filename', color=[colors], legend=False)\n",
    "ax.set_title(\"JRR Tolkien is a man's man\")"
   ]
  },
  {
   "cell_type": "code",
   "execution_count": 29,
   "metadata": {
    "scrolled": true
   },
   "outputs": [
    {
     "data": {
      "text/plain": [
       "<matplotlib.text.Text at 0x10b944f98>"
      ]
     },
     "execution_count": 29,
     "metadata": {},
     "output_type": "execute_result"
    },
    {
     "data": {
      "image/png": "[encoded data removed]",
      "text/plain": [
       "<matplotlib.figure.Figure at 0x10b92aba8>"
      ]
     },
     "metadata": {},
     "output_type": "display_data"
    }
   ],
   "source": [
    "import matplotlib.pyplot as plt\n",
    "\n",
    "colormap = {\n",
    "    'Jane Austen': '#66c2a5',\n",
    "    'JRR Tolkien': '#fc8d62'\n",
    "}\n",
    "colors = df.author.apply(lambda authorname: colormap[authorname])\n",
    "\n",
    "ax = results.plot(x='she', y='he', kind='scatter', color=colors, legend=False, xlim=(0,0.02), ylim=(0,0.02))\n",
    "ax.set_title(\"JRR Tolkien is a man's man\")"
   ]
  },
  {
   "cell_type": "code",
   "execution_count": null,
   "metadata": {
    "collapsed": true
   },
   "outputs": [],
   "source": []
  }
 ],
 "metadata": {
  "kernelspec": {
   "display_name": "Python 3",
   "language": "python",
   "name": "python3"
  },
  "language_info": {
   "codemirror_mode": {
    "name": "ipython",
    "version": 3
   },
   "file_extension": ".py",
   "mimetype": "text/x-python",
   "name": "python",
   "nbconvert_exporter": "python",
   "pygments_lexer": "ipython3",
   "version": "3.6.1"
  }
 },
 "nbformat": 4,
 "nbformat_minor": 2
}
