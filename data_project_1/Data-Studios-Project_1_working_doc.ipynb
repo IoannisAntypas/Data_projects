{
 "cells": [
  {
   "cell_type": "markdown",
   "metadata": {},
   "source": [
    "# Data Studios project 1"
   ]
  },
  {
   "cell_type": "code",
   "execution_count": 2,
   "metadata": {},
   "outputs": [
    {
     "name": "stdout",
     "output_type": "stream",
     "text": [
      "/Users/ioannisantypas/Desktop\n"
     ]
    }
   ],
   "source": [
    "cd Desktop/"
   ]
  },
  {
   "cell_type": "code",
   "execution_count": 3,
   "metadata": {},
   "outputs": [
    {
     "name": "stdout",
     "output_type": "stream",
     "text": [
      "19511385_10158959370980261_7376014237931049395_n.jpg\r\n",
      "\u001b[34mJupyter Notebook.app\u001b[m\u001b[m/\r\n",
      "\u001b[34mLede\u001b[m\u001b[m/\r\n",
      "Screen Shot 2017-07-09 at 12.57.58 PM.png\r\n",
      "Screen Shot 2017-07-09 at 3.17.20 PM.png\r\n",
      "\u001b[34mcolumbia\u001b[m\u001b[m/\r\n",
      "\u001b[34mdata project\u001b[m\u001b[m/\r\n",
      "\u001b[34mdata-studios\u001b[m\u001b[m/\r\n",
      "\u001b[34mdata_is_beautiful\u001b[m\u001b[m/\r\n",
      "governmentdebt.csv\r\n",
      "hero_Okja-2017.jpg\r\n",
      "pension.csv\r\n",
      "www.bbc.com:news:business-39947942.webloc\r\n"
     ]
    }
   ],
   "source": [
    "ls\n"
   ]
  },
  {
   "cell_type": "code",
   "execution_count": 4,
   "metadata": {},
   "outputs": [
    {
     "name": "stdout",
     "output_type": "stream",
     "text": [
      "/Users/ioannisantypas/Desktop/Lede\n"
     ]
    }
   ],
   "source": [
    "cd Lede/"
   ]
  },
  {
   "cell_type": "code",
   "execution_count": 5,
   "metadata": {},
   "outputs": [
    {
     "name": "stdout",
     "output_type": "stream",
     "text": [
      "/Users/ioannisantypas/Desktop\n"
     ]
    }
   ],
   "source": [
    "cd .."
   ]
  },
  {
   "cell_type": "code",
   "execution_count": 6,
   "metadata": {},
   "outputs": [
    {
     "name": "stdout",
     "output_type": "stream",
     "text": [
      "19511385_10158959370980261_7376014237931049395_n.jpg\r\n",
      "\u001b[34mJupyter Notebook.app\u001b[m\u001b[m/\r\n",
      "\u001b[34mLede\u001b[m\u001b[m/\r\n",
      "Screen Shot 2017-07-09 at 12.57.58 PM.png\r\n",
      "Screen Shot 2017-07-09 at 3.17.20 PM.png\r\n",
      "\u001b[34mcolumbia\u001b[m\u001b[m/\r\n",
      "\u001b[34mdata project\u001b[m\u001b[m/\r\n",
      "\u001b[34mdata-studios\u001b[m\u001b[m/\r\n",
      "\u001b[34mdata_is_beautiful\u001b[m\u001b[m/\r\n",
      "governmentdebt.csv\r\n",
      "hero_Okja-2017.jpg\r\n",
      "pension.csv\r\n",
      "www.bbc.com:news:business-39947942.webloc\r\n"
     ]
    }
   ],
   "source": [
    "ls"
   ]
  },
  {
   "cell_type": "code",
   "execution_count": 7,
   "metadata": {},
   "outputs": [
    {
     "name": "stdout",
     "output_type": "stream",
     "text": [
      "/Users/ioannisantypas/Desktop/data-studios\n"
     ]
    }
   ],
   "source": [
    "cd data-studios/"
   ]
  },
  {
   "cell_type": "code",
   "execution_count": 8,
   "metadata": {},
   "outputs": [
    {
     "name": "stdout",
     "output_type": "stream",
     "text": [
      "\u001b[34mData_projects\u001b[m\u001b[m/  \u001b[34mtrial datasets\u001b[m\u001b[m/\r\n"
     ]
    }
   ],
   "source": [
    "ls"
   ]
  },
  {
   "cell_type": "code",
   "execution_count": 9,
   "metadata": {},
   "outputs": [
    {
     "name": "stdout",
     "output_type": "stream",
     "text": [
      "/Users/ioannisantypas/Desktop/data-studios/Data_projects\n"
     ]
    }
   ],
   "source": [
    "cd Data_projects/"
   ]
  },
  {
   "cell_type": "code",
   "execution_count": 10,
   "metadata": {},
   "outputs": [
    {
     "name": "stdout",
     "output_type": "stream",
     "text": [
      "README.md                   \u001b[34mdocs\u001b[m\u001b[m/\r\n",
      "\u001b[34mTest stuff\u001b[m\u001b[m/                 index.md\r\n",
      "\u001b[34mdata_project_1\u001b[m\u001b[m/             medium-missing_person_file\r\n"
     ]
    }
   ],
   "source": [
    "ls"
   ]
  },
  {
   "cell_type": "code",
   "execution_count": 11,
   "metadata": {},
   "outputs": [
    {
     "name": "stdout",
     "output_type": "stream",
     "text": [
      "/Users/ioannisantypas/Desktop/data-studios/Data_projects/data_project_1\n"
     ]
    }
   ],
   "source": [
    "cd data_project_1/"
   ]
  },
  {
   "cell_type": "code",
   "execution_count": 12,
   "metadata": {},
   "outputs": [
    {
     "name": "stdout",
     "output_type": "stream",
     "text": [
      "mm6539a3.pdf\r\n"
     ]
    }
   ],
   "source": [
    "ls"
   ]
  },
  {
   "cell_type": "markdown",
   "metadata": {},
   "source": [
    "# Part 1 Working with the MMR dataset"
   ]
  },
  {
   "cell_type": "code",
   "execution_count": 259,
   "metadata": {
    "collapsed": true
   },
   "outputs": [],
   "source": [
    "import requests as rq\n",
    "from bs4 import BeautifulSoup\n",
    "import pandas as pd\n",
    "import selenium\n",
    "from selenium import webdriver\n",
    "driver = webdriver.Chrome()\n",
    "import time\n",
    "from selenium.webdriver.common.keys import Keys\n",
    "from selenium.webdriver.support.ui import Select\n",
    "import numpy as np\n",
    "from numpy import array\n",
    "import re\n",
    "import geopandas as gpd\n",
    "from geopandas import GeoDataFrame\n",
    "from shapely.geometry import Point\n",
    "%matplotlib inline\n",
    "from shapely.geometry import Polygon\n",
    "\n",
    "\n",
    "\n"
   ]
  },
  {
   "cell_type": "code",
   "execution_count": 209,
   "metadata": {},
   "outputs": [],
   "source": [
    "driver.get('https://www.cdc.gov/vaccines/imz-managers/coverage/schoolvaxview/pubs-resources.html')\n",
    "driver.find_element_by_xpath(\"//*[@id='contentArea']/div[1]/div/ul/li[1]/a\").click()   \n",
    "scrape_years_15_16 = []\n",
    "years_15_16 = []\n",
    "table15_16 = driver.find_element_by_xpath('//*[@id=\"CDCTable_0\"]/tbody')\n",
    "for i in table15_16.find_elements_by_xpath('.//td'):\n",
    "    scrape_years_15_16.append(i.text)\n",
    "del(scrape_years_15_16[0:5])\n",
    "chunks = [scrape_years_15_16[x:x+9] for x in range(0, len(scrape_years_15_16), 9)]\n",
    "df2015_16 =  pd.DataFrame(chunks, columns=['State/Area', 'Delete', 'Delete', 'Delete', 'Delete', 'MMR2 doses(%) 2015/16', 'Delete', 'Delete', 'Delete'])  \n",
    "del(df2015_16['Delete'])\n",
    "df2015_16.to_csv(\"2015_16.csv\", index=False) \n",
    "\n",
    "\n",
    "\n"
   ]
  },
  {
   "cell_type": "code",
   "execution_count": 210,
   "metadata": {},
   "outputs": [],
   "source": [
    "driver.back()\n",
    "driver.get('https://www.cdc.gov/vaccines/imz-managers/coverage/schoolvaxview/pubs-resources.html')\n",
    "driver.find_element_by_xpath(\"//*[@id='contentArea']/div[1]/div/ul/li[2]/a\").click()   \n",
    "scrape_years_14_15 = []\n",
    "years_14_15 = []\n",
    "table14_15 = driver.find_element_by_xpath('//*[@id=\"table-5\"]/tbody')\n",
    "for i in table14_15.find_elements_by_xpath('.//td'):\n",
    "    scrape_years_14_15.append(i.text)\n",
    "    \n",
    "del(scrape_years_14_15[0:9])\n",
    "chunks = [scrape_years_14_15[x:x+8] for x in range(0, len(scrape_years_14_15), 8)]\n",
    "df2014_15 =  pd.DataFrame(chunks, columns=['State/Area', 'Delete', 'Delete', 'Delete', 'Delete', 'MMR2 doses(%) 2014/15', 'Delete', 'Delete'])  \n",
    "del(df2014_15['Delete'])\n",
    "df2014_15.to_csv(\"2014_15.csv\", index=False) \n",
    "\n",
    "\n",
    "\n",
    "\n"
   ]
  },
  {
   "cell_type": "code",
   "execution_count": 208,
   "metadata": {
    "scrolled": true
   },
   "outputs": [
    {
     "data": {
      "text/html": [
       "<div>\n",
       "<style>\n",
       "    .dataframe thead tr:only-child th {\n",
       "        text-align: right;\n",
       "    }\n",
       "\n",
       "    .dataframe thead th {\n",
       "        text-align: left;\n",
       "    }\n",
       "\n",
       "    .dataframe tbody tr th {\n",
       "        vertical-align: top;\n",
       "    }\n",
       "</style>\n",
       "<table border=\"1\" class=\"dataframe\">\n",
       "  <thead>\n",
       "    <tr style=\"text-align: right;\">\n",
       "      <th></th>\n",
       "      <th>State/Area</th>\n",
       "      <th>MMR2 doses(%) 2014/15</th>\n",
       "    </tr>\n",
       "  </thead>\n",
       "  <tbody>\n",
       "    <tr>\n",
       "      <th>0</th>\n",
       "      <td>Alabama††</td>\n",
       "      <td>≥93.5</td>\n",
       "    </tr>\n",
       "    <tr>\n",
       "      <th>1</th>\n",
       "      <td>Arizona</td>\n",
       "      <td>94.2</td>\n",
       "    </tr>\n",
       "    <tr>\n",
       "      <th>2</th>\n",
       "      <td>Arkansas§§</td>\n",
       "      <td>88.4</td>\n",
       "    </tr>\n",
       "    <tr>\n",
       "      <th>3</th>\n",
       "      <td>California§§</td>\n",
       "      <td>92.6</td>\n",
       "    </tr>\n",
       "    <tr>\n",
       "      <th>4</th>\n",
       "      <td>Connecticut††</td>\n",
       "      <td>97.0</td>\n",
       "    </tr>\n",
       "    <tr>\n",
       "      <th>5</th>\n",
       "      <td>District of Columbia††</td>\n",
       "      <td>90.4</td>\n",
       "    </tr>\n",
       "    <tr>\n",
       "      <th>6</th>\n",
       "      <td>Florida††¶¶</td>\n",
       "      <td>≥93.3</td>\n",
       "    </tr>\n",
       "    <tr>\n",
       "      <th>7</th>\n",
       "      <td>Georgia††</td>\n",
       "      <td>≥94.0</td>\n",
       "    </tr>\n",
       "    <tr>\n",
       "      <th>8</th>\n",
       "      <td>Idaho††</td>\n",
       "      <td>89.5</td>\n",
       "    </tr>\n",
       "    <tr>\n",
       "      <th>9</th>\n",
       "      <td>Illinois††</td>\n",
       "      <td>94.7</td>\n",
       "    </tr>\n",
       "    <tr>\n",
       "      <th>10</th>\n",
       "      <td>Indiana</td>\n",
       "      <td>89.3</td>\n",
       "    </tr>\n",
       "    <tr>\n",
       "      <th>11</th>\n",
       "      <td>Iowa</td>\n",
       "      <td>≥91.9</td>\n",
       "    </tr>\n",
       "    <tr>\n",
       "      <th>12</th>\n",
       "      <td>Kentucky§§</td>\n",
       "      <td>92.7</td>\n",
       "    </tr>\n",
       "    <tr>\n",
       "      <th>13</th>\n",
       "      <td>Louisiana††</td>\n",
       "      <td>96.8</td>\n",
       "    </tr>\n",
       "    <tr>\n",
       "      <th>14</th>\n",
       "      <td>Maine§§</td>\n",
       "      <td>92.1</td>\n",
       "    </tr>\n",
       "    <tr>\n",
       "      <th>15</th>\n",
       "      <td>Maryland§§</td>\n",
       "      <td>99.1</td>\n",
       "    </tr>\n",
       "    <tr>\n",
       "      <th>16</th>\n",
       "      <td>Massachusetts††§§</td>\n",
       "      <td>94.7</td>\n",
       "    </tr>\n",
       "    <tr>\n",
       "      <th>17</th>\n",
       "      <td>Michigan††</td>\n",
       "      <td>94.3</td>\n",
       "    </tr>\n",
       "    <tr>\n",
       "      <th>18</th>\n",
       "      <td>Minnesota</td>\n",
       "      <td>93.5</td>\n",
       "    </tr>\n",
       "    <tr>\n",
       "      <th>19</th>\n",
       "      <td>Mississippi††</td>\n",
       "      <td>≥99.2</td>\n",
       "    </tr>\n",
       "    <tr>\n",
       "      <th>20</th>\n",
       "      <td>Missouri††</td>\n",
       "      <td>95.8</td>\n",
       "    </tr>\n",
       "    <tr>\n",
       "      <th>21</th>\n",
       "      <td>Montana</td>\n",
       "      <td>94.6</td>\n",
       "    </tr>\n",
       "    <tr>\n",
       "      <th>22</th>\n",
       "      <td>Nebraska††§§</td>\n",
       "      <td>96.0</td>\n",
       "    </tr>\n",
       "    <tr>\n",
       "      <th>23</th>\n",
       "      <td>New Hampshire</td>\n",
       "      <td>≥91.4</td>\n",
       "    </tr>\n",
       "    <tr>\n",
       "      <th>24</th>\n",
       "      <td>New Jersey§§</td>\n",
       "      <td>≥92.3</td>\n",
       "    </tr>\n",
       "    <tr>\n",
       "      <th>25</th>\n",
       "      <td>New York State (including New York City)††§§</td>\n",
       "      <td>98.2</td>\n",
       "    </tr>\n",
       "    <tr>\n",
       "      <th>26</th>\n",
       "      <td>North Carolina</td>\n",
       "      <td>98.5</td>\n",
       "    </tr>\n",
       "    <tr>\n",
       "      <th>27</th>\n",
       "      <td>North Dakota</td>\n",
       "      <td>89.8</td>\n",
       "    </tr>\n",
       "    <tr>\n",
       "      <th>28</th>\n",
       "      <td>Ohio</td>\n",
       "      <td>91.9</td>\n",
       "    </tr>\n",
       "    <tr>\n",
       "      <th>29</th>\n",
       "      <td>Oklahoma§§</td>\n",
       "      <td>90.3</td>\n",
       "    </tr>\n",
       "    <tr>\n",
       "      <th>30</th>\n",
       "      <td>Oregon†† §§</td>\n",
       "      <td>94.1</td>\n",
       "    </tr>\n",
       "    <tr>\n",
       "      <th>31</th>\n",
       "      <td>Pennsylvania§§</td>\n",
       "      <td>91.7</td>\n",
       "    </tr>\n",
       "    <tr>\n",
       "      <th>32</th>\n",
       "      <td>Rhode Island§§</td>\n",
       "      <td>95.7</td>\n",
       "    </tr>\n",
       "    <tr>\n",
       "      <th>33</th>\n",
       "      <td>South Dakota††</td>\n",
       "      <td>97.1</td>\n",
       "    </tr>\n",
       "    <tr>\n",
       "      <th>34</th>\n",
       "      <td>Tennessee††</td>\n",
       "      <td>≥95.1</td>\n",
       "    </tr>\n",
       "    <tr>\n",
       "      <th>35</th>\n",
       "      <td>Texas (including Houston)§§†††</td>\n",
       "      <td>97.4</td>\n",
       "    </tr>\n",
       "    <tr>\n",
       "      <th>36</th>\n",
       "      <td>Utah††</td>\n",
       "      <td>94.0</td>\n",
       "    </tr>\n",
       "    <tr>\n",
       "      <th>37</th>\n",
       "      <td>Vermont††</td>\n",
       "      <td>92.7</td>\n",
       "    </tr>\n",
       "    <tr>\n",
       "      <th>38</th>\n",
       "      <td>Washington</td>\n",
       "      <td>89.4</td>\n",
       "    </tr>\n",
       "    <tr>\n",
       "      <th>39</th>\n",
       "      <td>West Virginia</td>\n",
       "      <td>97.6</td>\n",
       "    </tr>\n",
       "    <tr>\n",
       "      <th>40</th>\n",
       "      <td>Wyoming§§§</td>\n",
       "      <td>96.8</td>\n",
       "    </tr>\n",
       "  </tbody>\n",
       "</table>\n",
       "</div>"
      ],
      "text/plain": [
       "                                      State/Area MMR2 doses(%) 2014/15\n",
       "0                                      Alabama††                 ≥93.5\n",
       "1                                        Arizona                  94.2\n",
       "2                                     Arkansas§§                  88.4\n",
       "3                                   California§§                  92.6\n",
       "4                                  Connecticut††                  97.0\n",
       "5                         District of Columbia††                  90.4\n",
       "6                                    Florida††¶¶                 ≥93.3\n",
       "7                                      Georgia††                 ≥94.0\n",
       "8                                        Idaho††                  89.5\n",
       "9                                     Illinois††                  94.7\n",
       "10                                       Indiana                  89.3\n",
       "11                                          Iowa                 ≥91.9\n",
       "12                                    Kentucky§§                  92.7\n",
       "13                                   Louisiana††                  96.8\n",
       "14                                       Maine§§                  92.1\n",
       "15                                    Maryland§§                  99.1\n",
       "16                             Massachusetts††§§                  94.7\n",
       "17                                    Michigan††                  94.3\n",
       "18                                     Minnesota                  93.5\n",
       "19                                 Mississippi††                 ≥99.2\n",
       "20                                    Missouri††                  95.8\n",
       "21                                       Montana                  94.6\n",
       "22                                  Nebraska††§§                  96.0\n",
       "23                                 New Hampshire                 ≥91.4\n",
       "24                                  New Jersey§§                 ≥92.3\n",
       "25  New York State (including New York City)††§§                  98.2\n",
       "26                                North Carolina                  98.5\n",
       "27                                  North Dakota                  89.8\n",
       "28                                          Ohio                  91.9\n",
       "29                                    Oklahoma§§                  90.3\n",
       "30                                   Oregon†† §§                  94.1\n",
       "31                                Pennsylvania§§                  91.7\n",
       "32                                Rhode Island§§                  95.7\n",
       "33                                South Dakota††                  97.1\n",
       "34                                   Tennessee††                 ≥95.1\n",
       "35                Texas (including Houston)§§†††                  97.4\n",
       "36                                        Utah††                  94.0\n",
       "37                                     Vermont††                  92.7\n",
       "38                                    Washington                  89.4\n",
       "39                                 West Virginia                  97.6\n",
       "40                                    Wyoming§§§                  96.8"
      ]
     },
     "execution_count": 208,
     "metadata": {},
     "output_type": "execute_result"
    }
   ],
   "source": [
    "df2014_15"
   ]
  },
  {
   "cell_type": "code",
   "execution_count": 265,
   "metadata": {},
   "outputs": [],
   "source": [
    "df_oubreaks = pd.read_csv('Source_data_for_CFR_vaccine_map-Sheet1.csv', nrows=386)"
   ]
  },
  {
   "cell_type": "code",
   "execution_count": 267,
   "metadata": {},
   "outputs": [
    {
     "data": {
      "text/html": [
       "<div>\n",
       "<style>\n",
       "    .dataframe thead tr:only-child th {\n",
       "        text-align: right;\n",
       "    }\n",
       "\n",
       "    .dataframe thead th {\n",
       "        text-align: left;\n",
       "    }\n",
       "\n",
       "    .dataframe tbody tr th {\n",
       "        vertical-align: top;\n",
       "    }\n",
       "</style>\n",
       "<table border=\"1\" class=\"dataframe\">\n",
       "  <thead>\n",
       "    <tr style=\"text-align: right;\">\n",
       "      <th></th>\n",
       "      <th>X</th>\n",
       "      <th>Y</th>\n",
       "      <th>Category</th>\n",
       "      <th>Outbreak</th>\n",
       "      <th>Location</th>\n",
       "      <th>Continent</th>\n",
       "      <th>Lat</th>\n",
       "      <th>Long</th>\n",
       "      <th>Date</th>\n",
       "      <th>Year</th>\n",
       "      <th>Cases</th>\n",
       "      <th>Fatalities</th>\n",
       "      <th>Impact Scale</th>\n",
       "      <th>Source Citation</th>\n",
       "      <th>Source</th>\n",
       "    </tr>\n",
       "  </thead>\n",
       "  <tbody>\n",
       "    <tr>\n",
       "      <th>381</th>\n",
       "      <td>-9.862560</td>\n",
       "      <td>10.169370</td>\n",
       "      <td>Other</td>\n",
       "      <td>Ebola</td>\n",
       "      <td>Guinea</td>\n",
       "      <td>Africa</td>\n",
       "      <td>10.169370</td>\n",
       "      <td>-9.862560</td>\n",
       "      <td>12/2013-6/2014</td>\n",
       "      <td>2014</td>\n",
       "      <td>233</td>\n",
       "      <td>0</td>\n",
       "      <td>Epidemic</td>\n",
       "      <td>CDC. \"Outbreak of Ebola in Guinea, Liberia, an...</td>\n",
       "      <td>http://www.cdc.gov/vhf/ebola/outbreaks/guinea/</td>\n",
       "    </tr>\n",
       "    <tr>\n",
       "      <th>382</th>\n",
       "      <td>-9.862560</td>\n",
       "      <td>10.169370</td>\n",
       "      <td>Measles</td>\n",
       "      <td>Measles</td>\n",
       "      <td>Guinea</td>\n",
       "      <td>Africa</td>\n",
       "      <td>10.169370</td>\n",
       "      <td>-9.862560</td>\n",
       "      <td>11/2013-6/2014</td>\n",
       "      <td>2014</td>\n",
       "      <td>129</td>\n",
       "      <td>12</td>\n",
       "      <td>Epidemic</td>\n",
       "      <td>AllAfrica. \"Guinea: Curbing Guinea's Other Out...</td>\n",
       "      <td>http://allafrica.com/stories/201406121441.html</td>\n",
       "    </tr>\n",
       "    <tr>\n",
       "      <th>383</th>\n",
       "      <td>-14.751950</td>\n",
       "      <td>12.008000</td>\n",
       "      <td>Measles</td>\n",
       "      <td>Measles</td>\n",
       "      <td>Guinea</td>\n",
       "      <td>Africa</td>\n",
       "      <td>12.008000</td>\n",
       "      <td>-14.751950</td>\n",
       "      <td>3/2015</td>\n",
       "      <td>2015</td>\n",
       "      <td>12</td>\n",
       "      <td>0</td>\n",
       "      <td>Cluster</td>\n",
       "      <td>African Press Agency. \"G/Bissau records 12 mea...</td>\n",
       "      <td>http://en.starafrica.com/news/gbissau-records-...</td>\n",
       "    </tr>\n",
       "    <tr>\n",
       "      <th>384</th>\n",
       "      <td>-14.751950</td>\n",
       "      <td>12.008000</td>\n",
       "      <td>Measles</td>\n",
       "      <td>Measles</td>\n",
       "      <td>Guinea</td>\n",
       "      <td>Africa</td>\n",
       "      <td>12.008000</td>\n",
       "      <td>-14.751950</td>\n",
       "      <td>4/2017</td>\n",
       "      <td>2017</td>\n",
       "      <td>3468</td>\n",
       "      <td>14</td>\n",
       "      <td>Epidemic</td>\n",
       "      <td>Prusak, Brienne. \"Guinea: Battling a Large-Sca...</td>\n",
       "      <td>http://www.doctorswithoutborders.org/article/d...</td>\n",
       "    </tr>\n",
       "    <tr>\n",
       "      <th>385</th>\n",
       "      <td>-72.285215</td>\n",
       "      <td>18.971187</td>\n",
       "      <td>Other</td>\n",
       "      <td>Diphtheria</td>\n",
       "      <td>Haiti</td>\n",
       "      <td>North America</td>\n",
       "      <td>18.971187</td>\n",
       "      <td>-72.285215</td>\n",
       "      <td>10/2009</td>\n",
       "      <td>2009</td>\n",
       "      <td>33</td>\n",
       "      <td>15</td>\n",
       "      <td>Cluster</td>\n",
       "      <td>Berger, Stephen.</td>\n",
       "      <td>Diphtheria: Global Status 2010</td>\n",
       "    </tr>\n",
       "  </tbody>\n",
       "</table>\n",
       "</div>"
      ],
      "text/plain": [
       "             X          Y Category    Outbreak Location      Continent  \\\n",
       "381  -9.862560  10.169370    Other       Ebola   Guinea         Africa   \n",
       "382  -9.862560  10.169370  Measles     Measles   Guinea         Africa   \n",
       "383 -14.751950  12.008000  Measles     Measles   Guinea         Africa   \n",
       "384 -14.751950  12.008000  Measles     Measles   Guinea         Africa   \n",
       "385 -72.285215  18.971187    Other  Diphtheria    Haiti  North America   \n",
       "\n",
       "           Lat       Long            Date  Year  Cases  Fatalities  \\\n",
       "381  10.169370  -9.862560  12/2013-6/2014  2014    233           0   \n",
       "382  10.169370  -9.862560  11/2013-6/2014  2014    129          12   \n",
       "383  12.008000 -14.751950          3/2015  2015     12           0   \n",
       "384  12.008000 -14.751950          4/2017  2017   3468          14   \n",
       "385  18.971187 -72.285215         10/2009  2009     33          15   \n",
       "\n",
       "    Impact Scale                                    Source Citation  \\\n",
       "381     Epidemic  CDC. \"Outbreak of Ebola in Guinea, Liberia, an...   \n",
       "382     Epidemic  AllAfrica. \"Guinea: Curbing Guinea's Other Out...   \n",
       "383      Cluster  African Press Agency. \"G/Bissau records 12 mea...   \n",
       "384     Epidemic  Prusak, Brienne. \"Guinea: Battling a Large-Sca...   \n",
       "385      Cluster                                  Berger, Stephen.    \n",
       "\n",
       "                                                Source  \n",
       "381     http://www.cdc.gov/vhf/ebola/outbreaks/guinea/  \n",
       "382     http://allafrica.com/stories/201406121441.html  \n",
       "383  http://en.starafrica.com/news/gbissau-records-...  \n",
       "384  http://www.doctorswithoutborders.org/article/d...  \n",
       "385                     Diphtheria: Global Status 2010  "
      ]
     },
     "execution_count": 267,
     "metadata": {},
     "output_type": "execute_result"
    }
   ],
   "source": [
    "df_oubreaks.tail()"
   ]
  },
  {
   "cell_type": "code",
   "execution_count": 268,
   "metadata": {},
   "outputs": [
    {
     "data": {
      "text/plain": [
       "North America    91\n",
       "Australia        84\n",
       "Africa           84\n",
       "Europe           60\n",
       "Asia             36\n",
       "South America    27\n",
       "Oceania           1\n",
       "Asia              1\n",
       "Europe            1\n",
       "Australia         1\n",
       "Name: Continent, dtype: int64"
      ]
     },
     "execution_count": 268,
     "metadata": {},
     "output_type": "execute_result"
    }
   ],
   "source": [
    "df_oubreaks.Continent.value_counts()"
   ]
  },
  {
   "cell_type": "code",
   "execution_count": 269,
   "metadata": {},
   "outputs": [],
   "source": [
    "df_outbreaks_USA = df_oubreaks[df_oubreaks.Continent.isin(['North America'])]"
   ]
  },
  {
   "cell_type": "code",
   "execution_count": 270,
   "metadata": {},
   "outputs": [
    {
     "data": {
      "text/html": [
       "<div>\n",
       "<style>\n",
       "    .dataframe thead tr:only-child th {\n",
       "        text-align: right;\n",
       "    }\n",
       "\n",
       "    .dataframe thead th {\n",
       "        text-align: left;\n",
       "    }\n",
       "\n",
       "    .dataframe tbody tr th {\n",
       "        vertical-align: top;\n",
       "    }\n",
       "</style>\n",
       "<table border=\"1\" class=\"dataframe\">\n",
       "  <thead>\n",
       "    <tr style=\"text-align: right;\">\n",
       "      <th></th>\n",
       "      <th>X</th>\n",
       "      <th>Y</th>\n",
       "      <th>Category</th>\n",
       "      <th>Outbreak</th>\n",
       "      <th>Location</th>\n",
       "      <th>Continent</th>\n",
       "      <th>Lat</th>\n",
       "      <th>Long</th>\n",
       "      <th>Date</th>\n",
       "      <th>Year</th>\n",
       "      <th>Cases</th>\n",
       "      <th>Fatalities</th>\n",
       "      <th>Impact Scale</th>\n",
       "      <th>Source Citation</th>\n",
       "      <th>Source</th>\n",
       "    </tr>\n",
       "  </thead>\n",
       "  <tbody>\n",
       "    <tr>\n",
       "      <th>169</th>\n",
       "      <td>-73.549136</td>\n",
       "      <td>51.939964</td>\n",
       "      <td>Mumps</td>\n",
       "      <td>Mumps</td>\n",
       "      <td>Canada (Quebec)</td>\n",
       "      <td>North America</td>\n",
       "      <td>51.939964</td>\n",
       "      <td>-73.549136</td>\n",
       "      <td>6/2009</td>\n",
       "      <td>2009</td>\n",
       "      <td>15</td>\n",
       "      <td>0</td>\n",
       "      <td>Cluster</td>\n",
       "      <td>MMWR. \"Mumps Outbreak --- New York, New Jersey...</td>\n",
       "      <td>http://www.cdc.gov/mmwr/preview/mmwrhtml/mm58d...</td>\n",
       "    </tr>\n",
       "    <tr>\n",
       "      <th>170</th>\n",
       "      <td>-116.576504</td>\n",
       "      <td>53.933271</td>\n",
       "      <td>Measles</td>\n",
       "      <td>Measles</td>\n",
       "      <td>Canada (Alberta)</td>\n",
       "      <td>North America</td>\n",
       "      <td>53.933271</td>\n",
       "      <td>-116.576504</td>\n",
       "      <td>5/2010</td>\n",
       "      <td>2010</td>\n",
       "      <td>4</td>\n",
       "      <td>0</td>\n",
       "      <td>Secondary</td>\n",
       "      <td>Nestibo, Lindsay et al. “Differentiating the W...</td>\n",
       "      <td>http://www.ncbi.nlm.nih.gov/pmc/articles/PMC33...</td>\n",
       "    </tr>\n",
       "    <tr>\n",
       "      <th>171</th>\n",
       "      <td>-127.647621</td>\n",
       "      <td>53.726668</td>\n",
       "      <td>Measles</td>\n",
       "      <td>Measles</td>\n",
       "      <td>Canada (British Columbia)</td>\n",
       "      <td>North America</td>\n",
       "      <td>53.726668</td>\n",
       "      <td>-127.647621</td>\n",
       "      <td>3/2010</td>\n",
       "      <td>2010</td>\n",
       "      <td>78</td>\n",
       "      <td>0</td>\n",
       "      <td>Secondary</td>\n",
       "      <td>BC Centre for Disease Control, \"Measles Epidem...</td>\n",
       "      <td>http://www.bccdc.ca/resource-gallery/Documents...</td>\n",
       "    </tr>\n",
       "    <tr>\n",
       "      <th>172</th>\n",
       "      <td>-75.698194</td>\n",
       "      <td>47.411572</td>\n",
       "      <td>Measles</td>\n",
       "      <td>Measles</td>\n",
       "      <td>Canada (Ottawa)</td>\n",
       "      <td>North America</td>\n",
       "      <td>47.411572</td>\n",
       "      <td>-75.698194</td>\n",
       "      <td>12/2010</td>\n",
       "      <td>2010</td>\n",
       "      <td>1</td>\n",
       "      <td>0</td>\n",
       "      <td>Isolated</td>\n",
       "      <td>Long, Jamie. \"Red alert by MOH after woman dev...</td>\n",
       "      <td>http://www.ottawasun.com/news/ottawa/2010/12/0...</td>\n",
       "    </tr>\n",
       "    <tr>\n",
       "      <th>173</th>\n",
       "      <td>-117.576500</td>\n",
       "      <td>55.933270</td>\n",
       "      <td>Measles</td>\n",
       "      <td>Measles</td>\n",
       "      <td>Canada (Alberta)</td>\n",
       "      <td>North America</td>\n",
       "      <td>55.933270</td>\n",
       "      <td>-117.576500</td>\n",
       "      <td>08/2011</td>\n",
       "      <td>2011</td>\n",
       "      <td>1</td>\n",
       "      <td>0</td>\n",
       "      <td>Isolated</td>\n",
       "      <td>Gray, Marilyn. \"Measles case confirmed at Edmo...</td>\n",
       "      <td>http://www.hintonparklander.com/ArticleDisplay...</td>\n",
       "    </tr>\n",
       "  </tbody>\n",
       "</table>\n",
       "</div>"
      ],
      "text/plain": [
       "              X          Y Category Outbreak                   Location  \\\n",
       "169  -73.549136  51.939964    Mumps    Mumps            Canada (Quebec)   \n",
       "170 -116.576504  53.933271  Measles  Measles           Canada (Alberta)   \n",
       "171 -127.647621  53.726668  Measles  Measles  Canada (British Columbia)   \n",
       "172  -75.698194  47.411572  Measles  Measles            Canada (Ottawa)   \n",
       "173 -117.576500  55.933270  Measles  Measles           Canada (Alberta)   \n",
       "\n",
       "         Continent        Lat        Long     Date  Year  Cases  Fatalities  \\\n",
       "169  North America  51.939964  -73.549136   6/2009  2009     15           0   \n",
       "170  North America  53.933271 -116.576504   5/2010  2010      4           0   \n",
       "171  North America  53.726668 -127.647621   3/2010  2010     78           0   \n",
       "172  North America  47.411572  -75.698194  12/2010  2010      1           0   \n",
       "173  North America  55.933270 -117.576500  08/2011  2011      1           0   \n",
       "\n",
       "    Impact Scale                                    Source Citation  \\\n",
       "169      Cluster  MMWR. \"Mumps Outbreak --- New York, New Jersey...   \n",
       "170    Secondary  Nestibo, Lindsay et al. “Differentiating the W...   \n",
       "171    Secondary  BC Centre for Disease Control, \"Measles Epidem...   \n",
       "172     Isolated  Long, Jamie. \"Red alert by MOH after woman dev...   \n",
       "173     Isolated  Gray, Marilyn. \"Measles case confirmed at Edmo...   \n",
       "\n",
       "                                                Source  \n",
       "169  http://www.cdc.gov/mmwr/preview/mmwrhtml/mm58d...  \n",
       "170  http://www.ncbi.nlm.nih.gov/pmc/articles/PMC33...  \n",
       "171  http://www.bccdc.ca/resource-gallery/Documents...  \n",
       "172  http://www.ottawasun.com/news/ottawa/2010/12/0...  \n",
       "173  http://www.hintonparklander.com/ArticleDisplay...  "
      ]
     },
     "execution_count": 270,
     "metadata": {},
     "output_type": "execute_result"
    }
   ],
   "source": [
    "df_outbreaks_USA.head()"
   ]
  },
  {
   "cell_type": "code",
   "execution_count": 271,
   "metadata": {
    "collapsed": true
   },
   "outputs": [],
   "source": [
    "points = df_outbreaks_USA.apply(lambda row: Point(row.Long, row.Lat), axis=1)\n",
    "points_outbreaks_USA = gpd.GeoDataFrame(df_outbreaks_USA, geometry=points)\n",
    "points_outbreaks_USA.crs = {'init': 'epsg:4326'}\n",
    "\n",
    "\n"
   ]
  },
  {
   "cell_type": "code",
   "execution_count": 272,
   "metadata": {},
   "outputs": [
    {
     "data": {
      "text/plain": [
       "<matplotlib.axes._subplots.AxesSubplot at 0x11d9cf780>"
      ]
     },
     "execution_count": 272,
     "metadata": {},
     "output_type": "execute_result"
    },
    {
     "data": {
      "image/png": "[encoded data removed]",
      "text/plain": [
       "<matplotlib.figure.Figure at 0x11d9b0c18>"
      ]
     },
     "metadata": {},
     "output_type": "display_data"
    }
   ],
   "source": [
    "points_outbreaks_USA.plot(figsize=(15,15))"
   ]
  },
  {
   "cell_type": "code",
   "execution_count": 276,
   "metadata": {},
   "outputs": [],
   "source": [
    "states = gpd.read_file('/Users/ioannisantypas/Desktop/Lede/07.03.17-class-25-foundation/13-classwork/13-homework/cb_2016_us_state_500k/cb_2016_us_state_500k.shx')\n",
    "states = states.to_crs({'init': 'epsg:4326'})\n"
   ]
  },
  {
   "cell_type": "code",
   "execution_count": 277,
   "metadata": {},
   "outputs": [],
   "source": [
    "bounds =   [[\n",
    "              -138.515625,\n",
    "              22.59372606392931\n",
    "            ],\n",
    "            [\n",
    "              -56.25,\n",
    "              22.59372606392931\n",
    "            ],\n",
    "            [\n",
    "              -56.25,\n",
    "              50.84757295365389\n",
    "            ],\n",
    "            [\n",
    "              -138.515625,\n",
    "              50.84757295365389\n",
    "            ],\n",
    "            [\n",
    "              -138.515625,\n",
    "              22.59372606392931\n",
    "            ]]\n",
    "            \n",
    "continental_poly = Polygon(bounds)\n",
    "\n",
    "states.to_crs({'init': 'epsg:4326'}).within(continental_poly).head(10)\n",
    "continental = states[states.to_crs({'init': 'epsg:4326'}).within(continental_poly)]"
   ]
  },
  {
   "cell_type": "code",
   "execution_count": 278,
   "metadata": {},
   "outputs": [
    {
     "data": {
      "text/plain": [
       "(-148.98969705000002, 158.78341805000002, 10.60152645, 73.142544549999997)"
      ]
     },
     "execution_count": 278,
     "metadata": {},
     "output_type": "execute_result"
    },
    {
     "data": {
      "image/png": "[encoded data removed]",
      "text/plain": [
       "<matplotlib.figure.Figure at 0x11fad2a20>"
      ]
     },
     "metadata": {},
     "output_type": "display_data"
    }
   ],
   "source": [
    "ax = states[states.to_crs({'init': 'epsg:4326'}).within(continental_poly)].plot(figsize=(24,24), color='lightgray')\n",
    "points_outbreaks_USA.plot(markersize=1, alpha=0.7, ax=ax, column='Outbreak', legend=True)\n",
    "ax.axis('off')\n",
    "\n"
   ]
  },
  {
   "cell_type": "code",
   "execution_count": 279,
   "metadata": {},
   "outputs": [
    {
     "data": {
      "text/plain": [
       "{'init': 'epsg:4326'}"
      ]
     },
     "execution_count": 279,
     "metadata": {},
     "output_type": "execute_result"
    }
   ],
   "source": [
    "states.crs"
   ]
  },
  {
   "cell_type": "code",
   "execution_count": 280,
   "metadata": {},
   "outputs": [
    {
     "data": {
      "text/plain": [
       "{'init': 'epsg:4326'}"
      ]
     },
     "execution_count": 280,
     "metadata": {},
     "output_type": "execute_result"
    }
   ],
   "source": [
    "points_outbreaks_USA.crs"
   ]
  },
  {
   "cell_type": "code",
   "execution_count": null,
   "metadata": {
    "collapsed": true
   },
   "outputs": [],
   "source": []
  }
 ],
 "metadata": {
  "kernelspec": {
   "display_name": "Python 3",
   "language": "python",
   "name": "python3"
  },
  "language_info": {
   "codemirror_mode": {
    "name": "ipython",
    "version": 3
   },
   "file_extension": ".py",
   "mimetype": "text/x-python",
   "name": "python",
   "nbconvert_exporter": "python",
   "pygments_lexer": "ipython3",
   "version": "3.6.1"
  }
 },
 "nbformat": 4,
 "nbformat_minor": 2
}
